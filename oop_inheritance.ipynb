{
 "metadata": {
  "language_info": {
   "codemirror_mode": {
    "name": "ipython",
    "version": 3
   },
   "file_extension": ".py",
   "mimetype": "text/x-python",
   "name": "python",
   "nbconvert_exporter": "python",
   "pygments_lexer": "ipython3",
   "version": "3.6.8-final"
  },
  "orig_nbformat": 2,
  "kernelspec": {
   "name": "python36864bitf8540139ee00427484eeaf07a0d58c9d",
   "display_name": "Python 3.6.8 64-bit"
  }
 },
 "nbformat": 4,
 "nbformat_minor": 2,
 "cells": [
  {
   "cell_type": "code",
   "execution_count": null,
   "metadata": {},
   "outputs": [],
   "source": [
    "#inherits, extend, override"
   ]
  },
  {
   "cell_type": "code",
   "execution_count": 31,
   "metadata": {},
   "outputs": [],
   "source": [
    "class Employee:\n",
    "    def __init__(self, name, age, salary):\n",
    "        self.name = name\n",
    "        self.age = age\n",
    "        self.salary = salary\n",
    "\n",
    "    \n",
    "    def work(self):\n",
    "        print(f\"{self.name} is working ..\")"
   ]
  },
  {
   "cell_type": "code",
   "execution_count": 34,
   "metadata": {},
   "outputs": [],
   "source": [
    "class SoftwareEngineer(Employee):\n",
    "    def __init__(self, name, age, salary, level):\n",
    "        super().__init__(name, age, salary)\n",
    "        self.level = level\n",
    "\n",
    "    def debug(self):\n",
    "        print(f\"{self.name} is debugging ...\")"
   ]
  },
  {
   "source": [
    "class Designer(Employee):\n",
    "    def work(self):\n",
    "        print(f\"{self.name} is designing\")\n",
    "    def draw(self):\n",
    "        print(f\"{self.name} is drawing ...\")"
   ],
   "cell_type": "code",
   "metadata": {},
   "execution_count": 42,
   "outputs": []
  },
  {
   "cell_type": "code",
   "execution_count": 46,
   "metadata": {},
   "outputs": [
    {
     "output_type": "stream",
     "name": "stdout",
     "text": [
      "shiwen is working ..\nshiwen is debugging ...\n"
     ]
    }
   ],
   "source": [
    "se = SoftwareEngineer(\"shiwen\", 25, 5000, 'senior')\n",
    "se.work()\n",
    "se.debug()"
   ]
  },
  {
   "cell_type": "code",
   "execution_count": 44,
   "metadata": {},
   "outputs": [
    {
     "output_type": "stream",
     "name": "stdout",
     "text": [
      "Philipp is designing\nPhilipp is drawing ...\n"
     ]
    }
   ],
   "source": [
    "d = Designer(\"Philipp\", 27, 7000)\n",
    "d.work()\n",
    "d.draw()"
   ]
  },
  {
   "cell_type": "code",
   "execution_count": 49,
   "metadata": {},
   "outputs": [],
   "source": [
    "employees = [SoftwareEngineer(\"shiwen\", 25, 5000, 'senior'),\n",
    "            SoftwareEngineer(\"aaa\", 25, 6000, 'senior'),\n",
    "            SoftwareEngineer(\"bbb\", 25, 7000, 'senior')]"
   ]
  },
  {
   "cell_type": "code",
   "execution_count": 51,
   "metadata": {},
   "outputs": [
    {
     "output_type": "stream",
     "name": "stdout",
     "text": [
      "shiwen is working ..\naaa is working ..\nbbb is working ..\n"
     ]
    }
   ],
   "source": [
    "def motivate_employees(employees):\n",
    "    for employee in employees:\n",
    "        employee.work()\n",
    "        \n",
    "motivate_employees(employees)"
   ]
  },
  {
   "cell_type": "code",
   "execution_count": null,
   "metadata": {},
   "outputs": [],
   "source": []
  },
  {
   "cell_type": "code",
   "execution_count": null,
   "metadata": {},
   "outputs": [],
   "source": []
  }
 ]
}