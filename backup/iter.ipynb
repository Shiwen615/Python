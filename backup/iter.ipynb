{
 "cells": [
  {
   "cell_type": "code",
   "execution_count": 1,
   "metadata": {
    "tags": []
   },
   "outputs": [
    {
     "output_type": "stream",
     "name": "stdout",
     "text": "True False\nTrue False\nTrue False\nTrue False\n"
    }
   ],
   "source": [
    "from collections import Iterable, Iterator\n",
    "\n",
    "x_0 = [1, 2, 3]\n",
    "print(isinstance(x_0, Iterable), isinstance(x_0, Iterator))\n",
    "# True False\n",
    "\n",
    "x_1 = (1, 2, 3)\n",
    "print(isinstance(x_1, Iterable), isinstance(x_1, Iterator))\n",
    "# True False\n",
    "\n",
    "x_2 = range(3)\n",
    "print(isinstance(x_2, Iterable), isinstance(x_2, Iterator))\n",
    "# True False\n",
    "\n",
    "x_3 = \"123\"\n",
    "print(isinstance(x_3, Iterable), isinstance(x_3, Iterator))\n",
    "# True False"
   ]
  },
  {
   "cell_type": "code",
   "execution_count": 2,
   "metadata": {
    "tags": []
   },
   "outputs": [
    {
     "output_type": "stream",
     "name": "stdout",
     "text": "['__add__', '__class__', '__contains__', '__delattr__', '__delitem__', '__dir__', '__doc__', '__eq__', '__format__', '__ge__', '__getattribute__', '__getitem__', '__gt__', '__hash__', '__iadd__', '__imul__', '__init__', '__init_subclass__', '__iter__', '__le__', '__len__', '__lt__', '__mul__', '__ne__', '__new__', '__reduce__', '__reduce_ex__', '__repr__', '__reversed__', '__rmul__', '__setattr__', '__setitem__', '__sizeof__', '__str__', '__subclasshook__', 'append', 'clear', 'copy', 'count', 'extend', 'index', 'insert', 'pop', 'remove', 'reverse', 'sort']\nTrue\nTrue\nFalse\n"
    }
   ],
   "source": [
    "x = [1, 2, 3]\n",
    "\n",
    "### Method 1: use \"dir()\"\n",
    "print(dir(x))\n",
    "# ['__add__', '__class__', '__contains__', '__delattr__', '__delitem__',\n",
    "# '__dir__', '__doc__', '__eq__', '__format__', '__ge__', '__getattribute__',\n",
    "# '__getitem__', '__gt__', '__hash__', '__iadd__', '__imul__', '__init__',\n",
    "# '__init_subclass__', '__iter__', '__le__', '__len__', '__lt__', '__mul__',\n",
    "# '__ne__', '__new__', '__reduce__', '__reduce_ex__', '__repr__', '__reversed__',\n",
    "# '__rmul__', '__setattr__', '__setitem__', '__sizeof__', '__str__',\n",
    "# '__subclasshook__', 'append', 'clear', 'copy', 'count', 'extend', 'index',\n",
    "# 'insert', 'pop', 'remove', 'reverse', 'sort']\n",
    "\n",
    "### Method 2: use \"hasattr()\"\n",
    "print(hasattr(x, '__iter__'))\n",
    "# True\n",
    "print(hasattr(x, '__getitem__'))\n",
    "# True\n",
    "print(hasattr(x, '__next__'))\n",
    "# False"
   ]
  },
  {
   "cell_type": "code",
   "execution_count": 5,
   "metadata": {
    "tags": []
   },
   "outputs": [
    {
     "output_type": "stream",
     "name": "stdout",
     "text": "1\n2\n"
    }
   ],
   "source": [
    "class MyIterator:\n",
    "    def __init__(self, max_num):\n",
    "        self.max_num = max_num\n",
    "        self.index = 0\n",
    "\n",
    "    def __iter__(self):\n",
    "        return self\n",
    "        \n",
    "    def __next__(self):\n",
    "        self.index += 1\n",
    "        if self.index < self.max_num:\n",
    "            return self.index\n",
    "        else:\n",
    "            raise StopIteration\n",
    "        \n",
    "my_iterator = MyIterator(3)\n",
    "for item in my_iterator:\n",
    "    print(item)\n",
    "# 1\n",
    "# 2\n",
    "# 3\n",
    "\n",
    "for item in my_iterator:\n",
    "    print(item)\n",
    "# (no result)"
   ]
  },
  {
   "cell_type": "code",
   "execution_count": 6,
   "metadata": {
    "tags": []
   },
   "outputs": [
    {
     "output_type": "stream",
     "name": "stdout",
     "text": "1\n2\n3\n1\n2\n3\n"
    }
   ],
   "source": [
    "class MyIterator:\n",
    "    def __init__(self, max_num):\n",
    "        self.max_num = max_num\n",
    "\n",
    "    def __iter__(self):\n",
    "        num = 1\n",
    "        while num <= self.max_num:\n",
    "            yield num\n",
    "            num += 1\n",
    "\n",
    "my_iterator = MyIterator(3)\n",
    "\n",
    "for item in my_iterator:\n",
    "    print(item)\n",
    "# 1\n",
    "# 2\n",
    "# 3\n",
    "for item in my_iterator:\n",
    "    print(item)\n",
    "# 1\n",
    "# 2\n",
    "# 3 "
   ]
  },
  {
   "cell_type": "code",
   "execution_count": 8,
   "metadata": {
    "tags": []
   },
   "outputs": [
    {
     "output_type": "stream",
     "name": "stdout",
     "text": "a\nb\nc\nd\n"
    }
   ],
   "source": [
    "class MyIterator:\n",
    "    def __init__(self, max_num):\n",
    "        self.max_num = max_num\n",
    "        self.list = ['a','b','c','d']\n",
    "    def __getitem__(self, key):\n",
    "        if key <= self.max_num:\n",
    "            # return key\n",
    "            return self.list[key]\n",
    "        else:\n",
    "            raise IndexError\n",
    "\n",
    "my_iterator = MyIterator(3)\n",
    "\n",
    "for item in my_iterator:\n",
    "    print(item)\n",
    "# 0\n",
    "# 1\n",
    "# 2\n",
    "# 3"
   ]
  },
  {
   "cell_type": "code",
   "execution_count": 16,
   "metadata": {
    "tags": []
   },
   "outputs": [
    {
     "output_type": "stream",
     "name": "stdout",
     "text": "step 1\n0\n"
    },
    {
     "output_type": "error",
     "ename": "TypeError",
     "evalue": "unsupported operand type(s) for +=: 'NoneType' and 'int'",
     "traceback": [
      "\u001b[1;31m---------------------------------------------------------------------------\u001b[0m",
      "\u001b[1;31mTypeError\u001b[0m                                 Traceback (most recent call last)",
      "\u001b[1;32m<ipython-input-16-02af783b3038>\u001b[0m in \u001b[0;36m<module>\u001b[1;34m\u001b[0m\n\u001b[0;32m      8\u001b[0m \u001b[0mprint\u001b[0m\u001b[1;33m(\u001b[0m\u001b[1;34m'step 1'\u001b[0m\u001b[1;33m)\u001b[0m\u001b[1;33m\u001b[0m\u001b[1;33m\u001b[0m\u001b[0m\n\u001b[0;32m      9\u001b[0m \u001b[0mprint\u001b[0m\u001b[1;33m(\u001b[0m\u001b[0mnext\u001b[0m\u001b[1;33m(\u001b[0m\u001b[0mgenerator\u001b[0m\u001b[1;33m)\u001b[0m\u001b[1;33m)\u001b[0m\u001b[1;33m\u001b[0m\u001b[1;33m\u001b[0m\u001b[0m\n\u001b[1;32m---> 10\u001b[1;33m \u001b[0mprint\u001b[0m\u001b[1;33m(\u001b[0m\u001b[0mnext\u001b[0m\u001b[1;33m(\u001b[0m\u001b[0mgenerator\u001b[0m\u001b[1;33m)\u001b[0m\u001b[1;33m)\u001b[0m\u001b[1;33m\u001b[0m\u001b[1;33m\u001b[0m\u001b[0m\n\u001b[0m\u001b[0;32m     11\u001b[0m \u001b[0mprint\u001b[0m\u001b[1;33m(\u001b[0m\u001b[1;34m'step 2'\u001b[0m\u001b[1;33m)\u001b[0m\u001b[1;33m\u001b[0m\u001b[1;33m\u001b[0m\u001b[0m\n\u001b[0;32m     12\u001b[0m \u001b[0mprint\u001b[0m\u001b[1;33m(\u001b[0m\u001b[0mgenerator\u001b[0m\u001b[1;33m.\u001b[0m\u001b[0msend\u001b[0m\u001b[1;33m(\u001b[0m\u001b[1;36m1\u001b[0m\u001b[1;33m)\u001b[0m\u001b[1;33m)\u001b[0m\u001b[1;33m\u001b[0m\u001b[1;33m\u001b[0m\u001b[0m\n",
      "\u001b[1;32m<ipython-input-16-02af783b3038>\u001b[0m in \u001b[0;36mgenerator_func\u001b[1;34m(value)\u001b[0m\n\u001b[0;32m      2\u001b[0m     \u001b[1;32mwhile\u001b[0m \u001b[0mvalue\u001b[0m \u001b[1;33m<\u001b[0m \u001b[1;36m10\u001b[0m\u001b[1;33m:\u001b[0m\u001b[1;33m\u001b[0m\u001b[1;33m\u001b[0m\u001b[0m\n\u001b[0;32m      3\u001b[0m         \u001b[0mvalue\u001b[0m \u001b[1;33m=\u001b[0m \u001b[1;32myield\u001b[0m \u001b[0mvalue\u001b[0m\u001b[1;33m\u001b[0m\u001b[1;33m\u001b[0m\u001b[0m\n\u001b[1;32m----> 4\u001b[1;33m         \u001b[0mvalue\u001b[0m \u001b[1;33m+=\u001b[0m \u001b[1;36m1\u001b[0m\u001b[1;33m\u001b[0m\u001b[1;33m\u001b[0m\u001b[0m\n\u001b[0m\u001b[0;32m      5\u001b[0m \u001b[1;33m\u001b[0m\u001b[0m\n\u001b[0;32m      6\u001b[0m \u001b[0mgenerator\u001b[0m \u001b[1;33m=\u001b[0m \u001b[0mgenerator_func\u001b[0m\u001b[1;33m(\u001b[0m\u001b[1;33m)\u001b[0m\u001b[1;33m\u001b[0m\u001b[1;33m\u001b[0m\u001b[0m\n",
      "\u001b[1;31mTypeError\u001b[0m: unsupported operand type(s) for +=: 'NoneType' and 'int'"
     ]
    }
   ],
   "source": [
    "def generator_func(value=0):\n",
    "    while value < 10:\n",
    "        value = yield value\n",
    "        value += 1\n",
    "\n",
    "generator = generator_func()\n",
    "\n",
    "print('step 1')\n",
    "print(next(generator))\n",
    "print('step 2')\n",
    "print(generator.send(1))\n",
    "print('step 3')\n",
    "print(generator.send(7))\n",
    "print('step 4')\n",
    "print(generator.send(10))"
   ]
  },
  {
   "cell_type": "code",
   "execution_count": 17,
   "metadata": {
    "tags": []
   },
   "outputs": [
    {
     "output_type": "stream",
     "name": "stdout",
     "text": "<class 'generator'>\n0\n1\n"
    },
    {
     "output_type": "error",
     "ename": "StopIteration",
     "evalue": "",
     "traceback": [
      "\u001b[1;31m---------------------------------------------------------------------------\u001b[0m",
      "\u001b[1;31mStopIteration\u001b[0m                             Traceback (most recent call last)",
      "\u001b[1;32m<ipython-input-17-e737bdbd9aa3>\u001b[0m in \u001b[0;36m<module>\u001b[1;34m\u001b[0m\n\u001b[0;32m      6\u001b[0m \u001b[0mprint\u001b[0m\u001b[1;33m(\u001b[0m\u001b[0mnext\u001b[0m\u001b[1;33m(\u001b[0m\u001b[0mx\u001b[0m\u001b[1;33m)\u001b[0m\u001b[1;33m)\u001b[0m\u001b[1;33m\u001b[0m\u001b[1;33m\u001b[0m\u001b[0m\n\u001b[0;32m      7\u001b[0m \u001b[0mprint\u001b[0m\u001b[1;33m(\u001b[0m\u001b[0mnext\u001b[0m\u001b[1;33m(\u001b[0m\u001b[0mx\u001b[0m\u001b[1;33m)\u001b[0m\u001b[1;33m)\u001b[0m\u001b[1;33m\u001b[0m\u001b[1;33m\u001b[0m\u001b[0m\n\u001b[1;32m----> 8\u001b[1;33m \u001b[0mprint\u001b[0m\u001b[1;33m(\u001b[0m\u001b[0mnext\u001b[0m\u001b[1;33m(\u001b[0m\u001b[0mx\u001b[0m\u001b[1;33m)\u001b[0m\u001b[1;33m)\u001b[0m\u001b[1;33m\u001b[0m\u001b[1;33m\u001b[0m\u001b[0m\n\u001b[0m",
      "\u001b[1;31mStopIteration\u001b[0m: "
     ]
    }
   ],
   "source": [
    "x = (i for i in range(2))\n",
    "\n",
    "print(type(x))\n",
    "# <class 'generator'>\n",
    "\n",
    "print(next(x))\n",
    "print(next(x))\n",
    "print(next(x))"
   ]
  },
  {
   "cell_type": "code",
   "execution_count": 21,
   "metadata": {},
   "outputs": [
    {
     "output_type": "execute_result",
     "data": {
      "text/plain": "[0, 1]"
     },
     "metadata": {},
     "execution_count": 21
    }
   ],
   "source": [
    "[i for i in range(2)]"
   ]
  },
  {
   "cell_type": "code",
   "execution_count": null,
   "metadata": {},
   "outputs": [],
   "source": []
  }
 ],
 "metadata": {
  "language_info": {
   "codemirror_mode": {
    "name": "ipython",
    "version": 3
   },
   "file_extension": ".py",
   "mimetype": "text/x-python",
   "name": "python",
   "nbconvert_exporter": "python",
   "pygments_lexer": "ipython3",
   "version": "3.6.8-final"
  },
  "orig_nbformat": 2,
  "kernelspec": {
   "name": "python36864bitf8540139ee00427484eeaf07a0d58c9d",
   "display_name": "Python 3.6.8 64-bit"
  }
 },
 "nbformat": 4,
 "nbformat_minor": 2
}