{
 "cells": [
  {
   "cell_type": "code",
   "execution_count": 2,
   "metadata": {},
   "outputs": [
    {
     "output_type": "stream",
     "name": "stdout",
     "text": "C\n"
    }
   ],
   "source": [
    "score = int(input(\"輸入0~10 : \"))\n",
    "\n",
    "{\n",
    "    10 : lambda : print(\"A\"),\n",
    "    9 : lambda : print(\"B\"),\n",
    "    8 : lambda : print(\"C\"),\n",
    "    7 : lambda : print(\"D\"),\n",
    "    6 : lambda : print(\"E\"),\n",
    "}.get(score, lambda : print(\"F\"))() # call by function"
   ]
  },
  {
   "cell_type": "code",
   "execution_count": 4,
   "metadata": {},
   "outputs": [
    {
     "output_type": "execute_result",
     "data": {
      "text/plain": "'C'"
     },
     "metadata": {},
     "execution_count": 4
    }
   ],
   "source": [
    "{\n",
    "    10 : lambda : print(\"A\"),\n",
    "    9 : \"B\",\n",
    "    8 : \"C\",\n",
    "    7 : \"D\",\n",
    "    6 : \"E\",\n",
    "}.get(score, \"F\") #call by value"
   ]
  },
  {
   "cell_type": "code",
   "execution_count": null,
   "metadata": {},
   "outputs": [],
   "source": []
  }
 ],
 "metadata": {
  "language_info": {
   "codemirror_mode": {
    "name": "ipython",
    "version": 3
   },
   "file_extension": ".py",
   "mimetype": "text/x-python",
   "name": "python",
   "nbconvert_exporter": "python",
   "pygments_lexer": "ipython3",
   "version": "3.6.7-final"
  },
  "orig_nbformat": 2,
  "kernelspec": {
   "name": "python36732bit8c58d8fe0b3946bb8875ee56b0b1529f",
   "display_name": "Python 3.6.7 32-bit"
  }
 },
 "nbformat": 4,
 "nbformat_minor": 2
}