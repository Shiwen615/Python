{
 "metadata": {
  "language_info": {
   "codemirror_mode": {
    "name": "ipython",
    "version": 3
   },
   "file_extension": ".py",
   "mimetype": "text/x-python",
   "name": "python",
   "nbconvert_exporter": "python",
   "pygments_lexer": "ipython3",
   "version": "3.6.8-final"
  },
  "orig_nbformat": 2,
  "kernelspec": {
   "name": "python36864bitf8540139ee00427484eeaf07a0d58c9d",
   "display_name": "Python 3.6.8 64-bit"
  }
 },
 "nbformat": 4,
 "nbformat_minor": 2,
 "cells": [
  {
   "cell_type": "code",
   "execution_count": 24,
   "metadata": {},
   "outputs": [],
   "source": [
    "import pkg_resources\n",
    "from subprocess import call"
   ]
  },
  {
   "cell_type": "code",
   "execution_count": 31,
   "metadata": {},
   "outputs": [
    {
     "output_type": "execute_result",
     "data": {
      "text/plain": [
       "{'wrapt': '1.12.1',\n",
       " 'widgetsnbextension': '3.5.1',\n",
       " 'webencodings': '0.5.1',\n",
       " 'wcwidth': '0.2.4',\n",
       " 'typed-ast': '1.4.1',\n",
       " 'traitlets': '4.3.3',\n",
       " 'toml': '0.10.1',\n",
       " 'testpath': '0.4.4',\n",
       " 'terminado': '0.8.3',\n",
       " 'six': '1.15.0',\n",
       " 'Send2Trash': '1.5.0',\n",
       " 'QtPy': '1.9.0',\n",
       " 'qtconsole': '4.7.4',\n",
       " 'pywinpty': '0.5.7',\n",
       " 'pywin32': '228',\n",
       " 'python-dateutil': '2.8.1',\n",
       " 'pyrsistent': '0.16.0',\n",
       " 'pyparsing': '2.4.7',\n",
       " 'pylint': '2.5.3',\n",
       " 'Pygments': '2.6.1',\n",
       " 'prompt-toolkit': '3.0.5',\n",
       " 'prometheus-client': '0.8.0',\n",
       " 'pickleshare': '0.7.5',\n",
       " 'parso': '0.7.0',\n",
       " 'pandocfilters': '1.4.2',\n",
       " 'packaging': '20.4',\n",
       " 'notebook': '6.0.3',\n",
       " 'nbformat': '5.0.7',\n",
       " 'mistune': '0.8.4',\n",
       " 'mccabe': '0.6.1',\n",
       " 'MarkupSafe': '1.1.1',\n",
       " 'lazy-object-proxy': '1.4.3',\n",
       " 'jupyter': '1.0.0',\n",
       " 'jupyter-core': '4.6.3',\n",
       " 'jupyter-console': '6.1.0',\n",
       " 'jsonschema': '3.2.0',\n",
       " 'Jinja2': '2.11.2',\n",
       " 'jedi': '0.17.0',\n",
       " 'isort': '4.3.21',\n",
       " 'ipywidgets': '7.5.1',\n",
       " 'ipython': '7.15.0',\n",
       " 'ipython-genutils': '0.2.0',\n",
       " 'ipykernel': '5.3.0',\n",
       " 'entrypoints': '0.3',\n",
       " 'defusedxml': '0.6.0',\n",
       " 'decorator': '4.4.2',\n",
       " 'backcall': '0.2.0',\n",
       " 'astroid': '2.4.2',\n",
       " 'zipp': '3.4.0',\n",
       " 'wheel': '0.34.2',\n",
       " 'Werkzeug': '1.0.1',\n",
       " 'urllib3': '1.25.9',\n",
       " 'tqdm': '4.47.0',\n",
       " 'tornado': '6.1',\n",
       " 'torchvision': '0.6.0+cpu',\n",
       " 'torchsummary': '1.5.1',\n",
       " 'torch': '1.5.0+cpu',\n",
       " 'threadpoolctl': '2.1.0',\n",
       " 'tensorboard': '2.2.2',\n",
       " 'tensorboard-plugin-wit': '1.7.0',\n",
       " 'sklearn': '0.0',\n",
       " 'setuptools': '49.2.0',\n",
       " 'seaborn': '0.10.1',\n",
       " 'scipy': '1.4.1',\n",
       " 'scikit-learn': '0.23.1',\n",
       " 'rsa': '4.6',\n",
       " 'requests': '2.23.0',\n",
       " 'requests-oauthlib': '1.3.0',\n",
       " 'pyzmq': '19.0.2',\n",
       " 'pytz': '2020.1',\n",
       " 'pyasn1': '0.4.8',\n",
       " 'pyasn1-modules': '0.2.8',\n",
       " 'protobuf': '3.12.2',\n",
       " 'pip': '20.2.4',\n",
       " 'Pillow': '7.1.2',\n",
       " 'pandas': '1.0.4',\n",
       " 'opencv-python': '4.2.0.34',\n",
       " 'oauthlib': '3.1.0',\n",
       " 'numpy': '1.18.5',\n",
       " 'nest-asyncio': '1.4.2',\n",
       " 'nbconvert': '6.0.7',\n",
       " 'nbclient': '0.5.1',\n",
       " 'matplotlib': '3.2.1',\n",
       " 'Markdown': '3.2.2',\n",
       " 'kiwisolver': '1.2.0',\n",
       " 'jupyterlab-pygments': '0.1.2',\n",
       " 'jupyter-client': '6.1.7',\n",
       " 'joblib': '0.15.1',\n",
       " 'importlib-metadata': '2.0.0',\n",
       " 'idna': '2.10',\n",
       " 'grpcio': '1.33.2',\n",
       " 'google-auth': '1.23.0',\n",
       " 'google-auth-oauthlib': '0.4.2',\n",
       " 'glob3': '0.0.1',\n",
       " 'future': '0.18.2',\n",
       " 'cycler': '0.10.0',\n",
       " 'colorama': '0.4.4',\n",
       " 'chardet': '3.0.4',\n",
       " 'certifi': '2020.6.20',\n",
       " 'cachetools': '4.1.1',\n",
       " 'bleach': '3.2.1',\n",
       " 'attrs': '20.2.0',\n",
       " 'async-generator': '1.10',\n",
       " 'absl-py': '0.11.0'}"
      ]
     },
     "metadata": {},
     "execution_count": 31
    }
   ],
   "source": [
    "{dist.project_name:dist.version for dist in pkg_resources.working_set}"
   ]
  },
  {
   "cell_type": "code",
   "execution_count": 25,
   "metadata": {},
   "outputs": [],
   "source": [
    "packages = [dist.project_name for dist in pkg_resources.working_set]"
   ]
  },
  {
   "cell_type": "code",
   "execution_count": 27,
   "metadata": {},
   "outputs": [
    {
     "output_type": "execute_result",
     "data": {
      "text/plain": [
       "'wrapt widgetsnbextension webencodings wcwidth typed-ast traitlets toml testpath terminado six Send2Trash QtPy qtconsole pywinpty pywin32 python-dateutil pyrsistent pyparsing pylint Pygments prompt-toolkit prometheus-client pickleshare parso pandocfilters packaging notebook nbformat mistune mccabe MarkupSafe lazy-object-proxy jupyter jupyter-core jupyter-console jsonschema Jinja2 jedi isort ipywidgets ipython ipython-genutils ipykernel entrypoints defusedxml decorator backcall astroid zipp wheel Werkzeug urllib3 tqdm tornado torchvision torchsummary torch threadpoolctl tensorboard tensorboard-plugin-wit sklearn setuptools seaborn scipy scikit-learn rsa requests requests-oauthlib pyzmq pytz pyasn1 pyasn1-modules protobuf pip Pillow pandas opencv-python oauthlib numpy nest-asyncio nbconvert nbclient matplotlib Markdown kiwisolver jupyterlab-pygments jupyter-client joblib importlib-metadata idna grpcio google-auth google-auth-oauthlib glob3 future cycler colorama chardet certifi cachetools bleach attrs async-generator absl-py'"
      ]
     },
     "metadata": {},
     "execution_count": 27
    }
   ],
   "source": [
    "# all = ''\n",
    "# for a in packages:\n",
    "#     all = all + ' ' + a\n",
    "\n",
    "' '.join(packages) #same as below but more pythonic"
   ]
  },
  {
   "cell_type": "code",
   "execution_count": 28,
   "metadata": {},
   "outputs": [
    {
     "output_type": "execute_result",
     "data": {
      "text/plain": [
       "1"
      ]
     },
     "metadata": {},
     "execution_count": 28
    }
   ],
   "source": [
    "call(\"pip install --upgrade \"+' '.join(packages), shell=True)"
   ]
  },
  {
   "cell_type": "code",
   "execution_count": null,
   "metadata": {},
   "outputs": [],
   "source": [
    "{dist.project_name:dist.version for dist in pkg_resources.working_set}"
   ]
  }
 ]
}