{
 "cells": [
  {
   "cell_type": "code",
   "execution_count": 2,
   "metadata": {},
   "outputs": [],
   "source": [
    "import torch\n",
    "import torch.nn as nn\n",
    "import numpy as np\n",
    "from sklearn import datasets\n",
    "from sklearn.preprocessing import StandardScaler\n",
    "from sklearn.model_selection import train_test_split"
   ]
  },
  {
   "cell_type": "code",
   "execution_count": 3,
   "metadata": {},
   "outputs": [],
   "source": [
    "# prepare data\n",
    "bc = datasets.load_breast_cancer()\n",
    "X, y = bc.data, bc.target\n",
    "\n",
    "n_samples, n_features = X.shape"
   ]
  },
  {
   "cell_type": "code",
   "execution_count": 4,
   "metadata": {},
   "outputs": [],
   "source": [
    "X_train, X_test, y_train, y_test = train_test_split(X, y, test_size=0.2, random_state=1234)"
   ]
  },
  {
   "cell_type": "code",
   "execution_count": 5,
   "metadata": {},
   "outputs": [],
   "source": [
    "# scale\n",
    "sc = StandardScaler()\n",
    "X_train = sc.fit_transform(X_train)\n",
    "X_test = sc.transform(X_test)\n",
    "\n",
    "X_train = torch.from_numpy(X_train.astype(np.float32))\n",
    "X_test = torch.from_numpy(X_test.astype(np.float32))\n",
    "y_train = torch.from_numpy(y_train.astype(np.float32))\n",
    "y_test = torch.from_numpy(y_test.astype(np.float32))\n",
    "\n",
    "y_train = y_train.view(y_train.shape[0], 1)\n",
    "y_test = y_test.view(y_test.shape[0], 1)"
   ]
  },
  {
   "cell_type": "code",
   "execution_count": 6,
   "metadata": {},
   "outputs": [],
   "source": [
    "# model\n",
    "class Model(nn.Module):\n",
    "    def __init__(self, n_input_features):\n",
    "        # super(Model, self).__init__() #python2\n",
    "        super().__init__() #python3\n",
    "        self.linear = nn.Linear(n_input_features, 1)\n",
    "\n",
    "    def forward(self, x):\n",
    "        y_pred = torch.sigmoid(self.linear(x))\n",
    "        return y_pred\n",
    "\n",
    "model = Model(n_features)"
   ]
  },
  {
   "cell_type": "code",
   "execution_count": 7,
   "metadata": {},
   "outputs": [],
   "source": [
    "# loss and optimizer\n",
    "num_epochs = 100\n",
    "learning_rate = 0.01\n",
    "criterion = nn.BCELoss()\n",
    "optimizer = torch.optim.SGD(model.parameters(), lr=learning_rate)"
   ]
  },
  {
   "cell_type": "code",
   "execution_count": 11,
   "metadata": {},
   "outputs": [
    {
     "output_type": "execute_result",
     "data": {
      "text/plain": "torch.Size([455, 30])"
     },
     "metadata": {},
     "execution_count": 11
    }
   ],
   "source": [
    "X_train.shape"
   ]
  },
  {
   "cell_type": "code",
   "execution_count": 12,
   "metadata": {
    "tags": []
   },
   "outputs": [
    {
     "output_type": "stream",
     "name": "stdout",
     "text": "epoch: 10, loss = 0.2325\nepoch: 20, loss = 0.2239\nepoch: 30, loss = 0.2162\nepoch: 40, loss = 0.2092\nepoch: 50, loss = 0.2029\nepoch: 60, loss = 0.1971\nepoch: 70, loss = 0.1918\nepoch: 80, loss = 0.1869\nepoch: 90, loss = 0.1823\nepoch: 100, loss = 0.1781\n"
    }
   ],
   "source": [
    "for epoch in range(num_epochs):\n",
    "    # Forward pass and loss\n",
    "    y_pred = model(X_train)\n",
    "    loss = criterion(y_pred, y_train)\n",
    "    # loss = criterion(y_train, y_pred) #this will cause error\n",
    "\n",
    "    # Backward pass and update\n",
    "    loss.backward()\n",
    "    optimizer.step()\n",
    "\n",
    "    # zero grad before new step\n",
    "    optimizer.zero_grad()\n",
    "\n",
    "    if (epoch+1) % 10 == 0:\n",
    "        print(f'epoch: {epoch+1}, loss = {loss.item():.4f}')"
   ]
  },
  {
   "cell_type": "code",
   "execution_count": 13,
   "metadata": {
    "tags": []
   },
   "outputs": [
    {
     "output_type": "stream",
     "name": "stdout",
     "text": "accuracy = 0.9035\n"
    }
   ],
   "source": [
    "with torch.no_grad():\n",
    "    y_pred = model(X_test)\n",
    "    y_pred_cls = y_pred.round()\n",
    "    acc = y_pred_cls.eq(y_test).sum()/float(y_test.shape[0])\n",
    "print(f'accuracy = {acc:.4f}')"
   ]
  },
  {
   "cell_type": "code",
   "execution_count": 16,
   "metadata": {
    "tags": []
   },
   "outputs": [
    {
     "output_type": "stream",
     "name": "stdout",
     "text": "tensor([[8.3717e-01],\n        [9.8473e-01],\n        [4.5856e-01],\n        [9.3550e-01],\n        [9.0452e-01],\n        [5.6762e-01],\n        [5.4207e-01],\n        [9.7574e-01],\n        [1.4888e-02],\n        [1.7574e-02],\n        [3.1218e-02],\n        [7.9786e-01],\n        [8.4007e-01],\n        [6.2224e-01],\n        [8.9764e-01],\n        [3.2294e-04],\n        [9.6589e-01],\n        [9.7745e-01],\n        [8.7948e-01],\n        [1.3367e-01],\n        [8.5661e-01],\n        [2.0684e-01],\n        [3.9043e-03],\n        [6.6241e-04],\n        [3.6564e-02],\n        [8.3831e-01],\n        [4.2072e-01],\n        [9.3673e-01],\n        [9.8425e-01],\n        [9.6878e-01],\n        [8.8298e-01],\n        [9.4770e-01],\n        [2.8540e-02],\n        [7.8010e-01],\n        [8.8237e-01],\n        [5.9443e-01],\n        [9.7989e-01],\n        [2.2628e-01],\n        [7.2908e-01],\n        [9.4922e-01],\n        [9.9473e-02],\n        [9.0804e-01],\n        [3.7919e-02],\n        [7.6127e-01],\n        [7.7916e-01],\n        [9.5836e-01],\n        [8.9547e-01],\n        [6.2891e-01],\n        [2.0965e-03],\n        [7.8210e-01],\n        [2.8552e-01],\n        [7.7357e-01],\n        [8.6931e-01],\n        [1.2104e-02],\n        [6.2562e-01],\n        [9.3495e-01],\n        [6.6376e-01],\n        [9.8577e-01],\n        [8.2427e-01],\n        [6.1300e-02],\n        [3.2157e-01],\n        [9.7642e-01],\n        [6.1727e-01],\n        [9.4273e-01],\n        [8.2497e-01],\n        [2.2105e-01],\n        [2.3649e-02],\n        [8.8421e-01],\n        [9.3417e-01],\n        [7.7334e-01],\n        [9.7140e-01],\n        [3.5303e-02],\n        [9.8964e-01],\n        [3.4706e-01],\n        [9.7574e-01],\n        [9.5832e-01],\n        [9.6725e-01],\n        [2.5550e-02],\n        [9.0801e-01],\n        [1.4613e-01],\n        [9.7503e-01],\n        [8.8247e-01],\n        [7.3562e-01],\n        [4.3353e-01],\n        [2.1086e-01],\n        [1.2383e-01],\n        [3.8142e-02],\n        [1.2330e-01],\n        [7.5251e-01],\n        [5.1485e-01],\n        [8.8230e-01],\n        [8.1353e-01],\n        [9.6411e-01],\n        [7.1361e-04],\n        [3.3581e-02],\n        [9.3372e-01],\n        [9.0543e-01],\n        [7.3854e-01],\n        [9.7079e-01],\n        [9.5274e-01],\n        [3.8143e-03],\n        [9.9492e-03],\n        [9.2189e-01],\n        [9.8297e-01],\n        [3.2318e-01],\n        [9.5632e-01],\n        [9.7621e-01],\n        [1.9227e-01],\n        [2.1356e-01],\n        [7.0256e-01],\n        [7.4000e-02],\n        [8.6087e-01],\n        [5.7595e-01],\n        [7.2158e-07]])\n"
    }
   ],
   "source": [
    "with torch.no_grad():\n",
    "    y_pred = model(X_test) #0~1\n",
    "    # print(y_pred)\n",
    "    y_pred_cls = y_pred.round()#0 or 1\n",
    "    # print(y_pred_cls)\n",
    "    acc = y_pred_cls.eq(y_test).sum()/float(y_test.shape[0]) #eq : equal =="
   ]
  },
  {
   "cell_type": "code",
   "execution_count": 22,
   "metadata": {
    "tags": []
   },
   "outputs": [
    {
     "output_type": "stream",
     "name": "stdout",
     "text": "Parameter containing:\ntensor([[-0.1212, -0.2101, -0.0530, -0.1893, -0.2601, -0.2801,  0.0329, -0.3523,\n         -0.0528,  0.0577, -0.2340, -0.0252, -0.2477, -0.0945,  0.0734, -0.0256,\n         -0.0999, -0.1536,  0.0491,  0.1071, -0.2880, -0.2101, -0.2960, -0.1971,\n          0.0147, -0.1101, -0.1868, -0.3494, -0.0549,  0.0188]],\n       requires_grad=True)\n"
    }
   ],
   "source": [
    "p = iter(model.parameters())\n",
    "print(next(p))"
   ]
  }
 ],
 "metadata": {
  "language_info": {
   "codemirror_mode": {
    "name": "ipython",
    "version": 3
   },
   "file_extension": ".py",
   "mimetype": "text/x-python",
   "name": "python",
   "nbconvert_exporter": "python",
   "pygments_lexer": "ipython3",
   "version": "3.6.8-final"
  },
  "orig_nbformat": 2,
  "kernelspec": {
   "name": "python36864bitf8540139ee00427484eeaf07a0d58c9d",
   "display_name": "Python 3.6.8 64-bit",
   "language": "python"
  }
 },
 "nbformat": 4,
 "nbformat_minor": 2
}