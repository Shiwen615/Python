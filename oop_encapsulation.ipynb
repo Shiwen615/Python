{
 "metadata": {
  "language_info": {
   "codemirror_mode": {
    "name": "ipython",
    "version": 3
   },
   "file_extension": ".py",
   "mimetype": "text/x-python",
   "name": "python",
   "nbconvert_exporter": "python",
   "pygments_lexer": "ipython3",
   "version": "3.6.8-final"
  },
  "orig_nbformat": 2,
  "kernelspec": {
   "name": "python36864bitf8540139ee00427484eeaf07a0d58c9d",
   "display_name": "Python 3.6.8 64-bit",
   "language": "python"
  }
 },
 "nbformat": 4,
 "nbformat_minor": 2,
 "cells": [
  {
   "cell_type": "code",
   "execution_count": 51,
   "metadata": {},
   "outputs": [],
   "source": [
    "class SoftwareEngineer:\n",
    "\n",
    "    def __init__(self, name, age):\n",
    "        self.name = name\n",
    "        self.age = age\n",
    "        self._salary = None #protect\n",
    "        self._num_bugs_solved = 0\n",
    "        self.__private_value = 100#private\n",
    "\n",
    "    def code(self):\n",
    "        self._num_bugs_solved += 1\n",
    "\n",
    "    #getter\n",
    "    def get_salary(self):\n",
    "        return self._salary\n",
    "\n",
    "    #setter\n",
    "    def set_salary(self, base_value):\n",
    "        # check value, constrain\n",
    "        # if salary < 1000:\n",
    "        #     salary = 1000\n",
    "        # if salary > 100000:\n",
    "        #     salary = 100000\n",
    "        # self._salary = salary\n",
    "        self._salary = self._calculate_salary(base_value)\n",
    "\n",
    "    def _calculate_salary(self, base_value):\n",
    "        if self._num_bugs_solved < 10:\n",
    "            return base_value\n",
    "        if self._num_bugs_solved < 100:\n",
    "            return base_value * 2\n",
    "        return base_value * 3"
   ]
  },
  {
   "cell_type": "code",
   "execution_count": 13,
   "metadata": {},
   "outputs": [],
   "source": [
    "# class SoftwareEngineer:\n",
    "#     def __init__(self):\n",
    "#         self.name = \"Wen\"\n",
    "#         self.age = 27\n",
    "#         self._num_bugs_solved = 0\n",
    "\n",
    "#     @property\n",
    "#     def salary(self):\n",
    "#         return self._num_bugs_solved * 1000\n",
    "\n",
    "# se = SoftwareEngineer()\n",
    "try:\n",
    "    \"world\".find(\"you\")"
   ]
  },
  {
   "cell_type": "code",
   "execution_count": 17,
   "metadata": {},
   "outputs": [
    {
     "output_type": "execute_result",
     "data": {
      "text/plain": [
       "0"
      ]
     },
     "metadata": {},
     "execution_count": 17
    }
   ],
   "source": [
    "\"abc\".find('abc')"
   ]
  },
  {
   "cell_type": "code",
   "execution_count": 52,
   "metadata": {},
   "outputs": [
    {
     "output_type": "stream",
     "name": "stdout",
     "text": [
      "25 shiwen\n"
     ]
    }
   ],
   "source": [
    "se = SoftwareEngineer(\"shiwen\", 25)\n",
    "print(se.age, se.name)"
   ]
  },
  {
   "cell_type": "code",
   "execution_count": 53,
   "metadata": {},
   "outputs": [],
   "source": [
    "se.get_salary()"
   ]
  },
  {
   "cell_type": "code",
   "execution_count": 58,
   "metadata": {},
   "outputs": [],
   "source": [
    "for i in range(70):\n",
    "    se.code()"
   ]
  },
  {
   "cell_type": "code",
   "execution_count": 59,
   "metadata": {},
   "outputs": [],
   "source": [
    "se.set_salary(5000)"
   ]
  },
  {
   "cell_type": "code",
   "execution_count": 60,
   "metadata": {},
   "outputs": [
    {
     "output_type": "execute_result",
     "data": {
      "text/plain": [
       "15000"
      ]
     },
     "metadata": {},
     "execution_count": 60
    }
   ],
   "source": [
    "se.get_salary()"
   ]
  },
  {
   "cell_type": "code",
   "execution_count": 57,
   "metadata": {},
   "outputs": [
    {
     "output_type": "execute_result",
     "data": {
      "text/plain": [
       "(70, 5000)"
      ]
     },
     "metadata": {},
     "execution_count": 57
    }
   ],
   "source": [
    "se._num_bugs_solved, se._salary"
   ]
  },
  {
   "cell_type": "code",
   "execution_count": null,
   "metadata": {},
   "outputs": [],
   "source": []
  }
 ]
}