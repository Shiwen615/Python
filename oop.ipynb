{
 "metadata": {
  "language_info": {
   "codemirror_mode": {
    "name": "ipython",
    "version": 3
   },
   "file_extension": ".py",
   "mimetype": "text/x-python",
   "name": "python",
   "nbconvert_exporter": "python",
   "pygments_lexer": "ipython3",
   "version": "3.6.8-final"
  },
  "orig_nbformat": 2,
  "kernelspec": {
   "name": "python3",
   "display_name": "Python 3.6.8 64-bit",
   "metadata": {
    "interpreter": {
     "hash": "cb1e0d5c1ad07e5e563069b79ece81239f1a55b962728b9bdf363fc8fc50b4b3"
    }
   }
  }
 },
 "nbformat": 4,
 "nbformat_minor": 2,
 "cells": [
  {
   "cell_type": "code",
   "execution_count": 35,
   "metadata": {},
   "outputs": [],
   "source": [
    "class SoftwareEngineer:\n",
    "\n",
    "    # class attribures\n",
    "    alias = \"Keyboard Magician\"\n",
    "\n",
    "    def __init__(self, name, age, level, salary):\n",
    "        # instance attribures\n",
    "        self.name = name\n",
    "        self.age = age\n",
    "        self.level = level\n",
    "        self.salary = salary\n",
    "\n",
    "    def code(self):\n",
    "        print(f'{self.name} is writing code')\n",
    "\n",
    "    def code_in_language(self, language):\n",
    "        print(f'{self.name} is writing code in {language}')\n",
    "\n",
    "    def information(self):\n",
    "        information = f'name = {self.name}, age = {self.age}, level = {self.level}'\n",
    "        return information\n",
    "\n",
    "    def __str__(self):\n",
    "        information = f'name = {self.name}, age = {self.age}, level = {self.level}'\n",
    "        return information\n",
    "\n",
    "    def __eq__(self, other):\n",
    "        return self.name == other.name and self.age == other.age\n",
    "\n",
    "    @staticmethod\n",
    "    def entry_salary(age):\n",
    "        if age < 25:\n",
    "            return 1000\n",
    "        if age < 30:\n",
    "            return 2000\n",
    "        return 3000"
   ]
  },
  {
   "cell_type": "code",
   "execution_count": 36,
   "metadata": {},
   "outputs": [],
   "source": [
    "se1 = SoftwareEngineer(\"shiwen\", 27, \"senior\", 9000)"
   ]
  },
  {
   "cell_type": "code",
   "execution_count": 3,
   "metadata": {},
   "outputs": [
    {
     "output_type": "execute_result",
     "data": {
      "text/plain": [
       "('shiwen', 27)"
      ]
     },
     "metadata": {},
     "execution_count": 3
    }
   ],
   "source": [
    "se1.name, se1.age"
   ]
  },
  {
   "cell_type": "code",
   "execution_count": 5,
   "metadata": {},
   "outputs": [
    {
     "output_type": "execute_result",
     "data": {
      "text/plain": [
       "('Keyboard Magician', 'Keyboard Magician')"
      ]
     },
     "metadata": {},
     "execution_count": 5
    }
   ],
   "source": [
    "SoftwareEngineer.alias, se1.alias"
   ]
  },
  {
   "cell_type": "code",
   "execution_count": 8,
   "metadata": {},
   "outputs": [
    {
     "output_type": "stream",
     "name": "stdout",
     "text": [
      "shiwen is writing code\n"
     ]
    }
   ],
   "source": [
    "se1.code()"
   ]
  },
  {
   "cell_type": "code",
   "execution_count": 12,
   "metadata": {},
   "outputs": [
    {
     "output_type": "stream",
     "name": "stdout",
     "text": [
      "shiwen is writing code in Python\n"
     ]
    }
   ],
   "source": [
    "se1.code_in_language('Python')"
   ]
  },
  {
   "cell_type": "code",
   "execution_count": 17,
   "metadata": {},
   "outputs": [
    {
     "output_type": "stream",
     "name": "stdout",
     "text": [
      "<__main__.SoftwareEngineer object at 0x00000157D5F1B940>\n"
     ]
    },
    {
     "output_type": "execute_result",
     "data": {
      "text/plain": [
       "'name = shiwen, age = 27, level = senior'"
      ]
     },
     "metadata": {},
     "execution_count": 17
    }
   ],
   "source": [
    "print(se1)\n",
    "se1.information()"
   ]
  },
  {
   "cell_type": "code",
   "execution_count": 20,
   "metadata": {},
   "outputs": [
    {
     "output_type": "stream",
     "name": "stdout",
     "text": [
      "name = shiwen, age = 27, level = senior\n"
     ]
    }
   ],
   "source": [
    "# __str__\n",
    "print(se1)"
   ]
  },
  {
   "cell_type": "code",
   "execution_count": 21,
   "metadata": {},
   "outputs": [
    {
     "output_type": "execute_result",
     "data": {
      "text/plain": [
       "False"
      ]
     },
     "metadata": {},
     "execution_count": 21
    }
   ],
   "source": [
    "se2 = SoftwareEngineer(\"shiwen\", 27, \"senior\", 9000)\n",
    "se1 == se2"
   ]
  },
  {
   "cell_type": "code",
   "execution_count": 27,
   "metadata": {},
   "outputs": [
    {
     "output_type": "execute_result",
     "data": {
      "text/plain": [
       "True"
      ]
     },
     "metadata": {},
     "execution_count": 27
    }
   ],
   "source": [
    "# __eq__\n",
    "se1 == se2"
   ]
  },
  {
   "cell_type": "code",
   "execution_count": 34,
   "metadata": {},
   "outputs": [
    {
     "output_type": "stream",
     "name": "stdout",
     "text": [
      "1000\n"
     ]
    },
    {
     "output_type": "error",
     "ename": "TypeError",
     "evalue": "entry_salary() takes 1 positional argument but 2 were given",
     "traceback": [
      "\u001b[1;31m---------------------------------------------------------------------------\u001b[0m",
      "\u001b[1;31mTypeError\u001b[0m                                 Traceback (most recent call last)",
      "\u001b[1;32m<ipython-input-34-fca2c2fd97c6>\u001b[0m in \u001b[0;36m<module>\u001b[1;34m\u001b[0m\n\u001b[0;32m      1\u001b[0m \u001b[0mprint\u001b[0m\u001b[1;33m(\u001b[0m\u001b[0mSoftwareEngineer\u001b[0m\u001b[1;33m.\u001b[0m\u001b[0mentry_salary\u001b[0m\u001b[1;33m(\u001b[0m\u001b[1;36m24\u001b[0m\u001b[1;33m)\u001b[0m\u001b[1;33m)\u001b[0m\u001b[1;33m\u001b[0m\u001b[1;33m\u001b[0m\u001b[0m\n\u001b[1;32m----> 2\u001b[1;33m \u001b[0mse1\u001b[0m\u001b[1;33m.\u001b[0m\u001b[0mentry_salary\u001b[0m\u001b[1;33m(\u001b[0m\u001b[1;36m24\u001b[0m\u001b[1;33m)\u001b[0m \u001b[1;31m# error cus auto input self\u001b[0m\u001b[1;33m\u001b[0m\u001b[1;33m\u001b[0m\u001b[0m\n\u001b[0m",
      "\u001b[1;31mTypeError\u001b[0m: entry_salary() takes 1 positional argument but 2 were given"
     ]
    }
   ],
   "source": [
    "print(SoftwareEngineer.entry_salary(24))\n",
    "se1.entry_salary(24) # error cus auto input self"
   ]
  },
  {
   "cell_type": "code",
   "execution_count": 38,
   "metadata": {},
   "outputs": [
    {
     "output_type": "execute_result",
     "data": {
      "text/plain": [
       "2000"
      ]
     },
     "metadata": {},
     "execution_count": 38
    }
   ],
   "source": [
    "# with @statisticmethod\n",
    "se1.entry_salary(26)"
   ]
  },
  {
   "cell_type": "code",
   "execution_count": 6,
   "metadata": {},
   "outputs": [
    {
     "output_type": "execute_result",
     "data": {
      "text/plain": [
       "False"
      ]
     },
     "metadata": {},
     "execution_count": 6
    }
   ],
   "source": [
    "'c' in ['a','b']"
   ]
  },
  {
   "cell_type": "code",
   "execution_count": null,
   "metadata": {},
   "outputs": [],
   "source": []
  }
 ]
}