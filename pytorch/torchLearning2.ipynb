{
 "cells": [
  {
   "cell_type": "code",
   "execution_count": 16,
   "metadata": {},
   "outputs": [],
   "source": [
    "import torch\n",
    "import torch.nn as nn"
   ]
  },
  {
   "cell_type": "code",
   "execution_count": 17,
   "metadata": {},
   "outputs": [],
   "source": [
    "X = torch.tensor([[1],[2],[3],[4]], dtype=torch.float32)\n",
    "Y = torch.tensor([[1],[2],[3],[4]], dtype=torch.float32)\n",
    "\n",
    "X_test = torch.tensor([5], dtype=torch.float32)\n",
    "\n",
    "\n",
    "n_samp, n_fea = X.shape\n",
    "\n",
    "input_size = n_fea\n",
    "output_size = n_fea\n",
    "\n",
    "model = nn.Linear(input_size,output_size)\n",
    "\n"
   ]
  },
  {
   "cell_type": "code",
   "execution_count": 18,
   "metadata": {},
   "outputs": [],
   "source": [
    "learning_rate = 0.1\n",
    "n_iters = 100\n",
    "\n",
    "loss = nn.MSELoss()\n",
    "optimizer = torch.optim.SGD(model.parameters(), lr=learning_rate)"
   ]
  },
  {
   "cell_type": "code",
   "execution_count": 19,
   "metadata": {
    "tags": []
   },
   "outputs": [
    {
     "output_type": "stream",
     "name": "stdout",
     "text": "prediction before training: f(5) = -3.995\nepoch 1: w = 1.814, loss = 23.51514053\nepoch 11: w = 0.836, loss = 0.05939827\nepoch 21: w = 0.865, loss = 0.02809883\nepoch 31: w = 0.900, loss = 0.01529780\nepoch 41: w = 0.926, loss = 0.00832932\nepoch 51: w = 0.946, loss = 0.00453514\nepoch 61: w = 0.960, loss = 0.00246928\nepoch 71: w = 0.970, loss = 0.00134447\nepoch 81: w = 0.978, loss = 0.00073204\nepoch 91: w = 0.984, loss = 0.00039858\nprediction after training: f(5) = 4.975\n"
    }
   ],
   "source": [
    "print(f'prediction before training: f(5) = {model(X_test).item():.3f}')\n",
    "\n",
    "for epoch in range(n_iters):\n",
    "  y_pred = model(X)\n",
    "\n",
    "  l = loss(Y,y_pred)\n",
    "\n",
    "  l.backward()\n",
    "\n",
    "  optimizer.step()\n",
    "  optimizer.zero_grad()\n",
    "\n",
    "  if epoch % 10 ==0:\n",
    "    [w,b] = model.parameters()\n",
    "    print(f'epoch {epoch + 1}: w = {w[0][0].item():.3f}, loss = {l:.8f}')\n",
    "\n",
    "print(f'prediction after training: f(5) = {model(X_test).item():.3f}')"
   ]
  },
  {
   "cell_type": "code",
   "execution_count": 21,
   "metadata": {},
   "outputs": [
    {
     "output_type": "execute_result",
     "data": {
      "text/plain": "array([ 0.        ,  0.2020202 ,  0.4040404 ,  0.60606061,  0.80808081,\n        1.01010101,  1.21212121,  1.41414141,  1.61616162,  1.81818182,\n        2.02020202,  2.22222222,  2.42424242,  2.62626263,  2.82828283,\n        3.03030303,  3.23232323,  3.43434343,  3.63636364,  3.83838384,\n        4.04040404,  4.24242424,  4.44444444,  4.64646465,  4.84848485,\n        5.05050505,  5.25252525,  5.45454545,  5.65656566,  5.85858586,\n        6.06060606,  6.26262626,  6.46464646,  6.66666667,  6.86868687,\n        7.07070707,  7.27272727,  7.47474747,  7.67676768,  7.87878788,\n        8.08080808,  8.28282828,  8.48484848,  8.68686869,  8.88888889,\n        9.09090909,  9.29292929,  9.49494949,  9.6969697 ,  9.8989899 ,\n       10.1010101 , 10.3030303 , 10.50505051, 10.70707071, 10.90909091,\n       11.11111111, 11.31313131, 11.51515152, 11.71717172, 11.91919192,\n       12.12121212, 12.32323232, 12.52525253, 12.72727273, 12.92929293,\n       13.13131313, 13.33333333, 13.53535354, 13.73737374, 13.93939394,\n       14.14141414, 14.34343434, 14.54545455, 14.74747475, 14.94949495,\n       15.15151515, 15.35353535, 15.55555556, 15.75757576, 15.95959596,\n       16.16161616, 16.36363636, 16.56565657, 16.76767677, 16.96969697,\n       17.17171717, 17.37373737, 17.57575758, 17.77777778, 17.97979798,\n       18.18181818, 18.38383838, 18.58585859, 18.78787879, 18.98989899,\n       19.19191919, 19.39393939, 19.5959596 , 19.7979798 , 20.        ])"
     },
     "metadata": {},
     "execution_count": 21
    }
   ],
   "source": [
    "import numpy as np\n",
    "np.linspace(0,20,100)"
   ]
  },
  {
   "cell_type": "code",
   "execution_count": null,
   "metadata": {},
   "outputs": [],
   "source": []
  }
 ],
 "metadata": {
  "language_info": {
   "codemirror_mode": {
    "name": "ipython",
    "version": 3
   },
   "file_extension": ".py",
   "mimetype": "text/x-python",
   "name": "python",
   "nbconvert_exporter": "python",
   "pygments_lexer": "ipython3",
   "version": "3.6.8-final"
  },
  "orig_nbformat": 2,
  "kernelspec": {
   "name": "python36864bitf8540139ee00427484eeaf07a0d58c9d",
   "display_name": "Python 3.6.8 64-bit"
  }
 },
 "nbformat": 4,
 "nbformat_minor": 2
}