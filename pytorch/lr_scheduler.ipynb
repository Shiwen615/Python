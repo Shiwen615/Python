{
 "metadata": {
  "language_info": {
   "codemirror_mode": {
    "name": "ipython",
    "version": 3
   },
   "file_extension": ".py",
   "mimetype": "text/x-python",
   "name": "python",
   "nbconvert_exporter": "python",
   "pygments_lexer": "ipython3",
   "version": "3.6.9-final"
  },
  "orig_nbformat": 2,
  "kernelspec": {
   "name": "python3",
   "display_name": "Python 3",
   "language": "python"
  }
 },
 "nbformat": 4,
 "nbformat_minor": 2,
 "cells": [
  {
   "cell_type": "code",
   "execution_count": null,
   "metadata": {},
   "outputs": [],
   "source": [
    "# https://pytorch.org/docs/stable/optim.html#how-to-adjust-learning-rate"
   ]
  },
  {
   "cell_type": "code",
   "execution_count": 3,
   "metadata": {},
   "outputs": [],
   "source": [
    "import torch\n",
    "import torch.nn as nn\n",
    "import torch.optim.lr_scheduler as lr_scheduler"
   ]
  },
  {
   "cell_type": "code",
   "execution_count": 8,
   "metadata": {},
   "outputs": [],
   "source": [
    "lr = 1\n",
    "model = nn.Linear(10,1)"
   ]
  },
  {
   "cell_type": "code",
   "execution_count": 24,
   "metadata": {},
   "outputs": [],
   "source": [
    "optimizer = torch.optim.Adam(model.parameters(), lr=lr)"
   ]
  },
  {
   "cell_type": "code",
   "execution_count": 10,
   "metadata": {},
   "outputs": [],
   "source": [
    "# lambda1 = lambda epoch:epoch / 10\n",
    "# scheduler = lr_scheduler.LambdaLR(optimizer, lambda1)\n",
    "\n",
    "# 0.1\n",
    "# 0.2\n",
    "# 0.3\n",
    "# 0.4\n",
    "# 0.5"
   ]
  },
  {
   "cell_type": "code",
   "execution_count": 13,
   "metadata": {},
   "outputs": [],
   "source": [
    "# lambda1 = lambda epoch:0.95\n",
    "# scheduler = lr_scheduler.MultiplicativeLR(optimizer, lambda1)\n",
    "\n",
    "# 0.95\n",
    "# 0.90\n",
    "# 0.85\n",
    "# 0.81\n",
    "# 0.77"
   ]
  },
  {
   "cell_type": "code",
   "execution_count": 18,
   "metadata": {},
   "outputs": [
    {
     "output_type": "stream",
     "name": "stdout",
     "text": [
      "Adjusting learning rate of group 0 to 1.0000e-02.\n"
     ]
    }
   ],
   "source": [
    "# scheduler = lr_scheduler.MultiStepLR(optimizer, milestones=[3,5], gamma=0.1, verbose=True) # print lr every step\n",
    "# scheduler = lr_scheduler.MultiStepLR(optimizer, milestones=[3,5], gamma=0.1)\n",
    "\n",
    "# 1\n",
    "# 1\n",
    "# 0.1\n",
    "# 0.1\n",
    "# 0.01"
   ]
  },
  {
   "cell_type": "code",
   "execution_count": 25,
   "metadata": {},
   "outputs": [],
   "source": [
    "scheduler = lr_scheduler.ReduceLROnPlateau(optimizer, 'min', patience=2, verbose=True)"
   ]
  },
  {
   "cell_type": "code",
   "execution_count": 8,
   "metadata": {},
   "outputs": [
    {
     "output_type": "execute_result",
     "data": {
      "text/plain": [
       "{'state': {},\n",
       " 'param_groups': [{'lr': 0.0,\n",
       "   'betas': (0.9, 0.999),\n",
       "   'eps': 1e-08,\n",
       "   'weight_decay': 0,\n",
       "   'amsgrad': False,\n",
       "   'initial_lr': 0.1,\n",
       "   'params': [0, 1]}]}"
      ]
     },
     "metadata": {},
     "execution_count": 8
    }
   ],
   "source": [
    "optimizer.state_dict()"
   ]
  },
  {
   "cell_type": "code",
   "execution_count": 26,
   "metadata": {},
   "outputs": [
    {
     "output_type": "stream",
     "name": "stdout",
     "text": [
      "1\n1\n1\nEpoch     4: reducing learning rate of group 0 to 1.0000e-01.\n0.1\n0.1\n0.1\nEpoch     7: reducing learning rate of group 0 to 1.0000e-02.\n0.010000000000000002\n0.010000000000000002\n0.010000000000000002\nEpoch    10: reducing learning rate of group 0 to 1.0000e-03.\n0.0010000000000000002\n0.0010000000000000002\n0.0010000000000000002\nEpoch    13: reducing learning rate of group 0 to 1.0000e-04.\n0.00010000000000000003\n0.00010000000000000003\n0.00010000000000000003\nEpoch    16: reducing learning rate of group 0 to 1.0000e-05.\n1.0000000000000004e-05\n1.0000000000000004e-05\n1.0000000000000004e-05\nEpoch    19: reducing learning rate of group 0 to 1.0000e-06.\n1.0000000000000004e-06\n1.0000000000000004e-06\n"
     ]
    }
   ],
   "source": [
    "for epoch in range(20):\n",
    "    # loss.backward()\n",
    "    optimizer.step()\n",
    "    # validate(...)\n",
    "    # scheduler.step()\n",
    "    scheduler.step(1)\n",
    "    print(optimizer.state_dict()['param_groups'][0]['lr'])"
   ]
  },
  {
   "cell_type": "code",
   "execution_count": null,
   "metadata": {},
   "outputs": [],
   "source": []
  }
 ]
}