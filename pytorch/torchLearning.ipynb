{
  "cells": [
    {
      "cell_type": "code",
      "metadata": {
        "id": "mmEXp_M1f7XN",
        "colab_type": "code",
        "colab": {}
      },
      "source": [
        "import torch"
      ],
      "execution_count": null,
      "outputs": []
    },
    {
      "cell_type": "code",
      "metadata": {
        "id": "-72oagkKgP42",
        "colab_type": "code",
        "colab": {
          "base_uri": "https://localhost:8080/",
          "height": 34
        },
        "outputId": "d30851ec-ce25-41ba-d191-1b406b8eaef1"
      },
      "source": [
        "x = torch.randn(3, requires_grad=True)\n",
        "x"
      ],
      "execution_count": null,
      "outputs": []
    },
    {
      "cell_type": "code",
      "metadata": {
        "id": "UZND6jzYgSuR",
        "colab_type": "code",
        "colab": {
          "base_uri": "https://localhost:8080/",
          "height": 34
        },
        "outputId": "a6b3f0ea-e86a-4847-bc8f-65031f5cbc50"
      },
      "source": [
        "y = x + 2\n",
        "y"
      ],
      "execution_count": null,
      "outputs": []
    },
    {
      "cell_type": "code",
      "metadata": {
        "id": "uwYQPgyvgg8Q",
        "colab_type": "code",
        "colab": {
          "base_uri": "https://localhost:8080/",
          "height": 34
        },
        "outputId": "ac74c094-1d00-400c-eb44-e1f3b24c07a2"
      },
      "source": [
        "z = y*y*2\n",
        "# z = z.mean()\n",
        "z"
      ],
      "execution_count": null,
      "outputs": []
    },
    {
      "cell_type": "code",
      "metadata": {
        "id": "FuHaRID9hnu7",
        "colab_type": "code",
        "colab": {}
      },
      "source": [
        "v = torch.tensor([1,1,1], dtype = torch.float32)"
      ],
      "execution_count": null,
      "outputs": []
    },
    {
      "cell_type": "code",
      "metadata": {
        "id": "J1-MAOlngxwZ",
        "colab_type": "code",
        "colab": {
          "base_uri": "https://localhost:8080/",
          "height": 34
        },
        "outputId": "b41a441b-51e9-4025-aed7-de449c199cdb"
      },
      "source": [
        "z.backward(v)\n",
        "x.grad"
      ],
      "execution_count": null,
      "outputs": []
    },
    {
      "cell_type": "code",
      "metadata": {
        "id": "eWhgRcaphApA",
        "colab_type": "code",
        "colab": {
          "base_uri": "https://localhost:8080/",
          "height": 34
        },
        "outputId": "dab788e8-15d8-458e-ef4f-dd78671e91c2"
      },
      "source": [
        "x = torch.randn(3, requires_grad=True)\n",
        "x"
      ],
      "execution_count": null,
      "outputs": []
    },
    {
      "cell_type": "code",
      "metadata": {
        "id": "cAtfcgOOjPj5",
        "colab_type": "code",
        "colab": {
          "base_uri": "https://localhost:8080/",
          "height": 34
        },
        "outputId": "2ed0b10d-e6e7-4077-8811-ecd2d0c91dd4"
      },
      "source": [
        "x.requires_grad_(False)\n",
        "x"
      ],
      "execution_count": null,
      "outputs": []
    },
    {
      "cell_type": "code",
      "metadata": {
        "id": "gcfWCbhRjT_W",
        "colab_type": "code",
        "colab": {
          "base_uri": "https://localhost:8080/",
          "height": 34
        },
        "outputId": "68198e85-d054-42c6-ea23-52be882bc1b2"
      },
      "source": [
        "y = x.detach()\n",
        "y"
      ],
      "execution_count": null,
      "outputs": []
    },
    {
      "cell_type": "code",
      "metadata": {
        "id": "_hDo4UUgjdif",
        "colab_type": "code",
        "colab": {
          "base_uri": "https://localhost:8080/",
          "height": 34
        },
        "outputId": "dc516588-5665-4662-e16f-42b65049f181"
      },
      "source": [
        "x = torch.randn(3, requires_grad=True)\n",
        "x"
      ],
      "execution_count": null,
      "outputs": []
    },
    {
      "cell_type": "code",
      "metadata": {
        "id": "dAp_zNyZlH0F",
        "colab_type": "code",
        "colab": {
          "base_uri": "https://localhost:8080/",
          "height": 34
        },
        "outputId": "41e8b406-8134-461f-e374-5995fa59ea9a"
      },
      "source": [
        "y = x + 2\n",
        "y"
      ],
      "execution_count": null,
      "outputs": []
    },
    {
      "cell_type": "code",
      "metadata": {
        "id": "ijZHxiBplRX2",
        "colab_type": "code",
        "colab": {
          "base_uri": "https://localhost:8080/",
          "height": 34
        },
        "outputId": "7c4040cb-0e12-4848-e579-2ad753e99334"
      },
      "source": [
        "with torch.no_grad():\n",
        "  y = x + 2\n",
        "y"
      ],
      "execution_count": null,
      "outputs": []
    },
    {
      "cell_type": "code",
      "metadata": {
        "id": "MF1j2mIMlZjO",
        "colab_type": "code",
        "colab": {}
      },
      "source": [
        "weights = torch.ones(4, requires_grad=True)"
      ],
      "execution_count": null,
      "outputs": []
    },
    {
      "cell_type": "code",
      "metadata": {
        "id": "jZ0fxw7dllXd",
        "colab_type": "code",
        "colab": {
          "base_uri": "https://localhost:8080/",
          "height": 68
        },
        "outputId": "59cc9036-931a-414f-8372-aa2f31949272"
      },
      "source": [
        "for epoch in range(3):\n",
        "  model_output = (weights*2).sum()\n",
        "  # print(model_output)\n",
        "  model_output.backward()\n",
        "\n",
        "  print(weights.grad)\n",
        "  weights.grad.zero_()"
      ],
      "execution_count": null,
      "outputs": []
    },
    {
      "cell_type": "code",
      "metadata": {
        "id": "FXIgSH-kmYEs",
        "colab_type": "code",
        "colab": {}
      },
      "source": [
        "\n",
        "\n",
        "\n",
        "\n",
        "\n",
        "import numpy as np\n"
      ],
      "execution_count": null,
      "outputs": []
    },
    {
      "cell_type": "code",
      "metadata": {
        "id": "jfqaYPyUAYni",
        "colab_type": "code",
        "colab": {}
      },
      "source": [
        "X = np.array([1,2,3,4], dtype=np.float32)\n",
        "Y = np.array([1,2,3,4], dtype=np.float32)\n",
        "\n",
        "w = 0"
      ],
      "execution_count": null,
      "outputs": []
    },
    {
      "cell_type": "code",
      "metadata": {
        "id": "xUcfQQsOAsO9",
        "colab_type": "code",
        "colab": {}
      },
      "source": [
        "def forward(x):\n",
        "  return w*x"
      ],
      "execution_count": null,
      "outputs": []
    },
    {
      "cell_type": "code",
      "metadata": {
        "id": "uGa4qurbAxe9",
        "colab_type": "code",
        "colab": {}
      },
      "source": [
        "# loss = MSE\n",
        "def loss(y,y_predicted):\n",
        "  return((y_predicted - y)**2).mean()"
      ],
      "execution_count": null,
      "outputs": []
    },
    {
      "cell_type": "code",
      "metadata": {
        "id": "Rb5vO0nKBL-8",
        "colab_type": "code",
        "colab": {}
      },
      "source": [
        "#gradient\n",
        "def gradient(x,y,y_predicted):\n",
        "  return np.dot(2*x,y_predicted-y).mean()"
      ],
      "execution_count": null,
      "outputs": []
    },
    {
      "cell_type": "code",
      "metadata": {
        "id": "5mFN2x30BuIk",
        "colab_type": "code",
        "colab": {
          "base_uri": "https://localhost:8080/",
          "height": 34
        },
        "outputId": "c2ac2c24-89bc-4ed7-975a-adeac7891dc4"
      },
      "source": [
        "print(f'prediction brfore training: f(5) = {forward(5):.3f}')"
      ],
      "execution_count": null,
      "outputs": []
    },
    {
      "cell_type": "code",
      "metadata": {
        "id": "MbAfZ_-8DczK",
        "colab_type": "code",
        "colab": {
          "base_uri": "https://localhost:8080/",
          "height": 204
        },
        "outputId": "5a8e56e6-7c7e-444c-9149-2ffab425c44f"
      },
      "source": [
        "#training\n",
        "learning_rate = 0.01\n",
        "n_iters = 10\n",
        "\n",
        "for epoch in range(n_iters):\n",
        "  y_pred = forward(X)\n",
        "\n",
        "  l = loss(Y,y_pred)\n",
        "\n",
        "  dw = gradient(X,Y,y_pred)\n",
        "\n",
        "  w -= learning_rate * dw\n",
        "\n",
        "  if epoch % 1 ==0:\n",
        "    print(f'epoch {epoch + 1}: w = {w:.3f}, loss = {l:.8f}')\n",
        "\n",
        "print(f'prediction after training: f(5) = {forward(5):.3f}')"
      ],
      "execution_count": null,
      "outputs": []
    },
    {
      "cell_type": "code",
      "metadata": {
        "id": "tADdTMXfEsXu",
        "colab_type": "code",
        "colab": {}
      },
      "source": [
        "#change numpy to torch\n",
        "import torch\n",
        "\n",
        "X = torch.tensor([1,2,3,4], dtype=torch.float32)\n",
        "Y = torch.tensor([1,2,3,4], dtype=torch.float32)\n",
        "\n",
        "w = torch.tensor(0.0,dtype=torch.float32, requires_grad = True)"
      ],
      "execution_count": null,
      "outputs": []
    },
    {
      "cell_type": "code",
      "metadata": {
        "id": "tg_zgRpUJc4K",
        "colab_type": "code",
        "colab": {
          "base_uri": "https://localhost:8080/",
          "height": 374
        },
        "outputId": "980ee7d0-d91e-4184-80f1-9ac4b5b1d460"
      },
      "source": [
        "#training\n",
        "learning_rate = 0.01\n",
        "n_iters = 20\n",
        "\n",
        "for epoch in range(n_iters):\n",
        "  y_pred = forward(X)\n",
        "\n",
        "  l = loss(Y,y_pred)\n",
        "\n",
        "  l.backward()\n",
        "\n",
        "  with torch.no_grad():\n",
        "    w -= learning_rate * w.grad\n",
        "  w.grad.zero_()\n",
        "\n",
        "  if epoch % 1 ==0:\n",
        "    print(f'epoch {epoch + 1}: w = {w:.3f}, loss = {l:.8f}')\n",
        "\n",
        "print(f'prediction after training: f(5) = {forward(5):.3f}')"
      ],
      "execution_count": null,
      "outputs": []
    },
    {
      "cell_type": "code",
      "metadata": {
        "id": "MaQTGibUKPIX",
        "colab_type": "code",
        "colab": {}
      },
      "source": [
        "\n",
        "\n",
        "\n",
        "\n",
        "\n",
        "\n",
        "\n",
        "import torch.nn as nn"
      ],
      "execution_count": null,
      "outputs": []
    },
    {
      "cell_type": "code",
      "metadata": {
        "id": "qe4Q7J6rLQAr",
        "colab_type": "code",
        "colab": {}
      },
      "source": [
        "loss = nn.MSELoss()\n",
        "optimizer = torch.optim.SGD([w], lr=learning_rate)"
      ],
      "execution_count": null,
      "outputs": []
    },
    {
      "cell_type": "code",
      "metadata": {
        "id": "pGwzk9CYL1Gq",
        "colab_type": "code",
        "colab": {
          "base_uri": "https://localhost:8080/",
          "height": 374
        },
        "outputId": "567d0113-c5b0-427b-ac05-0b425712fdb7"
      },
      "source": [
        "for epoch in range(n_iters):\n",
        "  y_pred = forward(X)\n",
        "\n",
        "  l = loss(Y,y_pred)\n",
        "\n",
        "  l.backward()\n",
        "\n",
        "  optimizer.step()\n",
        "  optimizer.zero_grad()\n",
        "\n",
        "  if epoch % 1 ==0:\n",
        "    print(f'epoch {epoch + 1}: w = {w:.3f}, loss = {l:.8f}')\n",
        "\n",
        "print(f'prediction after training: f(5) = {forward(5):.3f}')"
      ],
      "execution_count": null,
      "outputs": []
    },
    {
      "cell_type": "code",
      "metadata": {
        "id": "oyTzDKI9MnvC",
        "colab_type": "code",
        "colab": {}
      },
      "source": [
        "X = torch.tensor([[1],[2],[3],[4]], dtype=torch.float32)\n",
        "Y = torch.tensor([[1],[2],[3],[4]], dtype=torch.float32)\n",
        "\n",
        "n_samp, n_fea = X.shape\n",
        "\n",
        "input_size = n_samp\n",
        "output_size = n_fea\n",
        "\n",
        "model = nn.Linear(input_size,output_size)"
      ],
      "execution_count": null,
      "outputs": []
    }
  ],
  "metadata": {
    "colab": {
      "name": "Untitled1.ipynb",
      "provenance": [],
      "collapsed_sections": []
    },
    "kernelspec": {
      "name": "python3",
      "display_name": "Python 3"
    },
    "accelerator": "GPU"
  },
  "nbformat": 4,
  "nbformat_minor": 0
}