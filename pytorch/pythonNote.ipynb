{
 "metadata": {
  "language_info": {
   "codemirror_mode": {
    "name": "ipython",
    "version": 3
   },
   "file_extension": ".py",
   "mimetype": "text/x-python",
   "name": "python",
   "nbconvert_exporter": "python",
   "pygments_lexer": "ipython3",
   "version": "3.6.8-final"
  },
  "orig_nbformat": 2,
  "kernelspec": {
   "name": "python36864bitf8540139ee00427484eeaf07a0d58c9d",
   "display_name": "Python 3.6.8 64-bit"
  }
 },
 "nbformat": 4,
 "nbformat_minor": 2,
 "cells": [
  {
   "cell_type": "code",
   "execution_count": 1,
   "metadata": {
    "tags": []
   },
   "outputs": [
    {
     "output_type": "stream",
     "name": "stdout",
     "text": "haha\n"
    }
   ],
   "source": [
    "if True : print(\"haha\")"
   ]
  },
  {
   "cell_type": "code",
   "execution_count": 9,
   "metadata": {
    "tags": []
   },
   "outputs": [
    {
     "output_type": "stream",
     "name": "stdout",
     "text": "10\n6\n"
    }
   ],
   "source": [
    "def sum(*args):\n",
    "    total = 0\n",
    "    for i in args:\n",
    "        total+=i\n",
    "    print(total)\n",
    "\n",
    "sum(1,2,3,4)\n",
    "sum(*[1,2,3])"
   ]
  },
  {
   "cell_type": "code",
   "execution_count": 25,
   "metadata": {
    "tags": []
   },
   "outputs": [
    {
     "output_type": "stream",
     "name": "stdout",
     "text": "a is 1\nb is 2\na is 1\nb is 2\n"
    }
   ],
   "source": [
    "def func(**kwargs):\n",
    "    for k,v in kwargs.items():\n",
    "        print(f'{k} is {v}')\n",
    "dicA = {'a':1,'b':2}\n",
    "func(a=1,b=2)\n",
    "func(**dicA)"
   ]
  },
  {
   "cell_type": "code",
   "execution_count": 10,
   "metadata": {},
   "outputs": [
    {
     "output_type": "execute_result",
     "data": {
      "text/plain": "[('A', 'A'), ('A', 'B'), ('B', 'A'), ('B', 'B')]"
     },
     "metadata": {},
     "execution_count": 10
    }
   ],
   "source": [
    "from itertools import product\n",
    "list(product(('A','B'), repeat=2))"
   ]
  },
  {
   "cell_type": "code",
   "execution_count": 15,
   "metadata": {
    "tags": []
   },
   "outputs": [
    {
     "output_type": "stream",
     "name": "stdout",
     "text": "2\n2\n"
    }
   ],
   "source": [
    "print(None or 2)\n",
    "print(2 or 3)"
   ]
  },
  {
   "cell_type": "code",
   "execution_count": 26,
   "metadata": {
    "tags": []
   },
   "outputs": [
    {
     "output_type": "stream",
     "name": "stdout",
     "text": "1 3\n2 4\n"
    }
   ],
   "source": [
    "for (i,j) in zip([1,2],[3,4]):\n",
    "    print(i,j)"
   ]
  },
  {
   "cell_type": "code",
   "execution_count": 49,
   "metadata": {
    "tags": []
   },
   "outputs": [
    {
     "output_type": "stream",
     "name": "stdout",
     "text": "2\n1\n2\n"
    }
   ],
   "source": [
    "print((1, 2)[True])\n",
    "print((1, 2)[False])\n",
    "print((1, 2, 3)[True])\n",
    "\n",
    "a=100\n",
    "(a,50)[a>50]"
   ]
  },
  {
   "cell_type": "code",
   "execution_count": 41,
   "metadata": {},
   "outputs": [
    {
     "output_type": "execute_result",
     "data": {
      "text/plain": "([1, 2, 3, 4], [1, 2, 3, 4], [[1, 2], [3, 4]])"
     },
     "metadata": {},
     "execution_count": 41
    }
   ],
   "source": [
    "ltestA = []\n",
    "ltestA += [1,2]\n",
    "ltestA += [3,4]\n",
    "\n",
    "ltestB = []\n",
    "ltestB.extend([1,2]) \n",
    "ltestB.extend([3,4]) \n",
    "\n",
    "ltestC = []\n",
    "ltestC.append([1,2]) \n",
    "ltestC.append([3,4])\n",
    "ltestA,ltestB,ltestC"
   ]
  },
  {
   "cell_type": "code",
   "execution_count": 6,
   "metadata": {},
   "outputs": [
    {
     "output_type": "execute_result",
     "data": {
      "text/plain": "([0, 4, 16, 36, 64], [0, 0, 4, 0, 16, 0, 36, 0, 64, 0])"
     },
     "metadata": {},
     "execution_count": 6
    }
   ],
   "source": [
    "a = [i*i for i in range(10) if i%2==0]\n",
    "b = [i*i if i%2==0 else 0 for i in range(10)]\n",
    "a,b"
   ]
  },
  {
   "cell_type": "code",
   "execution_count": 9,
   "metadata": {},
   "outputs": [
    {
     "output_type": "execute_result",
     "data": {
      "text/plain": "(['e', 'o', 'e', 'e', 'o'], {'e', 'o'})"
     },
     "metadata": {},
     "execution_count": 9
    }
   ],
   "source": [
    "a = [i for i in 'hello everybody' if i in 'aeiou']\n",
    "b = {i for i in 'hello everybody' if i in 'aeiou'}\n",
    "a,b"
   ]
  },
  {
   "cell_type": "code",
   "execution_count": 17,
   "metadata": {
    "tags": []
   },
   "outputs": [
    {
     "output_type": "execute_result",
     "data": {
      "text/plain": "{'a': 0, 'b': 1, 'c': 2, 'd': 3, 'e': 4}"
     },
     "metadata": {},
     "execution_count": 17
    }
   ],
   "source": [
    "import string\n",
    "{k:v for k,v in zip(string.ascii_lowercase[:5],range(5))}"
   ]
  },
  {
   "cell_type": "code",
   "execution_count": 20,
   "metadata": {},
   "outputs": [
    {
     "output_type": "execute_result",
     "data": {
      "text/plain": "[[0, 0, 0, 0], [0, 1, 2, 3], [0, 2, 4, 6]]"
     },
     "metadata": {},
     "execution_count": 20
    }
   ],
   "source": [
    "[[i*j for j in range(4)] for i in range(3)]"
   ]
  },
  {
   "cell_type": "code",
   "execution_count": 34,
   "metadata": {},
   "outputs": [
    {
     "output_type": "execute_result",
     "data": {
      "text/plain": "[0, 1, 3, 6, 10, 15, 21, 28, 36, 45]"
     },
     "metadata": {},
     "execution_count": 34
    }
   ],
   "source": [
    "def addadd(n):\n",
    "    i=0\n",
    "    sum = 0\n",
    "    while i < n:\n",
    "        sum=sum+i\n",
    "        i=i+1\n",
    "        yield  sum\n",
    "[i for i in addadd(10)]"
   ]
  },
  {
   "cell_type": "code",
   "execution_count": 36,
   "metadata": {},
   "outputs": [
    {
     "output_type": "execute_result",
     "data": {
      "text/plain": "{0: 'a', 1: 'b', 2: 'c'}"
     },
     "metadata": {},
     "execution_count": 36
    }
   ],
   "source": [
    "data = ['a','b','c']\n",
    "{i:d for i,d in enumerate(data)}"
   ]
  },
  {
   "cell_type": "code",
   "execution_count": 61,
   "metadata": {
    "tags": []
   },
   "outputs": [
    {
     "output_type": "stream",
     "name": "stdout",
     "text": "332833500 332833500\n"
    },
    {
     "output_type": "execute_result",
     "data": {
      "text/plain": "(9024, 88)"
     },
     "metadata": {},
     "execution_count": 61
    }
   ],
   "source": [
    "x = [i**2 for i in range(1000)]\n",
    "y = (i**2 for i in range(1000))\n",
    "\n",
    "a = sum(x)\n",
    "b = sum(y)\n",
    "print(a,b)\n",
    "\n",
    "import sys\n",
    "sys.getsizeof(x),sys.getsizeof(y)"
   ]
  },
  {
   "cell_type": "code",
   "execution_count": 64,
   "metadata": {
    "tags": []
   },
   "outputs": [
    {
     "output_type": "stream",
     "name": "stdout",
     "text": "0.13373969999999957\n0.057435399999995695\n"
    }
   ],
   "source": [
    "from timeit import default_timer as timer\n",
    "\n",
    "start = timer()\n",
    "a = []\n",
    "for i in range(1_000_000):\n",
    "    a.append(i)\n",
    "end = timer()\n",
    "print(end - start)\n",
    "\n",
    "start = timer()\n",
    "a = [i for i in range(1_000_000)]\n",
    "end = timer()\n",
    "print(end - start)"
   ]
  },
  {
   "cell_type": "code",
   "execution_count": 13,
   "metadata": {},
   "outputs": [],
   "source": [
    "model_name = 'mobiledetnet-0.5'\n",
    "\n",
    "expansion_t = float(model_name.split('nett')[1].split('-')[0]) if 'nett' in model_name else None\n",
    "wide_factor = float(model_name.split('-')[1])"
   ]
  },
  {
   "cell_type": "code",
   "execution_count": 14,
   "metadata": {
    "tags": []
   },
   "outputs": [
    {
     "output_type": "execute_result",
     "data": {
      "text/plain": "0.5"
     },
     "metadata": {},
     "execution_count": 14
    }
   ],
   "source": [
    "wide_factor"
   ]
  },
  {
   "cell_type": "code",
   "execution_count": null,
   "metadata": {},
   "outputs": [],
   "source": []
  }
 ]
}