{
  "cells": [
    {
      "cell_type": "code",
      "metadata": {
        "id": "Hqi6HeoX0f5l",
        "colab_type": "code",
        "colab": {}
      },
      "source": [
        "import torch\n",
        "import torch.nn as nn\n",
        "import torchvision\n",
        "import torchvision.transforms as transforms\n",
        "import matplotlib.pyplot as plt"
      ],
      "execution_count": 1,
      "outputs": []
    },
    {
      "cell_type": "code",
      "execution_count": 2,
      "metadata": {},
      "outputs": [],
      "source": [
        "############## TENSORBOARD ########################\n",
        "import sys\n",
        "import torch.nn.functional as F\n",
        "from torch.utils.tensorboard import SummaryWriter\n",
        "# default `log_dir` is \"runs\" - we'll be more specific here\n",
        "# writer = SummaryWriter('runs/mnist1')\n",
        "writer = SummaryWriter('runs/mnist2')\n",
        "###################################################"
      ]
    },
    {
      "cell_type": "code",
      "metadata": {
        "id": "NNuIsOzJ05Z6",
        "colab_type": "code",
        "colab": {
          "base_uri": "https://localhost:8080/",
          "height": 34
        },
        "outputId": "8c885621-74c6-414a-e783-fdeda96a82de"
      },
      "source": [
        "#device config\n",
        "device = torch.device('cuda' if torch.cuda.is_available() else 'cpu')\n",
        "device"
      ],
      "execution_count": 3,
      "outputs": [
        {
          "output_type": "execute_result",
          "data": {
            "text/plain": [
              "device(type='cuda')"
            ]
          },
          "metadata": {},
          "execution_count": 3
        }
      ]
    },
    {
      "cell_type": "code",
      "metadata": {
        "id": "_mIKRX6O1Zlp",
        "colab_type": "code",
        "colab": {}
      },
      "source": [
        "#hyper parameters\n",
        "input_size = 784 # 28x28\n",
        "hidden_size = 100\n",
        "num_classes = 10\n",
        "num_epochs = 2\n",
        "batch_size = 128\n",
        "learning_rate = 0.01"
      ],
      "execution_count": 4,
      "outputs": []
    },
    {
      "cell_type": "code",
      "metadata": {
        "id": "gPtWX4_512P5",
        "colab_type": "code",
        "colab": {},
        "tags": []
      },
      "source": [
        "# MNIST\n",
        "train_dataset = torchvision.datasets.MNIST(root='./data', train=True, transform=transforms.ToTensor(), download=True)\n",
        "test_dataset = torchvision.datasets.MNIST(root='./data', train=False, transform=transforms.ToTensor())"
      ],
      "execution_count": 5,
      "outputs": []
    },
    {
      "cell_type": "code",
      "execution_count": 6,
      "metadata": {},
      "outputs": [
        {
          "output_type": "execute_result",
          "data": {
            "text/plain": [
              "Dataset MNIST\n",
              "    Number of datapoints: 60000\n",
              "    Root location: ./data\n",
              "    Split: Train\n",
              "    StandardTransform\n",
              "Transform: ToTensor()"
            ]
          },
          "metadata": {},
          "execution_count": 6
        }
      ],
      "source": [
        "train_dataset"
      ]
    },
    {
      "cell_type": "code",
      "metadata": {
        "id": "QCqDaJz23VJe",
        "colab_type": "code",
        "colab": {}
      },
      "source": [
        "train_loader = torch.utils.data.DataLoader(train_dataset, batch_size=batch_size,shuffle=True)\n",
        "test_loader = torch.utils.data.DataLoader(test_dataset, batch_size=batch_size,shuffle=False)"
      ],
      "execution_count": 7,
      "outputs": []
    },
    {
      "cell_type": "code",
      "metadata": {
        "id": "1qxnHt2u4JFN",
        "colab_type": "code",
        "colab": {
          "base_uri": "https://localhost:8080/",
          "height": 34
        },
        "outputId": "3e67e71b-5631-4db3-f8a2-1650045d566a",
        "tags": []
      },
      "source": [
        "examples = iter(train_loader)\n",
        "samples, labels = examples.next()\n",
        "print(samples.shape, labels.shape)"
      ],
      "execution_count": 8,
      "outputs": [
        {
          "output_type": "stream",
          "name": "stdout",
          "text": [
            "torch.Size([128, 1, 28, 28]) torch.Size([128])\n"
          ]
        }
      ]
    },
    {
      "cell_type": "code",
      "metadata": {
        "id": "OMwolBgl4aqu",
        "colab_type": "code",
        "colab": {
          "base_uri": "https://localhost:8080/",
          "height": 267
        },
        "outputId": "6844a84a-59a2-4a32-84bc-20d8c0e56603"
      },
      "source": [
        "for i in range(6):\n",
        "  plt.subplot(2,3,i+1)\n",
        "  plt.imshow(samples[i][0], cmap='gray')"
      ],
      "execution_count": 9,
      "outputs": [
        {
          "output_type": "display_data",
          "data": {
            "text/plain": "<Figure size 432x288 with 6 Axes>",
            "image/svg+xml": "<?xml version=\"1.0\" encoding=\"utf-8\" standalone=\"no\"?>\n<!DOCTYPE svg PUBLIC \"-//W3C//DTD SVG 1.1//EN\"\n  \"http://www.w3.org/Graphics/SVG/1.1/DTD/svg11.dtd\">\n<!-- Created with matplotlib (https://matplotlib.org/) -->\n<svg height=\"250.193165pt\" version=\"1.1\" viewBox=\"0 0 368.925 250.193165\" width=\"368.925pt\" xmlns=\"http://www.w3.org/2000/svg\" xmlns:xlink=\"http://www.w3.org/1999/xlink\">\n <metadata>\n  <rdf:RDF xmlns:cc=\"http://creativecommons.org/ns#\" xmlns:dc=\"http://purl.org/dc/elements/1.1/\" xmlns:rdf=\"http://www.w3.org/1999/02/22-rdf-syntax-ns#\">\n   <cc:Work>\n    <dc:type rdf:resource=\"http://purl.org/dc/dcmitype/StillImage\"/>\n    <dc:date>2021-03-03T10:00:07.824142</dc:date>\n    <dc:format>image/svg+xml</dc:format>\n    <dc:creator>\n     <cc:Agent>\n      <dc:title>Matplotlib v3.3.4, https://matplotlib.org/</dc:title>\n     </cc:Agent>\n    </dc:creator>\n   </cc:Work>\n  </rdf:RDF>\n </metadata>\n <defs>\n  <style type=\"text/css\">*{stroke-linecap:butt;stroke-linejoin:round;}</style>\n </defs>\n <g id=\"figure_1\">\n  <g id=\"patch_1\">\n   <path d=\"M -0 250.193165 \nL 368.925 250.193165 \nL 368.925 0 \nL -0 0 \nz\n\"/>\n  </g>\n  <g id=\"axes_1\">\n   <g id=\"patch_2\">\n    <path d=\"M 26.925 107.711404 \nL 125.395588 107.711404 \nL 125.395588 9.240815 \nL 26.925 9.240815 \nz\n\"/>\n   </g>\n   <g clip-path=\"url(#pf0bfb8f8d4)\">\n    <image height=\"99\" id=\"image0f7a431883\" transform=\"scale(1 -1)translate(0 -99)\" width=\"99\" x=\"26.925\" xlink:href=\"data:image/png;base64,\niVBORw0KGgoAAAANSUhEUgAAAGMAAABjCAYAAACPO76VAAABr0lEQVR4nO3dMYqDQABAUZUtvEMsbe1tvIUX8FzexxtYBHITUbdzd4TAslH8I/9VM0wz8DMaNJA0SZI1EUJ29Qb0wxggxgAxBogxQIwBYgwQY4AYA8QYIF9Xb+C/yrLcxn3fB2tVVQXzuq638ev1OndjH/BkgBgDJNrLVFEU27hpmmAtTdNg/ng8trGXKf2JMUCMAWIMEGOAGAPEGCDGADEGiDFAon0c8tv+8UeWxfkZi3PXN2UMkFtcptY1/LnwsiwX7eQzngwQY4AYA8QYIMYAMQaIMUCMAWIMEGOAGAPEGCDGALnFU1tfLulwxgAxBsgt7hm+6dPhjAFiDBBjgBgDxBggxgAxBogxQIwBYgwQY4AYA+QWT233b/r281h4MkCMAWIMkFvcM/Zv+mLlyQAxBogxQIwBYgwQY4BE+9U2z/O3a/M8B/Npms7eziE8GSDGAIn2MtV13du15/MZzIdhOHs7h/BkgBgDxBgg0d4zxnHcxm3bvl2LiScDxBggaeKfs2N4MkCMAWIMEGOAGAPEGCDGADEGiDFAjAFiDBBjgBgDxBggxgAxBogxQL4BuektycwLZX4AAAAASUVORK5CYII=\" y=\"-8.711404\"/>\n   </g>\n   <g id=\"matplotlib.axis_1\">\n    <g id=\"xtick_1\">\n     <g id=\"line2d_1\">\n      <defs>\n       <path d=\"M 0 0 \nL 0 3.5 \n\" id=\"m074cafb320\" style=\"stroke:#ffffff;stroke-width:0.8;\"/>\n      </defs>\n      <g>\n       <use style=\"fill:#ffffff;stroke:#ffffff;stroke-width:0.8;\" x=\"28.683403\" xlink:href=\"#m074cafb320\" y=\"107.711404\"/>\n      </g>\n     </g>\n     <g id=\"text_1\">\n      <!-- 0 -->\n      <g style=\"fill:#ffffff;\" transform=\"translate(25.502153 122.309841)scale(0.1 -0.1)\">\n       <defs>\n        <path d=\"M 31.78125 66.40625 \nQ 24.171875 66.40625 20.328125 58.90625 \nQ 16.5 51.421875 16.5 36.375 \nQ 16.5 21.390625 20.328125 13.890625 \nQ 24.171875 6.390625 31.78125 6.390625 \nQ 39.453125 6.390625 43.28125 13.890625 \nQ 47.125 21.390625 47.125 36.375 \nQ 47.125 51.421875 43.28125 58.90625 \nQ 39.453125 66.40625 31.78125 66.40625 \nz\nM 31.78125 74.21875 \nQ 44.046875 74.21875 50.515625 64.515625 \nQ 56.984375 54.828125 56.984375 36.375 \nQ 56.984375 17.96875 50.515625 8.265625 \nQ 44.046875 -1.421875 31.78125 -1.421875 \nQ 19.53125 -1.421875 13.0625 8.265625 \nQ 6.59375 17.96875 6.59375 36.375 \nQ 6.59375 54.828125 13.0625 64.515625 \nQ 19.53125 74.21875 31.78125 74.21875 \nz\n\" id=\"DejaVuSans-48\"/>\n       </defs>\n       <use xlink:href=\"#DejaVuSans-48\"/>\n      </g>\n     </g>\n    </g>\n    <g id=\"xtick_2\">\n     <g id=\"line2d_2\">\n      <g>\n       <use style=\"fill:#ffffff;stroke:#ffffff;stroke-width:0.8;\" x=\"63.851471\" xlink:href=\"#m074cafb320\" y=\"107.711404\"/>\n      </g>\n     </g>\n     <g id=\"text_2\">\n      <!-- 10 -->\n      <g style=\"fill:#ffffff;\" transform=\"translate(57.488971 122.309841)scale(0.1 -0.1)\">\n       <defs>\n        <path d=\"M 12.40625 8.296875 \nL 28.515625 8.296875 \nL 28.515625 63.921875 \nL 10.984375 60.40625 \nL 10.984375 69.390625 \nL 28.421875 72.90625 \nL 38.28125 72.90625 \nL 38.28125 8.296875 \nL 54.390625 8.296875 \nL 54.390625 0 \nL 12.40625 0 \nz\n\" id=\"DejaVuSans-49\"/>\n       </defs>\n       <use xlink:href=\"#DejaVuSans-49\"/>\n       <use x=\"63.623047\" xlink:href=\"#DejaVuSans-48\"/>\n      </g>\n     </g>\n    </g>\n    <g id=\"xtick_3\">\n     <g id=\"line2d_3\">\n      <g>\n       <use style=\"fill:#ffffff;stroke:#ffffff;stroke-width:0.8;\" x=\"99.019538\" xlink:href=\"#m074cafb320\" y=\"107.711404\"/>\n      </g>\n     </g>\n     <g id=\"text_3\">\n      <!-- 20 -->\n      <g style=\"fill:#ffffff;\" transform=\"translate(92.657038 122.309841)scale(0.1 -0.1)\">\n       <defs>\n        <path d=\"M 19.1875 8.296875 \nL 53.609375 8.296875 \nL 53.609375 0 \nL 7.328125 0 \nL 7.328125 8.296875 \nQ 12.9375 14.109375 22.625 23.890625 \nQ 32.328125 33.6875 34.8125 36.53125 \nQ 39.546875 41.84375 41.421875 45.53125 \nQ 43.3125 49.21875 43.3125 52.78125 \nQ 43.3125 58.59375 39.234375 62.25 \nQ 35.15625 65.921875 28.609375 65.921875 \nQ 23.96875 65.921875 18.8125 64.3125 \nQ 13.671875 62.703125 7.8125 59.421875 \nL 7.8125 69.390625 \nQ 13.765625 71.78125 18.9375 73 \nQ 24.125 74.21875 28.421875 74.21875 \nQ 39.75 74.21875 46.484375 68.546875 \nQ 53.21875 62.890625 53.21875 53.421875 \nQ 53.21875 48.921875 51.53125 44.890625 \nQ 49.859375 40.875 45.40625 35.40625 \nQ 44.1875 33.984375 37.640625 27.21875 \nQ 31.109375 20.453125 19.1875 8.296875 \nz\n\" id=\"DejaVuSans-50\"/>\n       </defs>\n       <use xlink:href=\"#DejaVuSans-50\"/>\n       <use x=\"63.623047\" xlink:href=\"#DejaVuSans-48\"/>\n      </g>\n     </g>\n    </g>\n   </g>\n   <g id=\"matplotlib.axis_2\">\n    <g id=\"ytick_1\">\n     <g id=\"line2d_4\">\n      <defs>\n       <path d=\"M 0 0 \nL -3.5 0 \n\" id=\"m68f7d249bf\" style=\"stroke:#ffffff;stroke-width:0.8;\"/>\n      </defs>\n      <g>\n       <use style=\"fill:#ffffff;stroke:#ffffff;stroke-width:0.8;\" x=\"26.925\" xlink:href=\"#m68f7d249bf\" y=\"10.999219\"/>\n      </g>\n     </g>\n     <g id=\"text_4\">\n      <!-- 0 -->\n      <g style=\"fill:#ffffff;\" transform=\"translate(13.5625 14.798437)scale(0.1 -0.1)\">\n       <use xlink:href=\"#DejaVuSans-48\"/>\n      </g>\n     </g>\n    </g>\n    <g id=\"ytick_2\">\n     <g id=\"line2d_5\">\n      <g>\n       <use style=\"fill:#ffffff;stroke:#ffffff;stroke-width:0.8;\" x=\"26.925\" xlink:href=\"#m68f7d249bf\" y=\"46.167286\"/>\n      </g>\n     </g>\n     <g id=\"text_5\">\n      <!-- 10 -->\n      <g style=\"fill:#ffffff;\" transform=\"translate(7.2 49.966505)scale(0.1 -0.1)\">\n       <use xlink:href=\"#DejaVuSans-49\"/>\n       <use x=\"63.623047\" xlink:href=\"#DejaVuSans-48\"/>\n      </g>\n     </g>\n    </g>\n    <g id=\"ytick_3\">\n     <g id=\"line2d_6\">\n      <g>\n       <use style=\"fill:#ffffff;stroke:#ffffff;stroke-width:0.8;\" x=\"26.925\" xlink:href=\"#m68f7d249bf\" y=\"81.335353\"/>\n      </g>\n     </g>\n     <g id=\"text_6\">\n      <!-- 20 -->\n      <g style=\"fill:#ffffff;\" transform=\"translate(7.2 85.134572)scale(0.1 -0.1)\">\n       <use xlink:href=\"#DejaVuSans-50\"/>\n       <use x=\"63.623047\" xlink:href=\"#DejaVuSans-48\"/>\n      </g>\n     </g>\n    </g>\n   </g>\n   <g id=\"patch_3\">\n    <path d=\"M 26.925 107.711404 \nL 26.925 9.240815 \n\" style=\"fill:none;stroke:#ffffff;stroke-linecap:square;stroke-linejoin:miter;stroke-width:0.8;\"/>\n   </g>\n   <g id=\"patch_4\">\n    <path d=\"M 125.395588 107.711404 \nL 125.395588 9.240815 \n\" style=\"fill:none;stroke:#ffffff;stroke-linecap:square;stroke-linejoin:miter;stroke-width:0.8;\"/>\n   </g>\n   <g id=\"patch_5\">\n    <path d=\"M 26.925 107.711404 \nL 125.395588 107.711404 \n\" style=\"fill:none;stroke:#ffffff;stroke-linecap:square;stroke-linejoin:miter;stroke-width:0.8;\"/>\n   </g>\n   <g id=\"patch_6\">\n    <path d=\"M 26.925 9.240815 \nL 125.395588 9.240815 \n\" style=\"fill:none;stroke:#ffffff;stroke-linecap:square;stroke-linejoin:miter;stroke-width:0.8;\"/>\n   </g>\n  </g>\n  <g id=\"axes_2\">\n   <g id=\"patch_7\">\n    <path d=\"M 145.089706 107.711404 \nL 243.560294 107.711404 \nL 243.560294 9.240815 \nL 145.089706 9.240815 \nz\n\"/>\n   </g>\n   <g clip-path=\"url(#p78ae2d8a49)\">\n    <image height=\"99\" id=\"image6f7a533b9b\" transform=\"scale(1 -1)translate(0 -99)\" width=\"99\" x=\"145.089706\" xlink:href=\"data:image/png;base64,\niVBORw0KGgoAAAANSUhEUgAAAGMAAABjCAYAAACPO76VAAADnklEQVR4nO2dPyxzURjGbz9iMWDzZ5BU24nFaGESi0To0MFQmlgkFiIGYjCIQQwiBhEG0cFkQA0SaVSCGKxSBhaLkYHgm77XeU/Sfv2+nHvvk3h+03Pypj0nfnnPub29qYjneV8egeBX2Asg31AGEJQBBGUAQRlAUAYQ1WEvIGh6enrU+Pj4WHJ1tf5zzM7OSl5cXPR1XZ7HzoCCMoCgDCB+3Jlxd3enxi8vL5Lr6upUbW9vL5A1/YGdAQRlAPHjtqnOzk41tremMGFnAEEZQFAGEJQBBGUAQRlAUAYQlAEEZQBBGUBQBhCUAQRlAPHj7tqW4+PjQ40/Pz8DnZ+dAQRlAEEZQPDMMDg9PVXj+/v7QOdnZwBBGUCEvk1FIhHJ9rOu5TAvO+1L0kpfhwY7AwjKAIIygAjkzGhpaZE8MjKiavF4XPLw8HDF73l7eyv57OxM1YrFohofHBxIfnx8VLXX19eK5/QbdgYQlAFExPPhFxLGx8fVeGZmRnJzc7Pr6f7K29ub5IeHB1WLxWKST05OVK23t9ffhVmwM4CgDCAoAwhnl7aJRELy9PS0qpnnxPn5uart7OxI3tra+q+5x8bG1HhgYECNu7u7JZtnhE1tba0a19TUSDbPHb9gZwBBGUBQBhDOPmeYtyfa2tpU7eLiQnJ/f7+qPT8/u5i+LH19fZI3NzdVrbGxseTrpqamJK+srLhfmAU7AwjKAMLZpW1TU1PJ2uHhoeQgtiWbXC4n+ebmRtXMbcr+9YRsNuvvwizYGUBQBhCUAYSzM2N9fV3y5OSkqrW2trqaxjm7u7uSV1dXVe3p6SnQtbAzgKAMIJxtU0tLS5KHhoZULZ1OS7YfCFheXpZs/hCXS+rr6yXbdweurq4kX15e+jJ/pbAzgKAMICgDCGdnhnmbY2FhQdXm5uYkz8/Pq9rg4KDkTCajatfX107WZp4Z5b7pCxt2BhCUAYQvz9pub2+rsflJdnR0VNXMbSqfz6va0dGR5EKhUHK+jY0NNY5Go2qcTCbLLxgEdgYQlAEEZQDhy4PP/4L5fynsh9+CYGJiQvLa2lrg85uwM4CgDCBC36aqqqokt7e3q1pHR4fkrq6uku/R0NCgxqlUSo3NZ6X29/dVzXxY4f39vYIV+wc7AwjKAIIygAj9zCDfsDOAoAwgKAMIygCCMoCgDCAoAwjKAIIygKAMICgDCMoAgjKAoAwgKAMIygCCMoCgDCAoAwjKAOI3tmy8fBz7PMsAAAAASUVORK5CYII=\" y=\"-8.711404\"/>\n   </g>\n   <g id=\"matplotlib.axis_3\">\n    <g id=\"xtick_4\">\n     <g id=\"line2d_7\">\n      <g>\n       <use style=\"fill:#ffffff;stroke:#ffffff;stroke-width:0.8;\" x=\"146.848109\" xlink:href=\"#m074cafb320\" y=\"107.711404\"/>\n      </g>\n     </g>\n     <g id=\"text_7\">\n      <!-- 0 -->\n      <g style=\"fill:#ffffff;\" transform=\"translate(143.666859 122.309841)scale(0.1 -0.1)\">\n       <use xlink:href=\"#DejaVuSans-48\"/>\n      </g>\n     </g>\n    </g>\n    <g id=\"xtick_5\">\n     <g id=\"line2d_8\">\n      <g>\n       <use style=\"fill:#ffffff;stroke:#ffffff;stroke-width:0.8;\" x=\"182.016176\" xlink:href=\"#m074cafb320\" y=\"107.711404\"/>\n      </g>\n     </g>\n     <g id=\"text_8\">\n      <!-- 10 -->\n      <g style=\"fill:#ffffff;\" transform=\"translate(175.653676 122.309841)scale(0.1 -0.1)\">\n       <use xlink:href=\"#DejaVuSans-49\"/>\n       <use x=\"63.623047\" xlink:href=\"#DejaVuSans-48\"/>\n      </g>\n     </g>\n    </g>\n    <g id=\"xtick_6\">\n     <g id=\"line2d_9\">\n      <g>\n       <use style=\"fill:#ffffff;stroke:#ffffff;stroke-width:0.8;\" x=\"217.184244\" xlink:href=\"#m074cafb320\" y=\"107.711404\"/>\n      </g>\n     </g>\n     <g id=\"text_9\">\n      <!-- 20 -->\n      <g style=\"fill:#ffffff;\" transform=\"translate(210.821744 122.309841)scale(0.1 -0.1)\">\n       <use xlink:href=\"#DejaVuSans-50\"/>\n       <use x=\"63.623047\" xlink:href=\"#DejaVuSans-48\"/>\n      </g>\n     </g>\n    </g>\n   </g>\n   <g id=\"matplotlib.axis_4\">\n    <g id=\"ytick_4\">\n     <g id=\"line2d_10\">\n      <g>\n       <use style=\"fill:#ffffff;stroke:#ffffff;stroke-width:0.8;\" x=\"145.089706\" xlink:href=\"#m68f7d249bf\" y=\"10.999219\"/>\n      </g>\n     </g>\n     <g id=\"text_10\">\n      <!-- 0 -->\n      <g style=\"fill:#ffffff;\" transform=\"translate(131.727206 14.798437)scale(0.1 -0.1)\">\n       <use xlink:href=\"#DejaVuSans-48\"/>\n      </g>\n     </g>\n    </g>\n    <g id=\"ytick_5\">\n     <g id=\"line2d_11\">\n      <g>\n       <use style=\"fill:#ffffff;stroke:#ffffff;stroke-width:0.8;\" x=\"145.089706\" xlink:href=\"#m68f7d249bf\" y=\"46.167286\"/>\n      </g>\n     </g>\n     <g id=\"text_11\">\n      <!-- 10 -->\n      <g style=\"fill:#ffffff;\" transform=\"translate(125.364706 49.966505)scale(0.1 -0.1)\">\n       <use xlink:href=\"#DejaVuSans-49\"/>\n       <use x=\"63.623047\" xlink:href=\"#DejaVuSans-48\"/>\n      </g>\n     </g>\n    </g>\n    <g id=\"ytick_6\">\n     <g id=\"line2d_12\">\n      <g>\n       <use style=\"fill:#ffffff;stroke:#ffffff;stroke-width:0.8;\" x=\"145.089706\" xlink:href=\"#m68f7d249bf\" y=\"81.335353\"/>\n      </g>\n     </g>\n     <g id=\"text_12\">\n      <!-- 20 -->\n      <g style=\"fill:#ffffff;\" transform=\"translate(125.364706 85.134572)scale(0.1 -0.1)\">\n       <use xlink:href=\"#DejaVuSans-50\"/>\n       <use x=\"63.623047\" xlink:href=\"#DejaVuSans-48\"/>\n      </g>\n     </g>\n    </g>\n   </g>\n   <g id=\"patch_8\">\n    <path d=\"M 145.089706 107.711404 \nL 145.089706 9.240815 \n\" style=\"fill:none;stroke:#ffffff;stroke-linecap:square;stroke-linejoin:miter;stroke-width:0.8;\"/>\n   </g>\n   <g id=\"patch_9\">\n    <path d=\"M 243.560294 107.711404 \nL 243.560294 9.240815 \n\" style=\"fill:none;stroke:#ffffff;stroke-linecap:square;stroke-linejoin:miter;stroke-width:0.8;\"/>\n   </g>\n   <g id=\"patch_10\">\n    <path d=\"M 145.089706 107.711404 \nL 243.560294 107.711404 \n\" style=\"fill:none;stroke:#ffffff;stroke-linecap:square;stroke-linejoin:miter;stroke-width:0.8;\"/>\n   </g>\n   <g id=\"patch_11\">\n    <path d=\"M 145.089706 9.240815 \nL 243.560294 9.240815 \n\" style=\"fill:none;stroke:#ffffff;stroke-linecap:square;stroke-linejoin:miter;stroke-width:0.8;\"/>\n   </g>\n  </g>\n  <g id=\"axes_3\">\n   <g id=\"patch_12\">\n    <path d=\"M 263.254412 107.711404 \nL 361.725 107.711404 \nL 361.725 9.240815 \nL 263.254412 9.240815 \nz\n\"/>\n   </g>\n   <g clip-path=\"url(#pa6528850f4)\">\n    <image height=\"99\" id=\"imagec59abe332d\" transform=\"scale(1 -1)translate(0 -99)\" width=\"99\" x=\"263.254412\" xlink:href=\"data:image/png;base64,\niVBORw0KGgoAAAANSUhEUgAAAGMAAABjCAYAAACPO76VAAAEPUlEQVR4nO2dyyt2XRjG18PnkCIih6JEipQk5VDIwEBhQESUIUORZCSlDMQ/IGYGSE4DAwyQkaQMZOYURZSUnMI3u991714P9rv79vV+rt/ourv0rFWXe+397L32fgLGmHdDIAjxewLkFwwDCIYBBMMAgmEAwTCAYBhAMAwgGAYQDAOIf/yegFvi4+NFNzc3K6+urk7VMTExopeWlpQ3NjYm+unpycspfht2BhAMA4i/ZpmqqKhQ9fj4uOisrCzlHR0dqTo9PV10UVGR8jIyMkR3dnYq7/X11dVc3cLOAIJhAMEwgAgY4Dt9bW1tokdHR5UXFRUlurGxUXk7OzuqTk5OFj07O6u87Oxs0WVlZcrb3t7+5oz/DHYGEAwDCKhT25AQ/b9RX18v+vT0VHnl5eWiHx4egn7uzc2NaHvpM0YvRbW1tR96/wXsDCAYBhAMAwioU9uBgYEP65aWFuVNT097Mube3p7ohIQE5aWlpXkyxldhZwDBMICAWqbOzs5UfXt7K7qwsFB5bm8EhYaGqnp3d1e0fcPKGC5TPxqGAQTDAALqcoiT5+dn0V5tFigpKVF1Xl6e6PPzc0/GcAs7AwiGAQT0MhUXFyfa+e34+vra1Wc6Ny/YzM3NufpMr2BnAMEwgGAYQEBdDnHeaVtcXBQ9NTWlvPb2dtFvb2/Ki46OVnVPT4/ovr4+5UVERIi+vLxUXmVlpejDw8Ogc/cCdgYQDAMIqFPblZUVVW9tbYlubW1VXnh4uGjnt/Pq6mpVO6/GfkRSUpKqc3JyRHOZ+mEwDCAYBhBQx4zBwUFV22u2E3t/bSAQUN77uz5bn5mZEf3y8qK8/f190fazGsYYs7Gx8cmMvYWdAQTDAIJhAOH75RD7EsjCwoLyjo+Pf/t3xhiTmZkpemJiQnmxsbGqbmpq+nAMJNgZQDAMIHw/ta2pqRHtPEUdGhoSfXBwoDy7TkxMVF5VVZWqS0tLRXOZIl+CYQDBMIDw/ZgRbLeGW1ZXV4PWqLAzgGAYQPi+TN3f3/s6vv3cR0pKivLW1tZEf/Z4sxewM4BgGEAwDCB8P2aMjIyIdl7GSE1N9Xw85xjDw8OiCwoKlNfQ0CB6fn7e87k4YWcAwTCA8H2Z2tzcFO3cANDf3y/afjetMcb09va6Gs/5GJm9NF1dXSlvfX3d1RhuYWcAwTCAYBhA+H7MsLFPJY0x5uLiQnR3d7fyiouLRS8vLyvP3rRmjDGRkZGig22Ms+8sGmPM3d3dJzP2FnYGEAwDCN/3TQUjPz9fdFdXl/Lsl4GFhYW5HmNyclJ0R0eH8vgu9B8MwwCCYQABfcwIRm5urmjn717Yb8oxRv/WhvM96ScnJ6IfHx+9nOK3YWcAwTCA+GuXqf8j7AwgGAYQDAMIhgEEwwCCYQDBMIBgGEAwDCAYBhAMAwiGAQTDAIJhAMEwgGAYQDAMIP4Fx4ftD+SoNEYAAAAASUVORK5CYII=\" y=\"-8.711404\"/>\n   </g>\n   <g id=\"matplotlib.axis_5\">\n    <g id=\"xtick_7\">\n     <g id=\"line2d_13\">\n      <g>\n       <use style=\"fill:#ffffff;stroke:#ffffff;stroke-width:0.8;\" x=\"265.012815\" xlink:href=\"#m074cafb320\" y=\"107.711404\"/>\n      </g>\n     </g>\n     <g id=\"text_13\">\n      <!-- 0 -->\n      <g style=\"fill:#ffffff;\" transform=\"translate(261.831565 122.309841)scale(0.1 -0.1)\">\n       <use xlink:href=\"#DejaVuSans-48\"/>\n      </g>\n     </g>\n    </g>\n    <g id=\"xtick_8\">\n     <g id=\"line2d_14\">\n      <g>\n       <use style=\"fill:#ffffff;stroke:#ffffff;stroke-width:0.8;\" x=\"300.180882\" xlink:href=\"#m074cafb320\" y=\"107.711404\"/>\n      </g>\n     </g>\n     <g id=\"text_14\">\n      <!-- 10 -->\n      <g style=\"fill:#ffffff;\" transform=\"translate(293.818382 122.309841)scale(0.1 -0.1)\">\n       <use xlink:href=\"#DejaVuSans-49\"/>\n       <use x=\"63.623047\" xlink:href=\"#DejaVuSans-48\"/>\n      </g>\n     </g>\n    </g>\n    <g id=\"xtick_9\">\n     <g id=\"line2d_15\">\n      <g>\n       <use style=\"fill:#ffffff;stroke:#ffffff;stroke-width:0.8;\" x=\"335.34895\" xlink:href=\"#m074cafb320\" y=\"107.711404\"/>\n      </g>\n     </g>\n     <g id=\"text_15\">\n      <!-- 20 -->\n      <g style=\"fill:#ffffff;\" transform=\"translate(328.98645 122.309841)scale(0.1 -0.1)\">\n       <use xlink:href=\"#DejaVuSans-50\"/>\n       <use x=\"63.623047\" xlink:href=\"#DejaVuSans-48\"/>\n      </g>\n     </g>\n    </g>\n   </g>\n   <g id=\"matplotlib.axis_6\">\n    <g id=\"ytick_7\">\n     <g id=\"line2d_16\">\n      <g>\n       <use style=\"fill:#ffffff;stroke:#ffffff;stroke-width:0.8;\" x=\"263.254412\" xlink:href=\"#m68f7d249bf\" y=\"10.999219\"/>\n      </g>\n     </g>\n     <g id=\"text_16\">\n      <!-- 0 -->\n      <g style=\"fill:#ffffff;\" transform=\"translate(249.891912 14.798437)scale(0.1 -0.1)\">\n       <use xlink:href=\"#DejaVuSans-48\"/>\n      </g>\n     </g>\n    </g>\n    <g id=\"ytick_8\">\n     <g id=\"line2d_17\">\n      <g>\n       <use style=\"fill:#ffffff;stroke:#ffffff;stroke-width:0.8;\" x=\"263.254412\" xlink:href=\"#m68f7d249bf\" y=\"46.167286\"/>\n      </g>\n     </g>\n     <g id=\"text_17\">\n      <!-- 10 -->\n      <g style=\"fill:#ffffff;\" transform=\"translate(243.529412 49.966505)scale(0.1 -0.1)\">\n       <use xlink:href=\"#DejaVuSans-49\"/>\n       <use x=\"63.623047\" xlink:href=\"#DejaVuSans-48\"/>\n      </g>\n     </g>\n    </g>\n    <g id=\"ytick_9\">\n     <g id=\"line2d_18\">\n      <g>\n       <use style=\"fill:#ffffff;stroke:#ffffff;stroke-width:0.8;\" x=\"263.254412\" xlink:href=\"#m68f7d249bf\" y=\"81.335353\"/>\n      </g>\n     </g>\n     <g id=\"text_18\">\n      <!-- 20 -->\n      <g style=\"fill:#ffffff;\" transform=\"translate(243.529412 85.134572)scale(0.1 -0.1)\">\n       <use xlink:href=\"#DejaVuSans-50\"/>\n       <use x=\"63.623047\" xlink:href=\"#DejaVuSans-48\"/>\n      </g>\n     </g>\n    </g>\n   </g>\n   <g id=\"patch_13\">\n    <path d=\"M 263.254412 107.711404 \nL 263.254412 9.240815 \n\" style=\"fill:none;stroke:#ffffff;stroke-linecap:square;stroke-linejoin:miter;stroke-width:0.8;\"/>\n   </g>\n   <g id=\"patch_14\">\n    <path d=\"M 361.725 107.711404 \nL 361.725 9.240815 \n\" style=\"fill:none;stroke:#ffffff;stroke-linecap:square;stroke-linejoin:miter;stroke-width:0.8;\"/>\n   </g>\n   <g id=\"patch_15\">\n    <path d=\"M 263.254412 107.711404 \nL 361.725 107.711404 \n\" style=\"fill:none;stroke:#ffffff;stroke-linecap:square;stroke-linejoin:miter;stroke-width:0.8;\"/>\n   </g>\n   <g id=\"patch_16\">\n    <path d=\"M 263.254412 9.240815 \nL 361.725 9.240815 \n\" style=\"fill:none;stroke:#ffffff;stroke-linecap:square;stroke-linejoin:miter;stroke-width:0.8;\"/>\n   </g>\n  </g>\n  <g id=\"axes_4\">\n   <g id=\"patch_17\">\n    <path d=\"M 26.925 226.31504 \nL 125.395588 226.31504 \nL 125.395588 127.844452 \nL 26.925 127.844452 \nz\n\"/>\n   </g>\n   <g clip-path=\"url(#pe23e8abad4)\">\n    <image height=\"99\" id=\"image4b8c706c29\" transform=\"scale(1 -1)translate(0 -99)\" width=\"99\" x=\"26.925\" xlink:href=\"data:image/png;base64,\niVBORw0KGgoAAAANSUhEUgAAAGMAAABjCAYAAACPO76VAAAEHUlEQVR4nO2dTShvQRjG53+72SiUnUTERlHKShIropSSUlI2FAtlIcrSgpJiTcoCkY+NEhZEIiLWFj6iUCILH5G7e807XTr33P855ynPb/W8vd2Z0dM7M+f858yNGWM+DIHgV9QDIJ/QDCBoBhA0AwiaAQTNAIJmAEEzgKAZQNAMIGgGEDQDCJoBBM0AgmYAQTOAoBlA/I56ADY5OTkq7ujoEN3W1ua5nf7+fhX39fWJfnp68jm64GFlAEEzgIiZiA8kFBUViV5ZWVG55ORkX23GYjEVLy4uiu7q6lK5k5MTX30EASsDCJoBBM0AIvQ1Iz09XcWHh4eiU1NTVe7l5UX08vLyl22WlJSo2G3n4+PzT5ydnVW5pqYm0a+vr1/2EQasDCBoBhChT1NLS0sqrqysFD03N6dy9jb09PT0yzZTUlJU3Nvbq+L29nbRCQkJKldVVSV6Z2dH5erq6kRvbGyoXBBbYlYGEDQDCJoBROhrxu3trYrtbWhpaanKbW1txaXPwcFB0Z2dnSpnr0Vvb28ql5ubK3pgYEDluru74zI2G1YGEDQDiNCnqZubGxXb01RaWprKXV9fx6XP8vJy0Wtra57/3ePjo+iCggKVOz8///+BObAygKAZQNAMIKAOJBwcHKjYXjOmpqY8t9Pc3KzirKwsX+MZHx8XHcQa4cLKAIJmABH61nZ/f1/FhYWFn4NxDhLYPwr9C37bcbe9FRUVvvr3CysDCJoBBM0AIvStbU1NjYonJydFu29tvfLw8KBi95c/r4Sxff0OVgYQNAMImgFE6GvG1dWVisvKykTX1taqXHV1teiLiwuVs58J3Fft+fn5Kn5+fhbd09Ojcu4BuChhZQBBM4CAemu7sLDwbeyV7w6YtbS0qNjvK5cgYGUAQTOAoBlAQK0ZUTM/Px9p/6wMIGgGED9+mtre3ha9u7sb4UhYGVDQDCBoBhChrxnuN3XDw8Oix8bGVM49SeKXxMRE0Xl5eSq3vr4u+u7uLi79+YWVAQTNACL0aSo7O1vFra2tot1pKV7TlP3Jl/1pmDHGjI6OxqWPeMDKAIJmAEEzgIj8dYj9S1txcbHKuVtdryQlJam4sbHxr/0ZY8zm5qavPoKAlQEEzQAi9GnKfcq9vLwUXV9fr3L2hV/upV3fcXR0pOKMjAzR9hO/Mcbs7e15bjdoWBlA0AwgaAYQoa8Z7nUVZ2dnot3LJCcmJkQ3NDR47iMzM1PF9sWT09PTKvf+/u653aBhZQBBM4CAugt9dXVV5dwnaa/YnwAYo29MmJmZ8dVmGLAygKAZQNAMICJfM2zc23CGhoZEu/+Xxv39vWj3jOzIyIiKj4+P4zTCYGFlAEEzgICapn46rAwgaAYQNAMImgEEzQCCZgBBM4CgGUDQDCBoBhB/AAPSBFtVCeo6AAAAAElFTkSuQmCC\" y=\"-127.31504\"/>\n   </g>\n   <g id=\"matplotlib.axis_7\">\n    <g id=\"xtick_10\">\n     <g id=\"line2d_19\">\n      <g>\n       <use style=\"fill:#ffffff;stroke:#ffffff;stroke-width:0.8;\" x=\"28.683403\" xlink:href=\"#m074cafb320\" y=\"226.31504\"/>\n      </g>\n     </g>\n     <g id=\"text_19\">\n      <!-- 0 -->\n      <g style=\"fill:#ffffff;\" transform=\"translate(25.502153 240.913477)scale(0.1 -0.1)\">\n       <use xlink:href=\"#DejaVuSans-48\"/>\n      </g>\n     </g>\n    </g>\n    <g id=\"xtick_11\">\n     <g id=\"line2d_20\">\n      <g>\n       <use style=\"fill:#ffffff;stroke:#ffffff;stroke-width:0.8;\" x=\"63.851471\" xlink:href=\"#m074cafb320\" y=\"226.31504\"/>\n      </g>\n     </g>\n     <g id=\"text_20\">\n      <!-- 10 -->\n      <g style=\"fill:#ffffff;\" transform=\"translate(57.488971 240.913477)scale(0.1 -0.1)\">\n       <use xlink:href=\"#DejaVuSans-49\"/>\n       <use x=\"63.623047\" xlink:href=\"#DejaVuSans-48\"/>\n      </g>\n     </g>\n    </g>\n    <g id=\"xtick_12\">\n     <g id=\"line2d_21\">\n      <g>\n       <use style=\"fill:#ffffff;stroke:#ffffff;stroke-width:0.8;\" x=\"99.019538\" xlink:href=\"#m074cafb320\" y=\"226.31504\"/>\n      </g>\n     </g>\n     <g id=\"text_21\">\n      <!-- 20 -->\n      <g style=\"fill:#ffffff;\" transform=\"translate(92.657038 240.913477)scale(0.1 -0.1)\">\n       <use xlink:href=\"#DejaVuSans-50\"/>\n       <use x=\"63.623047\" xlink:href=\"#DejaVuSans-48\"/>\n      </g>\n     </g>\n    </g>\n   </g>\n   <g id=\"matplotlib.axis_8\">\n    <g id=\"ytick_10\">\n     <g id=\"line2d_22\">\n      <g>\n       <use style=\"fill:#ffffff;stroke:#ffffff;stroke-width:0.8;\" x=\"26.925\" xlink:href=\"#m68f7d249bf\" y=\"129.602855\"/>\n      </g>\n     </g>\n     <g id=\"text_22\">\n      <!-- 0 -->\n      <g style=\"fill:#ffffff;\" transform=\"translate(13.5625 133.402074)scale(0.1 -0.1)\">\n       <use xlink:href=\"#DejaVuSans-48\"/>\n      </g>\n     </g>\n    </g>\n    <g id=\"ytick_11\">\n     <g id=\"line2d_23\">\n      <g>\n       <use style=\"fill:#ffffff;stroke:#ffffff;stroke-width:0.8;\" x=\"26.925\" xlink:href=\"#m68f7d249bf\" y=\"164.770922\"/>\n      </g>\n     </g>\n     <g id=\"text_23\">\n      <!-- 10 -->\n      <g style=\"fill:#ffffff;\" transform=\"translate(7.2 168.570141)scale(0.1 -0.1)\">\n       <use xlink:href=\"#DejaVuSans-49\"/>\n       <use x=\"63.623047\" xlink:href=\"#DejaVuSans-48\"/>\n      </g>\n     </g>\n    </g>\n    <g id=\"ytick_12\">\n     <g id=\"line2d_24\">\n      <g>\n       <use style=\"fill:#ffffff;stroke:#ffffff;stroke-width:0.8;\" x=\"26.925\" xlink:href=\"#m68f7d249bf\" y=\"199.93899\"/>\n      </g>\n     </g>\n     <g id=\"text_24\">\n      <!-- 20 -->\n      <g style=\"fill:#ffffff;\" transform=\"translate(7.2 203.738208)scale(0.1 -0.1)\">\n       <use xlink:href=\"#DejaVuSans-50\"/>\n       <use x=\"63.623047\" xlink:href=\"#DejaVuSans-48\"/>\n      </g>\n     </g>\n    </g>\n   </g>\n   <g id=\"patch_18\">\n    <path d=\"M 26.925 226.31504 \nL 26.925 127.844452 \n\" style=\"fill:none;stroke:#ffffff;stroke-linecap:square;stroke-linejoin:miter;stroke-width:0.8;\"/>\n   </g>\n   <g id=\"patch_19\">\n    <path d=\"M 125.395588 226.31504 \nL 125.395588 127.844452 \n\" style=\"fill:none;stroke:#ffffff;stroke-linecap:square;stroke-linejoin:miter;stroke-width:0.8;\"/>\n   </g>\n   <g id=\"patch_20\">\n    <path d=\"M 26.925 226.31504 \nL 125.395588 226.31504 \n\" style=\"fill:none;stroke:#ffffff;stroke-linecap:square;stroke-linejoin:miter;stroke-width:0.8;\"/>\n   </g>\n   <g id=\"patch_21\">\n    <path d=\"M 26.925 127.844452 \nL 125.395588 127.844452 \n\" style=\"fill:none;stroke:#ffffff;stroke-linecap:square;stroke-linejoin:miter;stroke-width:0.8;\"/>\n   </g>\n  </g>\n  <g id=\"axes_5\">\n   <g id=\"patch_22\">\n    <path d=\"M 145.089706 226.31504 \nL 243.560294 226.31504 \nL 243.560294 127.844452 \nL 145.089706 127.844452 \nz\n\"/>\n   </g>\n   <g clip-path=\"url(#p9190d0499b)\">\n    <image height=\"99\" id=\"image812265b436\" transform=\"scale(1 -1)translate(0 -99)\" width=\"99\" x=\"145.089706\" xlink:href=\"data:image/png;base64,\niVBORw0KGgoAAAANSUhEUgAAAGMAAABjCAYAAACPO76VAAAE4UlEQVR4nO2cTSh1XRTH9317SikGBj7yNaJEUgYUEsnAV0wYyVeSFEXJhIREMVEGPooYYCZJCZEwlIkSJspHRBGSCe9svWvtnnuee+/7Hvdf7/qN/rt17t2n/q2z99ln7+UxxnwbBYK/gn0Dyj+oGUCoGUCoGUCoGUCoGUCoGUCoGUCoGUCoGUD8cuVPf8m/zcjIIF1TU+P1dx6PR7Tv7u5Ir6ysiNjr6yvpl5eXQG4TDs0MINQMIDzGhVXbqakp0W5qavLtZqzH1Pe391s7Pz8n3djYKGIXFxei/fT05FP/wUYzAwg1Awg1AwhXprZvb28+X7uxsUH64+NDxCIiIkgXFBSIWHJyMunDw0MR29vbE+3q6mrSyOOHZgYQagYQrkxt7cdEXl4eaXvamZ2dTfr5+VnEQkJCSLe3t4tYSUkJ6fz8fBGzp8QTExOk+/r6RIy/yQcbzQwg1Awg1AwgXBkzxsfHRbujo8PrtbW1taSXlpZc729/f1+0CwsLA+rTDTQzgFAzgHDlDXxxcVG0ExMTSVdWVopYb28vaXuaub6+/q/7s/uMjo4WsbKyMr/7cwvNDCDUDCDUDCBcGTNOTk5Eu6GhgXRSUpKIpaamkubLFsYY8/7+Tnp3d9fn/tbW1kSbjxl8tRcNzQwg1AwgXHkDdyIqKkq0j4+PScfExIjY4+Mj6bm5OREbGhoibU+J09LSRHtzc5O0PbWdnp4m3dra6njvbqOZAYSaAYSaAYQrU1sn7u/vRTs2Npb0zc2NiPHxpaurS8TCw8NJd3d3i5i9IeLr64u0/RXQHkOCiWYGEGoGED/+mHLCfjtfWFggba/2Njc3k87KyhIxe2+UPWXm8GMHwUYzAwg1Awg1A4gfXw7xh7CwMNKDg4Mixs98hIaGipjTuQ6bhIQE0re3t/7e4n+KZgYQagYQagYQ0GOGE3wDc39/v4j5M2boErryW9QMIKAfU/x8Rn19vYhNTk6Sto8sf35+ijZfxeVH04yRmx4GBgZEbH5+nvRPHD/TzABCzQBCzQACasywNyzzL3gtLS1ef7ezsyPaIyMjon15eUl6dnZWxIqKikjbU+Lr62vSpaWlInZ6eur1fgJFMwMINQOIoD+m+N7XsbExEePHi214ZYWKioqA+y8uLiY9MzMjYnyzhP1FkJ8J2draEjGnfcFOaGYAoWYAoWYA8eNjhn0+Ynt7m3R8fLyI8c1ny8vLItbW1kbaLnMRKPaG6eHhYdL21JYvwdjLLzk5OaT5xu4/oZkBhJoBRNCntldXV6Tj4uJEjL8RV1VViRivdOBPXVu+ycEYuYd3dHRUxHgxsszMTBHj03BeNcjGfvSdnZ15vVYzAwg1Awg1A4igjxmrq6uky8vLRczXIsN2FR27qDG/1q7axuu088KSxsizgDa5ubmk+VdHY+RxartSEK8iZKOZAYSaAUTQH1Ocnp4e0eb7mPgKqo0/NdSdfnt0dCRiTlNWDi96aYwxBwcHpO0CmSkpKV7/RzMDCDUDCDUDCKgxw6auro50enq61+s6OztFm6/2/gn+xdCeEj88PPj0H3yznTHGREZGkrZLaTitMGtmAKFmAAH9mPq/oZkBhJoBhJoBhJoBhJoBhJoBhJoBhJoBhJoBhJoBhJoBhJoBhJoBhJoBhJoBhJoBhJoBxN8Ayl+liyRrZQAAAABJRU5ErkJggg==\" y=\"-127.31504\"/>\n   </g>\n   <g id=\"matplotlib.axis_9\">\n    <g id=\"xtick_13\">\n     <g id=\"line2d_25\">\n      <g>\n       <use style=\"fill:#ffffff;stroke:#ffffff;stroke-width:0.8;\" x=\"146.848109\" xlink:href=\"#m074cafb320\" y=\"226.31504\"/>\n      </g>\n     </g>\n     <g id=\"text_25\">\n      <!-- 0 -->\n      <g style=\"fill:#ffffff;\" transform=\"translate(143.666859 240.913477)scale(0.1 -0.1)\">\n       <use xlink:href=\"#DejaVuSans-48\"/>\n      </g>\n     </g>\n    </g>\n    <g id=\"xtick_14\">\n     <g id=\"line2d_26\">\n      <g>\n       <use style=\"fill:#ffffff;stroke:#ffffff;stroke-width:0.8;\" x=\"182.016176\" xlink:href=\"#m074cafb320\" y=\"226.31504\"/>\n      </g>\n     </g>\n     <g id=\"text_26\">\n      <!-- 10 -->\n      <g style=\"fill:#ffffff;\" transform=\"translate(175.653676 240.913477)scale(0.1 -0.1)\">\n       <use xlink:href=\"#DejaVuSans-49\"/>\n       <use x=\"63.623047\" xlink:href=\"#DejaVuSans-48\"/>\n      </g>\n     </g>\n    </g>\n    <g id=\"xtick_15\">\n     <g id=\"line2d_27\">\n      <g>\n       <use style=\"fill:#ffffff;stroke:#ffffff;stroke-width:0.8;\" x=\"217.184244\" xlink:href=\"#m074cafb320\" y=\"226.31504\"/>\n      </g>\n     </g>\n     <g id=\"text_27\">\n      <!-- 20 -->\n      <g style=\"fill:#ffffff;\" transform=\"translate(210.821744 240.913477)scale(0.1 -0.1)\">\n       <use xlink:href=\"#DejaVuSans-50\"/>\n       <use x=\"63.623047\" xlink:href=\"#DejaVuSans-48\"/>\n      </g>\n     </g>\n    </g>\n   </g>\n   <g id=\"matplotlib.axis_10\">\n    <g id=\"ytick_13\">\n     <g id=\"line2d_28\">\n      <g>\n       <use style=\"fill:#ffffff;stroke:#ffffff;stroke-width:0.8;\" x=\"145.089706\" xlink:href=\"#m68f7d249bf\" y=\"129.602855\"/>\n      </g>\n     </g>\n     <g id=\"text_28\">\n      <!-- 0 -->\n      <g style=\"fill:#ffffff;\" transform=\"translate(131.727206 133.402074)scale(0.1 -0.1)\">\n       <use xlink:href=\"#DejaVuSans-48\"/>\n      </g>\n     </g>\n    </g>\n    <g id=\"ytick_14\">\n     <g id=\"line2d_29\">\n      <g>\n       <use style=\"fill:#ffffff;stroke:#ffffff;stroke-width:0.8;\" x=\"145.089706\" xlink:href=\"#m68f7d249bf\" y=\"164.770922\"/>\n      </g>\n     </g>\n     <g id=\"text_29\">\n      <!-- 10 -->\n      <g style=\"fill:#ffffff;\" transform=\"translate(125.364706 168.570141)scale(0.1 -0.1)\">\n       <use xlink:href=\"#DejaVuSans-49\"/>\n       <use x=\"63.623047\" xlink:href=\"#DejaVuSans-48\"/>\n      </g>\n     </g>\n    </g>\n    <g id=\"ytick_15\">\n     <g id=\"line2d_30\">\n      <g>\n       <use style=\"fill:#ffffff;stroke:#ffffff;stroke-width:0.8;\" x=\"145.089706\" xlink:href=\"#m68f7d249bf\" y=\"199.93899\"/>\n      </g>\n     </g>\n     <g id=\"text_30\">\n      <!-- 20 -->\n      <g style=\"fill:#ffffff;\" transform=\"translate(125.364706 203.738208)scale(0.1 -0.1)\">\n       <use xlink:href=\"#DejaVuSans-50\"/>\n       <use x=\"63.623047\" xlink:href=\"#DejaVuSans-48\"/>\n      </g>\n     </g>\n    </g>\n   </g>\n   <g id=\"patch_23\">\n    <path d=\"M 145.089706 226.31504 \nL 145.089706 127.844452 \n\" style=\"fill:none;stroke:#ffffff;stroke-linecap:square;stroke-linejoin:miter;stroke-width:0.8;\"/>\n   </g>\n   <g id=\"patch_24\">\n    <path d=\"M 243.560294 226.31504 \nL 243.560294 127.844452 \n\" style=\"fill:none;stroke:#ffffff;stroke-linecap:square;stroke-linejoin:miter;stroke-width:0.8;\"/>\n   </g>\n   <g id=\"patch_25\">\n    <path d=\"M 145.089706 226.31504 \nL 243.560294 226.31504 \n\" style=\"fill:none;stroke:#ffffff;stroke-linecap:square;stroke-linejoin:miter;stroke-width:0.8;\"/>\n   </g>\n   <g id=\"patch_26\">\n    <path d=\"M 145.089706 127.844452 \nL 243.560294 127.844452 \n\" style=\"fill:none;stroke:#ffffff;stroke-linecap:square;stroke-linejoin:miter;stroke-width:0.8;\"/>\n   </g>\n  </g>\n  <g id=\"axes_6\">\n   <g id=\"patch_27\">\n    <path d=\"M 263.254412 226.31504 \nL 361.725 226.31504 \nL 361.725 127.844452 \nL 263.254412 127.844452 \nz\n\"/>\n   </g>\n   <g clip-path=\"url(#pf6b02a1588)\">\n    <image height=\"99\" id=\"image7387bb57ac\" transform=\"scale(1 -1)translate(0 -99)\" width=\"99\" x=\"263.254412\" xlink:href=\"data:image/png;base64,\niVBORw0KGgoAAAANSUhEUgAAAGMAAABjCAYAAACPO76VAAAEWklEQVR4nO2cSyh1XxjG1+cycRlIShlQLqVIRiJD14HLwN3EwMQlUiQyo6QwkxRRimJgjFIKA0VSMpNSpIgR5fqfvd96V53T/nT2OU9/z2/0vL1nn7XqOe9ea6+z1v5jjPk2BIKoSHeA/IVmAEEzgKAZQNAMIGgGEDQDCJoBBM0AgmYAERPpDtj09/ereHZ21tN1m5ubKr6/v1dxVVWV6KysLJU7OjoS3dPTo3Ln5+ee2g8VrAwgaAYQfwzQqu3S0pKKOzo6wtr+2dmZivf29kTPz8+r3NXVVcjbZ2UAQTOAoBlAQI0ZKSkpKo6Pjw/42dTUVNGNjY1Bv7eiokJ0Tk6OysXEeJvdu9PcwsJCT9f9C6wMIGgGEFC3qUjQ2dkpuru7W+UKCgpEX19fq1xmZmbI+8LKAIJmAEEzgIBatY0Ei4uLoqurq1XOHjPCASsDCJoBxK+/TUVF/f09RkdHB/zcycmJ/33xvQXiGZoBBM0A4tePGQMDA6JrampU7vHxUfTExITvfWFlAEEzgPh1q7YZGRkqvry8FP38/KxydXV1oo+Pj/3sljGGlQEFzQCCZgABNbWNi4tT8dvbm+iPj4+A1yUmJqq4pKRExbW1taLb29tVLjY2VnRfX5/KhWOcsGFlAEEzgAjLbcq+/eTl5ekOWPuWVlZWVG5tbU20+wQ8PDws2j1KkJyc7LlvU1NTot2jBeGGlQEEzQCCZgDhy3KI/e+ZMcasrq6KbmlpCXjd09OTiuvr60VfXFyo3MPDw4/6NjMzo+KRkRHRn5+fP/rOUMHKAIJmAEEzgPDlOaOrq0vFwcYJG3vOb4w+E2EvjRhjzOHhoeiioiKVC3bmwn0G+fr68tS3cMDKAIJmAOHL1HZ7e1vFZWVlosfHx1Wut7dXdFJSksptbGyIbm1tDdheeXm5iufm5lQc7CyFveL78vIS8HPhgJUBBM0AgmYA4cvUNjs7O2DOfePN6+ur6O9vPXzt7+97am93d1fF7jmLnZ0d0e7ukObmZtHLy8ue2vMLVgYQNAMIX6a29iqtMca0tbWJdldGBwcHRZ+enqrcwcFBSPpj/xPovlDs5uZGdG5ursrZt9BwwMoAgmYAQTOA8GXMsKeLxuhdHsFwl1GGhoZEu//0/QulpaWig02XGxoaVLy1tfXjNn8CKwMImgGEL0/g9mqrMcbc3d2JHh0dVTl7xbWyslLliouLRa+vr6uc+wac/wOsDCBoBhA0A4iwn+lzN7jZ7yJ3lyMSEhICfs/7+7tod4xyV4bT0tJEu9Pu29tb0enp6SoX7s0KrAwgaAYQUEeP7Y0LxhgzPT0tOj8/35c2x8bGRE9OTvrShldYGUDQDCBoBhBQY4aLvcHMfnWEMfoNOE1NTSrnbmywl2Pcs4ELCwuiI73vlpUBBM0AAvo29dtgZQBBM4CgGUDQDCBoBhA0AwiaAQTNAIJmAEEzgKAZQNAMIGgGEDQDCJoBBM0AgmYA8R/mAP37KoIukwAAAABJRU5ErkJggg==\" y=\"-127.31504\"/>\n   </g>\n   <g id=\"matplotlib.axis_11\">\n    <g id=\"xtick_16\">\n     <g id=\"line2d_31\">\n      <g>\n       <use style=\"fill:#ffffff;stroke:#ffffff;stroke-width:0.8;\" x=\"265.012815\" xlink:href=\"#m074cafb320\" y=\"226.31504\"/>\n      </g>\n     </g>\n     <g id=\"text_31\">\n      <!-- 0 -->\n      <g style=\"fill:#ffffff;\" transform=\"translate(261.831565 240.913477)scale(0.1 -0.1)\">\n       <use xlink:href=\"#DejaVuSans-48\"/>\n      </g>\n     </g>\n    </g>\n    <g id=\"xtick_17\">\n     <g id=\"line2d_32\">\n      <g>\n       <use style=\"fill:#ffffff;stroke:#ffffff;stroke-width:0.8;\" x=\"300.180882\" xlink:href=\"#m074cafb320\" y=\"226.31504\"/>\n      </g>\n     </g>\n     <g id=\"text_32\">\n      <!-- 10 -->\n      <g style=\"fill:#ffffff;\" transform=\"translate(293.818382 240.913477)scale(0.1 -0.1)\">\n       <use xlink:href=\"#DejaVuSans-49\"/>\n       <use x=\"63.623047\" xlink:href=\"#DejaVuSans-48\"/>\n      </g>\n     </g>\n    </g>\n    <g id=\"xtick_18\">\n     <g id=\"line2d_33\">\n      <g>\n       <use style=\"fill:#ffffff;stroke:#ffffff;stroke-width:0.8;\" x=\"335.34895\" xlink:href=\"#m074cafb320\" y=\"226.31504\"/>\n      </g>\n     </g>\n     <g id=\"text_33\">\n      <!-- 20 -->\n      <g style=\"fill:#ffffff;\" transform=\"translate(328.98645 240.913477)scale(0.1 -0.1)\">\n       <use xlink:href=\"#DejaVuSans-50\"/>\n       <use x=\"63.623047\" xlink:href=\"#DejaVuSans-48\"/>\n      </g>\n     </g>\n    </g>\n   </g>\n   <g id=\"matplotlib.axis_12\">\n    <g id=\"ytick_16\">\n     <g id=\"line2d_34\">\n      <g>\n       <use style=\"fill:#ffffff;stroke:#ffffff;stroke-width:0.8;\" x=\"263.254412\" xlink:href=\"#m68f7d249bf\" y=\"129.602855\"/>\n      </g>\n     </g>\n     <g id=\"text_34\">\n      <!-- 0 -->\n      <g style=\"fill:#ffffff;\" transform=\"translate(249.891912 133.402074)scale(0.1 -0.1)\">\n       <use xlink:href=\"#DejaVuSans-48\"/>\n      </g>\n     </g>\n    </g>\n    <g id=\"ytick_17\">\n     <g id=\"line2d_35\">\n      <g>\n       <use style=\"fill:#ffffff;stroke:#ffffff;stroke-width:0.8;\" x=\"263.254412\" xlink:href=\"#m68f7d249bf\" y=\"164.770922\"/>\n      </g>\n     </g>\n     <g id=\"text_35\">\n      <!-- 10 -->\n      <g style=\"fill:#ffffff;\" transform=\"translate(243.529412 168.570141)scale(0.1 -0.1)\">\n       <use xlink:href=\"#DejaVuSans-49\"/>\n       <use x=\"63.623047\" xlink:href=\"#DejaVuSans-48\"/>\n      </g>\n     </g>\n    </g>\n    <g id=\"ytick_18\">\n     <g id=\"line2d_36\">\n      <g>\n       <use style=\"fill:#ffffff;stroke:#ffffff;stroke-width:0.8;\" x=\"263.254412\" xlink:href=\"#m68f7d249bf\" y=\"199.93899\"/>\n      </g>\n     </g>\n     <g id=\"text_36\">\n      <!-- 20 -->\n      <g style=\"fill:#ffffff;\" transform=\"translate(243.529412 203.738208)scale(0.1 -0.1)\">\n       <use xlink:href=\"#DejaVuSans-50\"/>\n       <use x=\"63.623047\" xlink:href=\"#DejaVuSans-48\"/>\n      </g>\n     </g>\n    </g>\n   </g>\n   <g id=\"patch_28\">\n    <path d=\"M 263.254412 226.31504 \nL 263.254412 127.844452 \n\" style=\"fill:none;stroke:#ffffff;stroke-linecap:square;stroke-linejoin:miter;stroke-width:0.8;\"/>\n   </g>\n   <g id=\"patch_29\">\n    <path d=\"M 361.725 226.31504 \nL 361.725 127.844452 \n\" style=\"fill:none;stroke:#ffffff;stroke-linecap:square;stroke-linejoin:miter;stroke-width:0.8;\"/>\n   </g>\n   <g id=\"patch_30\">\n    <path d=\"M 263.254412 226.31504 \nL 361.725 226.31504 \n\" style=\"fill:none;stroke:#ffffff;stroke-linecap:square;stroke-linejoin:miter;stroke-width:0.8;\"/>\n   </g>\n   <g id=\"patch_31\">\n    <path d=\"M 263.254412 127.844452 \nL 361.725 127.844452 \n\" style=\"fill:none;stroke:#ffffff;stroke-linecap:square;stroke-linejoin:miter;stroke-width:0.8;\"/>\n   </g>\n  </g>\n </g>\n <defs>\n  <clipPath id=\"pf0bfb8f8d4\">\n   <rect height=\"98.470588\" width=\"98.470588\" x=\"26.925\" y=\"9.240815\"/>\n  </clipPath>\n  <clipPath id=\"p78ae2d8a49\">\n   <rect height=\"98.470588\" width=\"98.470588\" x=\"145.089706\" y=\"9.240815\"/>\n  </clipPath>\n  <clipPath id=\"pa6528850f4\">\n   <rect height=\"98.470588\" width=\"98.470588\" x=\"263.254412\" y=\"9.240815\"/>\n  </clipPath>\n  <clipPath id=\"pe23e8abad4\">\n   <rect height=\"98.470588\" width=\"98.470588\" x=\"26.925\" y=\"127.844452\"/>\n  </clipPath>\n  <clipPath id=\"p9190d0499b\">\n   <rect height=\"98.470588\" width=\"98.470588\" x=\"145.089706\" y=\"127.844452\"/>\n  </clipPath>\n  <clipPath id=\"pf6b02a1588\">\n   <rect height=\"98.470588\" width=\"98.470588\" x=\"263.254412\" y=\"127.844452\"/>\n  </clipPath>\n </defs>\n</svg>\n",
            "image/png": "[encoded data removed]"
          },
          "metadata": {}
        }
      ]
    },
    {
      "cell_type": "code",
      "execution_count": 10,
      "metadata": {},
      "outputs": [
        {
          "output_type": "execute_result",
          "data": {
            "text/plain": [
              "<matplotlib.image.AxesImage at 0x7f17ac054828>"
            ]
          },
          "metadata": {},
          "execution_count": 10
        },
        {
          "output_type": "display_data",
          "data": {
            "text/plain": "<Figure size 432x288 with 1 Axes>",
            "image/svg+xml": "<?xml version=\"1.0\" encoding=\"utf-8\" standalone=\"no\"?>\n<!DOCTYPE svg PUBLIC \"-//W3C//DTD SVG 1.1//EN\"\n  \"http://www.w3.org/Graphics/SVG/1.1/DTD/svg11.dtd\">\n<!-- Created with matplotlib (https://matplotlib.org/) -->\n<svg height=\"252.091784pt\" version=\"1.1\" viewBox=\"0 0 149.65862 252.091784\" width=\"149.65862pt\" xmlns=\"http://www.w3.org/2000/svg\" xmlns:xlink=\"http://www.w3.org/1999/xlink\">\n <metadata>\n  <rdf:RDF xmlns:cc=\"http://creativecommons.org/ns#\" xmlns:dc=\"http://purl.org/dc/elements/1.1/\" xmlns:rdf=\"http://www.w3.org/1999/02/22-rdf-syntax-ns#\">\n   <cc:Work>\n    <dc:type rdf:resource=\"http://purl.org/dc/dcmitype/StillImage\"/>\n    <dc:date>2021-03-03T10:01:38.428486</dc:date>\n    <dc:format>image/svg+xml</dc:format>\n    <dc:creator>\n     <cc:Agent>\n      <dc:title>Matplotlib v3.3.4, https://matplotlib.org/</dc:title>\n     </cc:Agent>\n    </dc:creator>\n   </cc:Work>\n  </rdf:RDF>\n </metadata>\n <defs>\n  <style type=\"text/css\">*{stroke-linecap:butt;stroke-linejoin:round;}</style>\n </defs>\n <g id=\"figure_1\">\n  <g id=\"patch_1\">\n   <path d=\"M 0 252.091784 \nL 149.65862 252.091784 \nL 149.65862 0 \nL 0 0 \nz\n\"/>\n  </g>\n  <g id=\"axes_1\">\n   <g id=\"patch_2\">\n    <path d=\"M 33.2875 228.213659 \nL 142.45862 228.213659 \nL 142.45862 10.773659 \nL 33.2875 10.773659 \nz\n\"/>\n   </g>\n   <g clip-path=\"url(#p42467b8801)\">\n    <image height=\"218\" id=\"image7c37a08006\" transform=\"scale(1 -1)translate(0 -218)\" width=\"110\" x=\"33.2875\" xlink:href=\"data:image/png;base64,\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\" y=\"-10.213659\"/>\n   </g>\n   <g id=\"matplotlib.axis_1\">\n    <g id=\"xtick_1\">\n     <g id=\"line2d_1\">\n      <defs>\n       <path d=\"M 0 0 \nL 0 3.5 \n\" id=\"mf3605687ff\" style=\"stroke:#ffffff;stroke-width:0.8;\"/>\n      </defs>\n      <g>\n       <use style=\"fill:#ffffff;stroke:#ffffff;stroke-width:0.8;\" x=\"33.51306\" xlink:href=\"#mf3605687ff\" y=\"228.213659\"/>\n      </g>\n     </g>\n     <g id=\"text_1\">\n      <!-- 0 -->\n      <g style=\"fill:#ffffff;\" transform=\"translate(30.33181 242.812096)scale(0.1 -0.1)\">\n       <defs>\n        <path d=\"M 31.78125 66.40625 \nQ 24.171875 66.40625 20.328125 58.90625 \nQ 16.5 51.421875 16.5 36.375 \nQ 16.5 21.390625 20.328125 13.890625 \nQ 24.171875 6.390625 31.78125 6.390625 \nQ 39.453125 6.390625 43.28125 13.890625 \nQ 47.125 21.390625 47.125 36.375 \nQ 47.125 51.421875 43.28125 58.90625 \nQ 39.453125 66.40625 31.78125 66.40625 \nz\nM 31.78125 74.21875 \nQ 44.046875 74.21875 50.515625 64.515625 \nQ 56.984375 54.828125 56.984375 36.375 \nQ 56.984375 17.96875 50.515625 8.265625 \nQ 44.046875 -1.421875 31.78125 -1.421875 \nQ 19.53125 -1.421875 13.0625 8.265625 \nQ 6.59375 17.96875 6.59375 36.375 \nQ 6.59375 54.828125 13.0625 64.515625 \nQ 19.53125 74.21875 31.78125 74.21875 \nz\n\" id=\"DejaVuSans-48\"/>\n       </defs>\n       <use xlink:href=\"#DejaVuSans-48\"/>\n      </g>\n     </g>\n    </g>\n    <g id=\"xtick_2\">\n     <g id=\"line2d_2\">\n      <g>\n       <use style=\"fill:#ffffff;stroke:#ffffff;stroke-width:0.8;\" x=\"78.625093\" xlink:href=\"#mf3605687ff\" y=\"228.213659\"/>\n      </g>\n     </g>\n     <g id=\"text_2\">\n      <!-- 100 -->\n      <g style=\"fill:#ffffff;\" transform=\"translate(69.081343 242.812096)scale(0.1 -0.1)\">\n       <defs>\n        <path d=\"M 12.40625 8.296875 \nL 28.515625 8.296875 \nL 28.515625 63.921875 \nL 10.984375 60.40625 \nL 10.984375 69.390625 \nL 28.421875 72.90625 \nL 38.28125 72.90625 \nL 38.28125 8.296875 \nL 54.390625 8.296875 \nL 54.390625 0 \nL 12.40625 0 \nz\n\" id=\"DejaVuSans-49\"/>\n       </defs>\n       <use xlink:href=\"#DejaVuSans-49\"/>\n       <use x=\"63.623047\" xlink:href=\"#DejaVuSans-48\"/>\n       <use x=\"127.246094\" xlink:href=\"#DejaVuSans-48\"/>\n      </g>\n     </g>\n    </g>\n    <g id=\"xtick_3\">\n     <g id=\"line2d_3\">\n      <g>\n       <use style=\"fill:#ffffff;stroke:#ffffff;stroke-width:0.8;\" x=\"123.737127\" xlink:href=\"#mf3605687ff\" y=\"228.213659\"/>\n      </g>\n     </g>\n     <g id=\"text_3\">\n      <!-- 200 -->\n      <g style=\"fill:#ffffff;\" transform=\"translate(114.193377 242.812096)scale(0.1 -0.1)\">\n       <defs>\n        <path d=\"M 19.1875 8.296875 \nL 53.609375 8.296875 \nL 53.609375 0 \nL 7.328125 0 \nL 7.328125 8.296875 \nQ 12.9375 14.109375 22.625 23.890625 \nQ 32.328125 33.6875 34.8125 36.53125 \nQ 39.546875 41.84375 41.421875 45.53125 \nQ 43.3125 49.21875 43.3125 52.78125 \nQ 43.3125 58.59375 39.234375 62.25 \nQ 35.15625 65.921875 28.609375 65.921875 \nQ 23.96875 65.921875 18.8125 64.3125 \nQ 13.671875 62.703125 7.8125 59.421875 \nL 7.8125 69.390625 \nQ 13.765625 71.78125 18.9375 73 \nQ 24.125 74.21875 28.421875 74.21875 \nQ 39.75 74.21875 46.484375 68.546875 \nQ 53.21875 62.890625 53.21875 53.421875 \nQ 53.21875 48.921875 51.53125 44.890625 \nQ 49.859375 40.875 45.40625 35.40625 \nQ 44.1875 33.984375 37.640625 27.21875 \nQ 31.109375 20.453125 19.1875 8.296875 \nz\n\" id=\"DejaVuSans-50\"/>\n       </defs>\n       <use xlink:href=\"#DejaVuSans-50\"/>\n       <use x=\"63.623047\" xlink:href=\"#DejaVuSans-48\"/>\n       <use x=\"127.246094\" xlink:href=\"#DejaVuSans-48\"/>\n      </g>\n     </g>\n    </g>\n   </g>\n   <g id=\"matplotlib.axis_2\">\n    <g id=\"ytick_1\">\n     <g id=\"line2d_4\">\n      <defs>\n       <path d=\"M 0 0 \nL -3.5 0 \n\" id=\"m063c3ca80f\" style=\"stroke:#ffffff;stroke-width:0.8;\"/>\n      </defs>\n      <g>\n       <use style=\"fill:#ffffff;stroke:#ffffff;stroke-width:0.8;\" x=\"33.2875\" xlink:href=\"#m063c3ca80f\" y=\"10.999219\"/>\n      </g>\n     </g>\n     <g id=\"text_4\">\n      <!-- 0 -->\n      <g style=\"fill:#ffffff;\" transform=\"translate(19.925 14.798437)scale(0.1 -0.1)\">\n       <use xlink:href=\"#DejaVuSans-48\"/>\n      </g>\n     </g>\n    </g>\n    <g id=\"ytick_2\">\n     <g id=\"line2d_5\">\n      <g>\n       <use style=\"fill:#ffffff;stroke:#ffffff;stroke-width:0.8;\" x=\"33.2875\" xlink:href=\"#m063c3ca80f\" y=\"56.111252\"/>\n      </g>\n     </g>\n     <g id=\"text_5\">\n      <!-- 100 -->\n      <g style=\"fill:#ffffff;\" transform=\"translate(7.2 59.910471)scale(0.1 -0.1)\">\n       <use xlink:href=\"#DejaVuSans-49\"/>\n       <use x=\"63.623047\" xlink:href=\"#DejaVuSans-48\"/>\n       <use x=\"127.246094\" xlink:href=\"#DejaVuSans-48\"/>\n      </g>\n     </g>\n    </g>\n    <g id=\"ytick_3\">\n     <g id=\"line2d_6\">\n      <g>\n       <use style=\"fill:#ffffff;stroke:#ffffff;stroke-width:0.8;\" x=\"33.2875\" xlink:href=\"#m063c3ca80f\" y=\"101.223285\"/>\n      </g>\n     </g>\n     <g id=\"text_6\">\n      <!-- 200 -->\n      <g style=\"fill:#ffffff;\" transform=\"translate(7.2 105.022504)scale(0.1 -0.1)\">\n       <use xlink:href=\"#DejaVuSans-50\"/>\n       <use x=\"63.623047\" xlink:href=\"#DejaVuSans-48\"/>\n       <use x=\"127.246094\" xlink:href=\"#DejaVuSans-48\"/>\n      </g>\n     </g>\n    </g>\n    <g id=\"ytick_4\">\n     <g id=\"line2d_7\">\n      <g>\n       <use style=\"fill:#ffffff;stroke:#ffffff;stroke-width:0.8;\" x=\"33.2875\" xlink:href=\"#m063c3ca80f\" y=\"146.335318\"/>\n      </g>\n     </g>\n     <g id=\"text_7\">\n      <!-- 300 -->\n      <g style=\"fill:#ffffff;\" transform=\"translate(7.2 150.134537)scale(0.1 -0.1)\">\n       <defs>\n        <path d=\"M 40.578125 39.3125 \nQ 47.65625 37.796875 51.625 33 \nQ 55.609375 28.21875 55.609375 21.1875 \nQ 55.609375 10.40625 48.1875 4.484375 \nQ 40.765625 -1.421875 27.09375 -1.421875 \nQ 22.515625 -1.421875 17.65625 -0.515625 \nQ 12.796875 0.390625 7.625 2.203125 \nL 7.625 11.71875 \nQ 11.71875 9.328125 16.59375 8.109375 \nQ 21.484375 6.890625 26.8125 6.890625 \nQ 36.078125 6.890625 40.9375 10.546875 \nQ 45.796875 14.203125 45.796875 21.1875 \nQ 45.796875 27.640625 41.28125 31.265625 \nQ 36.765625 34.90625 28.71875 34.90625 \nL 20.21875 34.90625 \nL 20.21875 43.015625 \nL 29.109375 43.015625 \nQ 36.375 43.015625 40.234375 45.921875 \nQ 44.09375 48.828125 44.09375 54.296875 \nQ 44.09375 59.90625 40.109375 62.90625 \nQ 36.140625 65.921875 28.71875 65.921875 \nQ 24.65625 65.921875 20.015625 65.03125 \nQ 15.375 64.15625 9.8125 62.3125 \nL 9.8125 71.09375 \nQ 15.4375 72.65625 20.34375 73.4375 \nQ 25.25 74.21875 29.59375 74.21875 \nQ 40.828125 74.21875 47.359375 69.109375 \nQ 53.90625 64.015625 53.90625 55.328125 \nQ 53.90625 49.265625 50.4375 45.09375 \nQ 46.96875 40.921875 40.578125 39.3125 \nz\n\" id=\"DejaVuSans-51\"/>\n       </defs>\n       <use xlink:href=\"#DejaVuSans-51\"/>\n       <use x=\"63.623047\" xlink:href=\"#DejaVuSans-48\"/>\n       <use x=\"127.246094\" xlink:href=\"#DejaVuSans-48\"/>\n      </g>\n     </g>\n    </g>\n    <g id=\"ytick_5\">\n     <g id=\"line2d_8\">\n      <g>\n       <use style=\"fill:#ffffff;stroke:#ffffff;stroke-width:0.8;\" x=\"33.2875\" xlink:href=\"#m063c3ca80f\" y=\"191.447352\"/>\n      </g>\n     </g>\n     <g id=\"text_8\">\n      <!-- 400 -->\n      <g style=\"fill:#ffffff;\" transform=\"translate(7.2 195.24657)scale(0.1 -0.1)\">\n       <defs>\n        <path d=\"M 37.796875 64.3125 \nL 12.890625 25.390625 \nL 37.796875 25.390625 \nz\nM 35.203125 72.90625 \nL 47.609375 72.90625 \nL 47.609375 25.390625 \nL 58.015625 25.390625 \nL 58.015625 17.1875 \nL 47.609375 17.1875 \nL 47.609375 0 \nL 37.796875 0 \nL 37.796875 17.1875 \nL 4.890625 17.1875 \nL 4.890625 26.703125 \nz\n\" id=\"DejaVuSans-52\"/>\n       </defs>\n       <use xlink:href=\"#DejaVuSans-52\"/>\n       <use x=\"63.623047\" xlink:href=\"#DejaVuSans-48\"/>\n       <use x=\"127.246094\" xlink:href=\"#DejaVuSans-48\"/>\n      </g>\n     </g>\n    </g>\n   </g>\n   <g id=\"patch_3\">\n    <path d=\"M 33.2875 228.213659 \nL 33.2875 10.773659 \n\" style=\"fill:none;stroke:#ffffff;stroke-linecap:square;stroke-linejoin:miter;stroke-width:0.8;\"/>\n   </g>\n   <g id=\"patch_4\">\n    <path d=\"M 142.45862 228.213659 \nL 142.45862 10.773659 \n\" style=\"fill:none;stroke:#ffffff;stroke-linecap:square;stroke-linejoin:miter;stroke-width:0.8;\"/>\n   </g>\n   <g id=\"patch_5\">\n    <path d=\"M 33.2875 228.213659 \nL 142.45862 228.213659 \n\" style=\"fill:none;stroke:#ffffff;stroke-linecap:square;stroke-linejoin:miter;stroke-width:0.8;\"/>\n   </g>\n   <g id=\"patch_6\">\n    <path d=\"M 33.2875 10.773659 \nL 142.45862 10.773659 \n\" style=\"fill:none;stroke:#ffffff;stroke-linecap:square;stroke-linejoin:miter;stroke-width:0.8;\"/>\n   </g>\n  </g>\n </g>\n <defs>\n  <clipPath id=\"p42467b8801\">\n   <rect height=\"217.44\" width=\"109.17112\" x=\"33.2875\" y=\"10.773659\"/>\n  </clipPath>\n </defs>\n</svg>\n",
            "image/png": "[encoded data removed]"
          },
          "metadata": {}
        }
      ],
      "source": [
        "############## TENSORBOARD ########################\n",
        "img_grid = torchvision.utils.make_grid(samples)\n",
        "writer.add_image('mnist_images', img_grid)\n",
        "# writer.close()\n",
        "# sys.exit()\n",
        "###################################################\n",
        "plt.imshow(img_grid[0],cmap='gray')"
      ]
    },
    {
      "cell_type": "code",
      "metadata": {
        "id": "FXHHBL366kVY",
        "colab_type": "code",
        "colab": {
          "base_uri": "https://localhost:8080/",
          "height": 101
        },
        "outputId": "ca7a6222-cb07-4718-a1e9-ae907aa123e0"
      },
      "source": [
        "class NeuralNet(nn.Module):\n",
        "  def __init__(self, input_size, hidden_size, num_classes):\n",
        "    super().__init__()\n",
        "    self.l1 = nn.Linear(input_size, hidden_size)\n",
        "    self.relu = nn.ReLU()\n",
        "    self.l2 = nn.Linear(hidden_size, num_classes)\n",
        "\n",
        "  def forward(self, x):\n",
        "    out = self.l1(x)\n",
        "    out = self.relu(out)\n",
        "    out = self.l2(out)\n",
        "    return out\n",
        "\n",
        "model = NeuralNet(input_size, hidden_size, num_classes)\n",
        "model.to(device)"
      ],
      "execution_count": 11,
      "outputs": [
        {
          "output_type": "execute_result",
          "data": {
            "text/plain": [
              "NeuralNet(\n",
              "  (l1): Linear(in_features=784, out_features=100, bias=True)\n",
              "  (relu): ReLU()\n",
              "  (l2): Linear(in_features=100, out_features=10, bias=True)\n",
              ")"
            ]
          },
          "metadata": {},
          "execution_count": 11
        }
      ]
    },
    {
      "cell_type": "code",
      "execution_count": 12,
      "metadata": {
        "tags": []
      },
      "outputs": [],
      "source": [
        "writer.add_graph(model, samples.reshape(-1, 28*28).to(device))\n",
        "# writer.close()\n",
        "# images = samples[0][0].reshape(-1, 28*28).to(device)\n",
        "# writer.add_graph(model,images)"
      ]
    },
    {
      "cell_type": "code",
      "execution_count": null,
      "metadata": {},
      "outputs": [],
      "source": [
        "# writer.close()"
      ]
    },
    {
      "cell_type": "code",
      "metadata": {
        "id": "VWbLjfYBHEZX",
        "colab_type": "code",
        "colab": {}
      },
      "source": [
        "# loss and optimizer\n",
        "criterion = nn.CrossEntropyLoss()\n",
        "optimizer = torch.optim.Adam(model.parameters(), lr=learning_rate)"
      ],
      "execution_count": 13,
      "outputs": []
    },
    {
      "cell_type": "code",
      "metadata": {
        "id": "Sl3CDoB9HfV2",
        "colab_type": "code",
        "colab": {
          "base_uri": "https://localhost:8080/",
          "height": 218
        },
        "outputId": "82aac4d6-0c7b-4c31-f231-a624d466ad06",
        "tags": []
      },
      "source": [
        "# training loop\n",
        "running_loss = 0\n",
        "running_correct = 0\n",
        "\n",
        "n_total_step = len(train_loader)\n",
        "for epoch in range(num_epochs):\n",
        "  for i, (images, labels) in enumerate(train_loader):\n",
        "    # 100, 1, 28, 28\n",
        "    # 100, 784\n",
        "    images = images.reshape(-1, 28*28).to(device)\n",
        "    labels = labels.to(device)\n",
        "\n",
        "    # forward\n",
        "    outputs = model(images)\n",
        "    loss = criterion(outputs, labels)\n",
        "\n",
        "    # backwards\n",
        "    optimizer.zero_grad()\n",
        "    loss.backward()\n",
        "    optimizer.step()\n",
        "\n",
        "    running_loss += loss.item()\n",
        "    _, predicted = torch.max(outputs.data, 1)\n",
        "    running_correct += (predicted == labels).sum().item()    \n",
        "\n",
        "    if (i+1) % 100 ==0:\n",
        "      print(f'epoch {epoch+1} / {num_epochs}, step {i+1} / {n_total_step} loss {loss.item():.4f} runningloss {running_loss/100}')\n",
        "      ############## TENSORBOARD ########################\n",
        "      writer.add_scalar('training loss', running_loss / 100, epoch * n_total_step + i)\n",
        "      writer.add_scalar('accuracy', running_correct / 100, epoch * n_total_step + i)\n",
        "      running_correct = 0\n",
        "      running_loss = 0.0\n",
        "      ###################################################"
      ],
      "execution_count": 14,
      "outputs": [
        {
          "output_type": "stream",
          "name": "stdout",
          "text": [
            "epoch 1 / 2, step 100 / 469 loss 0.2714 runningloss 0.45009676046669483\n",
            "epoch 1 / 2, step 200 / 469 loss 0.1881 runningloss 0.2195601174980402\n",
            "epoch 1 / 2, step 300 / 469 loss 0.1575 runningloss 0.17279092855751516\n",
            "epoch 1 / 2, step 400 / 469 loss 0.1142 runningloss 0.15856501039117574\n",
            "epoch 2 / 2, step 100 / 469 loss 0.0913 runningloss 0.21998190965503453\n",
            "epoch 2 / 2, step 200 / 469 loss 0.1049 runningloss 0.10259592099115253\n",
            "epoch 2 / 2, step 300 / 469 loss 0.1759 runningloss 0.12165388448163866\n",
            "epoch 2 / 2, step 400 / 469 loss 0.0427 runningloss 0.10946042848750949\n"
          ]
        }
      ]
    },
    {
      "cell_type": "code",
      "metadata": {
        "id": "lOJuoNIHRUSf",
        "colab_type": "code",
        "colab": {
          "base_uri": "https://localhost:8080/",
          "height": 34
        },
        "outputId": "725daf7f-469e-43ca-9c02-bfb0c43f96ae",
        "tags": []
      },
      "source": [
        "class_labels = []\n",
        "all_sm_op = []\n",
        "\n",
        "with torch.no_grad():\n",
        "  n_correct = 0\n",
        "  n_samples = 0\n",
        "  for images, labels in test_loader:\n",
        "    images = images.reshape(-1, 28*28).to(device)\n",
        "    labels = labels.to(device)\n",
        "    outputs = model(images)\n",
        "\n",
        "    _, predictions = torch.max(outputs, 1)\n",
        "    n_samples += labels.shape[0]\n",
        "    n_correct += (predictions == labels).sum().item()\n",
        "\n",
        "    batch_sm_op = [F.softmax(output, dim=0) for output in outputs]\n",
        "    all_sm_op.append(batch_sm_op)\n",
        "    class_labels.append(predicted)\n",
        "  \n",
        "  all_sm_op = torch.cat([torch.stack(batch) for batch in all_sm_op])\n",
        "  class_labels = torch.cat(class_labels)\n",
        "\n",
        "  acc = 100.0 * n_correct / n_samples\n",
        "  print(f'accuracy {acc:.4f}')\n",
        "  ############## TENSORBOARD ########################\n",
        "  classes = range(10)\n",
        "  for i in classes:\n",
        "      labels_i = class_labels == i\n",
        "      preds_i = all_sm_op[:, i]\n",
        "      writer.add_pr_curve(str(i), labels_i, preds_i, global_step=0)\n",
        "      writer.close()\n",
        "  ###################################################"
      ],
      "execution_count": 15,
      "outputs": [
        {
          "output_type": "stream",
          "name": "stdout",
          "text": [
            "accuracy 95.6400\n"
          ]
        },
        {
          "output_type": "error",
          "ename": "ValueError",
          "evalue": "weights should have the same shape as a.",
          "traceback": [
            "\u001b[0;31m---------------------------------------------------------------------------\u001b[0m",
            "\u001b[0;31mValueError\u001b[0m                                Traceback (most recent call last)",
            "\u001b[0;32m<ipython-input-15-433d2a2c536c>\u001b[0m in \u001b[0;36m<module>\u001b[0;34m\u001b[0m\n\u001b[1;32m     28\u001b[0m       \u001b[0mlabels_i\u001b[0m \u001b[0;34m=\u001b[0m \u001b[0mclass_labels\u001b[0m \u001b[0;34m==\u001b[0m \u001b[0mi\u001b[0m\u001b[0;34m\u001b[0m\u001b[0;34m\u001b[0m\u001b[0m\n\u001b[1;32m     29\u001b[0m       \u001b[0mpreds_i\u001b[0m \u001b[0;34m=\u001b[0m \u001b[0mall_sm_op\u001b[0m\u001b[0;34m[\u001b[0m\u001b[0;34m:\u001b[0m\u001b[0;34m,\u001b[0m \u001b[0mi\u001b[0m\u001b[0;34m]\u001b[0m\u001b[0;34m\u001b[0m\u001b[0;34m\u001b[0m\u001b[0m\n\u001b[0;32m---> 30\u001b[0;31m       \u001b[0mwriter\u001b[0m\u001b[0;34m.\u001b[0m\u001b[0madd_pr_curve\u001b[0m\u001b[0;34m(\u001b[0m\u001b[0mstr\u001b[0m\u001b[0;34m(\u001b[0m\u001b[0mi\u001b[0m\u001b[0;34m)\u001b[0m\u001b[0;34m,\u001b[0m \u001b[0mlabels_i\u001b[0m\u001b[0;34m,\u001b[0m \u001b[0mpreds_i\u001b[0m\u001b[0;34m,\u001b[0m \u001b[0mglobal_step\u001b[0m\u001b[0;34m=\u001b[0m\u001b[0;36m0\u001b[0m\u001b[0;34m)\u001b[0m\u001b[0;34m\u001b[0m\u001b[0;34m\u001b[0m\u001b[0m\n\u001b[0m\u001b[1;32m     31\u001b[0m       \u001b[0mwriter\u001b[0m\u001b[0;34m.\u001b[0m\u001b[0mclose\u001b[0m\u001b[0;34m(\u001b[0m\u001b[0;34m)\u001b[0m\u001b[0;34m\u001b[0m\u001b[0;34m\u001b[0m\u001b[0m\n\u001b[1;32m     32\u001b[0m   \u001b[0;31m###################################################\u001b[0m\u001b[0;34m\u001b[0m\u001b[0;34m\u001b[0m\u001b[0;34m\u001b[0m\u001b[0m\n",
            "\u001b[0;32m~/.local/lib/python3.6/site-packages/torch/utils/tensorboard/writer.py\u001b[0m in \u001b[0;36madd_pr_curve\u001b[0;34m(self, tag, labels, predictions, global_step, num_thresholds, weights, walltime)\u001b[0m\n\u001b[1;32m    867\u001b[0m         \u001b[0mlabels\u001b[0m\u001b[0;34m,\u001b[0m \u001b[0mpredictions\u001b[0m \u001b[0;34m=\u001b[0m \u001b[0mmake_np\u001b[0m\u001b[0;34m(\u001b[0m\u001b[0mlabels\u001b[0m\u001b[0;34m)\u001b[0m\u001b[0;34m,\u001b[0m \u001b[0mmake_np\u001b[0m\u001b[0;34m(\u001b[0m\u001b[0mpredictions\u001b[0m\u001b[0;34m)\u001b[0m\u001b[0;34m\u001b[0m\u001b[0;34m\u001b[0m\u001b[0m\n\u001b[1;32m    868\u001b[0m         self._get_file_writer().add_summary(\n\u001b[0;32m--> 869\u001b[0;31m             \u001b[0mpr_curve\u001b[0m\u001b[0;34m(\u001b[0m\u001b[0mtag\u001b[0m\u001b[0;34m,\u001b[0m \u001b[0mlabels\u001b[0m\u001b[0;34m,\u001b[0m \u001b[0mpredictions\u001b[0m\u001b[0;34m,\u001b[0m \u001b[0mnum_thresholds\u001b[0m\u001b[0;34m,\u001b[0m \u001b[0mweights\u001b[0m\u001b[0;34m)\u001b[0m\u001b[0;34m,\u001b[0m\u001b[0;34m\u001b[0m\u001b[0;34m\u001b[0m\u001b[0m\n\u001b[0m\u001b[1;32m    870\u001b[0m             global_step, walltime)\n\u001b[1;32m    871\u001b[0m \u001b[0;34m\u001b[0m\u001b[0m\n",
            "\u001b[0;32m~/.local/lib/python3.6/site-packages/torch/utils/tensorboard/summary.py\u001b[0m in \u001b[0;36mpr_curve\u001b[0;34m(tag, labels, predictions, num_thresholds, weights)\u001b[0m\n\u001b[1;32m    568\u001b[0m     \u001b[0mnum_thresholds\u001b[0m \u001b[0;34m=\u001b[0m \u001b[0mmin\u001b[0m\u001b[0;34m(\u001b[0m\u001b[0mnum_thresholds\u001b[0m\u001b[0;34m,\u001b[0m \u001b[0;36m127\u001b[0m\u001b[0;34m)\u001b[0m\u001b[0;34m\u001b[0m\u001b[0;34m\u001b[0m\u001b[0m\n\u001b[1;32m    569\u001b[0m     data = compute_curve(labels, predictions,\n\u001b[0;32m--> 570\u001b[0;31m                          num_thresholds=num_thresholds, weights=weights)\n\u001b[0m\u001b[1;32m    571\u001b[0m     pr_curve_plugin_data = PrCurvePluginData(\n\u001b[1;32m    572\u001b[0m         version=0, num_thresholds=num_thresholds).SerializeToString()\n",
            "\u001b[0;32m~/.local/lib/python3.6/site-packages/torch/utils/tensorboard/summary.py\u001b[0m in \u001b[0;36mcompute_curve\u001b[0;34m(labels, predictions, num_thresholds, weights)\u001b[0m\n\u001b[1;32m    596\u001b[0m         \u001b[0mbins\u001b[0m\u001b[0;34m=\u001b[0m\u001b[0mnum_thresholds\u001b[0m\u001b[0;34m,\u001b[0m\u001b[0;34m\u001b[0m\u001b[0;34m\u001b[0m\u001b[0m\n\u001b[1;32m    597\u001b[0m         \u001b[0mrange\u001b[0m\u001b[0;34m=\u001b[0m\u001b[0mhistogram_range\u001b[0m\u001b[0;34m,\u001b[0m\u001b[0;34m\u001b[0m\u001b[0;34m\u001b[0m\u001b[0m\n\u001b[0;32m--> 598\u001b[0;31m         weights=float_labels * weights)\n\u001b[0m\u001b[1;32m    599\u001b[0m     fp_buckets, _ = np.histogram(\n\u001b[1;32m    600\u001b[0m         \u001b[0mbucket_indices\u001b[0m\u001b[0;34m,\u001b[0m\u001b[0;34m\u001b[0m\u001b[0;34m\u001b[0m\u001b[0m\n",
            "\u001b[0;32m<__array_function__ internals>\u001b[0m in \u001b[0;36mhistogram\u001b[0;34m(*args, **kwargs)\u001b[0m\n",
            "\u001b[0;32m~/.local/lib/python3.6/site-packages/numpy/lib/histograms.py\u001b[0m in \u001b[0;36mhistogram\u001b[0;34m(a, bins, range, normed, weights, density)\u001b[0m\n\u001b[1;32m    781\u001b[0m \u001b[0;34m\u001b[0m\u001b[0m\n\u001b[1;32m    782\u001b[0m     \"\"\"\n\u001b[0;32m--> 783\u001b[0;31m     \u001b[0ma\u001b[0m\u001b[0;34m,\u001b[0m \u001b[0mweights\u001b[0m \u001b[0;34m=\u001b[0m \u001b[0m_ravel_and_check_weights\u001b[0m\u001b[0;34m(\u001b[0m\u001b[0ma\u001b[0m\u001b[0;34m,\u001b[0m \u001b[0mweights\u001b[0m\u001b[0;34m)\u001b[0m\u001b[0;34m\u001b[0m\u001b[0;34m\u001b[0m\u001b[0m\n\u001b[0m\u001b[1;32m    784\u001b[0m \u001b[0;34m\u001b[0m\u001b[0m\n\u001b[1;32m    785\u001b[0m     \u001b[0mbin_edges\u001b[0m\u001b[0;34m,\u001b[0m \u001b[0muniform_bins\u001b[0m \u001b[0;34m=\u001b[0m \u001b[0m_get_bin_edges\u001b[0m\u001b[0;34m(\u001b[0m\u001b[0ma\u001b[0m\u001b[0;34m,\u001b[0m \u001b[0mbins\u001b[0m\u001b[0;34m,\u001b[0m \u001b[0mrange\u001b[0m\u001b[0;34m,\u001b[0m \u001b[0mweights\u001b[0m\u001b[0;34m)\u001b[0m\u001b[0;34m\u001b[0m\u001b[0;34m\u001b[0m\u001b[0m\n",
            "\u001b[0;32m~/.local/lib/python3.6/site-packages/numpy/lib/histograms.py\u001b[0m in \u001b[0;36m_ravel_and_check_weights\u001b[0;34m(a, weights)\u001b[0m\n\u001b[1;32m    289\u001b[0m         \u001b[0;32mif\u001b[0m \u001b[0mweights\u001b[0m\u001b[0;34m.\u001b[0m\u001b[0mshape\u001b[0m \u001b[0;34m!=\u001b[0m \u001b[0ma\u001b[0m\u001b[0;34m.\u001b[0m\u001b[0mshape\u001b[0m\u001b[0;34m:\u001b[0m\u001b[0;34m\u001b[0m\u001b[0;34m\u001b[0m\u001b[0m\n\u001b[1;32m    290\u001b[0m             raise ValueError(\n\u001b[0;32m--> 291\u001b[0;31m                 'weights should have the same shape as a.')\n\u001b[0m\u001b[1;32m    292\u001b[0m         \u001b[0mweights\u001b[0m \u001b[0;34m=\u001b[0m \u001b[0mweights\u001b[0m\u001b[0;34m.\u001b[0m\u001b[0mravel\u001b[0m\u001b[0;34m(\u001b[0m\u001b[0;34m)\u001b[0m\u001b[0;34m\u001b[0m\u001b[0;34m\u001b[0m\u001b[0m\n\u001b[1;32m    293\u001b[0m     \u001b[0ma\u001b[0m \u001b[0;34m=\u001b[0m \u001b[0ma\u001b[0m\u001b[0;34m.\u001b[0m\u001b[0mravel\u001b[0m\u001b[0;34m(\u001b[0m\u001b[0;34m)\u001b[0m\u001b[0;34m\u001b[0m\u001b[0;34m\u001b[0m\u001b[0m\n",
            "\u001b[0;31mValueError\u001b[0m: weights should have the same shape as a."
          ]
        }
      ]
    },
    {
      "cell_type": "code",
      "execution_count": 16,
      "metadata": {},
      "outputs": [
        {
          "output_type": "error",
          "ename": "NameError",
          "evalue": "name 'class_preds' is not defined",
          "traceback": [
            "\u001b[0;31m---------------------------------------------------------------------------\u001b[0m",
            "\u001b[0;31mNameError\u001b[0m                                 Traceback (most recent call last)",
            "\u001b[0;32m<ipython-input-16-041605e5d227>\u001b[0m in \u001b[0;36m<module>\u001b[0;34m\u001b[0m\n\u001b[1;32m      3\u001b[0m \u001b[0;32mfor\u001b[0m \u001b[0mi\u001b[0m \u001b[0;32min\u001b[0m \u001b[0mclasses\u001b[0m\u001b[0;34m:\u001b[0m\u001b[0;34m\u001b[0m\u001b[0;34m\u001b[0m\u001b[0m\n\u001b[1;32m      4\u001b[0m     \u001b[0mlabels_i\u001b[0m \u001b[0;34m=\u001b[0m \u001b[0mclass_labels\u001b[0m \u001b[0;34m==\u001b[0m \u001b[0mi\u001b[0m\u001b[0;34m\u001b[0m\u001b[0;34m\u001b[0m\u001b[0m\n\u001b[0;32m----> 5\u001b[0;31m     \u001b[0mpreds_i\u001b[0m \u001b[0;34m=\u001b[0m \u001b[0mclass_preds\u001b[0m\u001b[0;34m[\u001b[0m\u001b[0;34m:\u001b[0m\u001b[0;34m,\u001b[0m \u001b[0mi\u001b[0m\u001b[0;34m]\u001b[0m\u001b[0;34m\u001b[0m\u001b[0;34m\u001b[0m\u001b[0m\n\u001b[0m\u001b[1;32m      6\u001b[0m     \u001b[0mwriter\u001b[0m\u001b[0;34m.\u001b[0m\u001b[0madd_pr_curve\u001b[0m\u001b[0;34m(\u001b[0m\u001b[0mstr\u001b[0m\u001b[0;34m(\u001b[0m\u001b[0mi\u001b[0m\u001b[0;34m)\u001b[0m\u001b[0;34m,\u001b[0m \u001b[0mlabels_i\u001b[0m\u001b[0;34m,\u001b[0m \u001b[0mpreds_i\u001b[0m\u001b[0;34m,\u001b[0m \u001b[0mglobal_step\u001b[0m\u001b[0;34m=\u001b[0m\u001b[0;36m0\u001b[0m\u001b[0;34m)\u001b[0m\u001b[0;34m\u001b[0m\u001b[0;34m\u001b[0m\u001b[0m\n\u001b[1;32m      7\u001b[0m     \u001b[0mwriter\u001b[0m\u001b[0;34m.\u001b[0m\u001b[0madd_pr_curve\u001b[0m\u001b[0;34m(\u001b[0m\u001b[0;34m)\u001b[0m\u001b[0;34m\u001b[0m\u001b[0;34m\u001b[0m\u001b[0m\n",
            "\u001b[0;31mNameError\u001b[0m: name 'class_preds' is not defined"
          ]
        }
      ],
      "source": [
        "############## TENSORBOARD ########################\n",
        "classes = range(10)\n",
        "for i in classes:\n",
        "    labels_i = class_labels == i\n",
        "    preds_i = class_preds[:, i]\n",
        "    writer.add_pr_curve(str(i), labels_i, preds_i, global_step=0)\n",
        "    # writer.add_pr_curve()\n",
        "    writer.close()\n",
        "###################################################"
      ]
    },
    {
      "cell_type": "code",
      "execution_count": null,
      "metadata": {},
      "outputs": [],
      "source": [
        "len(preds_i)"
      ]
    },
    {
      "cell_type": "code",
      "execution_count": null,
      "metadata": {},
      "outputs": [],
      "source": [
        "class_labels=torch.cat(class_labels)"
      ]
    },
    {
      "cell_type": "code",
      "execution_count": null,
      "metadata": {},
      "outputs": [],
      "source": [
        "class_labels == 0"
      ]
    },
    {
      "cell_type": "code",
      "execution_count": null,
      "metadata": {},
      "outputs": [],
      "source": [
        "images, labels=next(iter(test_loader))"
      ]
    },
    {
      "cell_type": "code",
      "execution_count": null,
      "metadata": {},
      "outputs": [],
      "source": [
        "images = images.reshape(-1, 28*28).to(device)\n",
        "labels = labels.to(device)\n",
        "outputs = model(images)\n",
        "\n",
        "_, predictions = torch.max(outputs, 1)\n",
        "n_samples += labels.shape[0]\n",
        "n_correct += (predictions == labels).sum().item()"
      ]
    },
    {
      "cell_type": "code",
      "execution_count": null,
      "metadata": {},
      "outputs": [],
      "source": [
        "class_labels = []\n",
        "all_sm_op = []\n",
        "\n",
        "batch_sm_op = [F.softmax(output, dim=0) for output in outputs]\n",
        "all_sm_op.append(batch_sm_op)\n",
        "class_labels.append(predicted)"
      ]
    },
    {
      "cell_type": "code",
      "execution_count": null,
      "metadata": {},
      "outputs": [],
      "source": [
        "len(all_sm_op[0]),predicted.shape"
      ]
    },
    {
      "cell_type": "code",
      "execution_count": null,
      "metadata": {},
      "outputs": [],
      "source": [
        "i= iter(model.parameters())"
      ]
    },
    {
      "cell_type": "code",
      "execution_count": null,
      "metadata": {
        "tags": []
      },
      "outputs": [],
      "source": [
        "dir(nn.Module)\n"
      ]
    },
    {
      "cell_type": "code",
      "execution_count": null,
      "metadata": {
        "tags": []
      },
      "outputs": [],
      "source": [
        "print(model)"
      ]
    },
    {
      "cell_type": "code",
      "execution_count": null,
      "metadata": {},
      "outputs": [],
      "source": [
        "from torchvision import models\n",
        "from torchsummary import summary"
      ]
    },
    {
      "cell_type": "code",
      "execution_count": null,
      "metadata": {
        "tags": []
      },
      "outputs": [],
      "source": [
        "summary(model, (100,28*28))"
      ]
    },
    {
      "cell_type": "code",
      "execution_count": null,
      "metadata": {},
      "outputs": [],
      "source": [
        "# import tensorflow as tf\n",
        "import tensorboard as tb\n",
        "# tf.io.gfile = tb.compat.tensorflow_stub.io.gfile"
      ]
    },
    {
      "cell_type": "code",
      "execution_count": null,
      "metadata": {},
      "outputs": [],
      "source": [
        "netstat -ano | findstr :6006\n",
        "taskkill /F /PID 11544"
      ]
    },
    {
      "cell_type": "code",
      "execution_count": null,
      "metadata": {},
      "outputs": [],
      "source": [
        "torch.stack(next(iter(all_sm_op)))"
      ]
    },
    {
      "cell_type": "code",
      "execution_count": null,
      "metadata": {},
      "outputs": [],
      "source": [
        "next(iter(all_sm_op))"
      ]
    },
    {
      "cell_type": "code",
      "execution_count": 17,
      "metadata": {
        "tags": []
      },
      "outputs": [
        {
          "output_type": "stream",
          "name": "stdout",
          "text": [
            "Epoch [1/1], Step [100/938], Loss: 0.1991\n",
            "Epoch [1/1], Step [200/938], Loss: 0.4345\n",
            "Epoch [1/1], Step [300/938], Loss: 0.3318\n",
            "Epoch [1/1], Step [400/938], Loss: 0.3237\n",
            "Epoch [1/1], Step [500/938], Loss: 0.2790\n",
            "Epoch [1/1], Step [600/938], Loss: 0.1451\n",
            "Epoch [1/1], Step [700/938], Loss: 0.1394\n",
            "Epoch [1/1], Step [800/938], Loss: 0.1200\n",
            "Epoch [1/1], Step [900/938], Loss: 0.2628\n",
            "Accuracy of the network on the 10000 test images: 96.59 %\n"
          ]
        },
        {
          "output_type": "error",
          "ename": "TypeError",
          "evalue": "add_pr_curve() missing 3 required positional arguments: 'tag', 'labels', and 'predictions'",
          "traceback": [
            "\u001b[0;31m---------------------------------------------------------------------------\u001b[0m",
            "\u001b[0;31mTypeError\u001b[0m                                 Traceback (most recent call last)",
            "\u001b[0;32m<ipython-input-17-07190743d98e>\u001b[0m in \u001b[0;36m<module>\u001b[0;34m\u001b[0m\n\u001b[1;32m    155\u001b[0m         \u001b[0mpreds_i\u001b[0m \u001b[0;34m=\u001b[0m \u001b[0mclass_preds\u001b[0m\u001b[0;34m[\u001b[0m\u001b[0;34m:\u001b[0m\u001b[0;34m,\u001b[0m \u001b[0mi\u001b[0m\u001b[0;34m]\u001b[0m\u001b[0;34m\u001b[0m\u001b[0;34m\u001b[0m\u001b[0m\n\u001b[1;32m    156\u001b[0m         \u001b[0mwriter\u001b[0m\u001b[0;34m.\u001b[0m\u001b[0madd_pr_curve\u001b[0m\u001b[0;34m(\u001b[0m\u001b[0mstr\u001b[0m\u001b[0;34m(\u001b[0m\u001b[0mi\u001b[0m\u001b[0;34m)\u001b[0m\u001b[0;34m,\u001b[0m \u001b[0mlabels_i\u001b[0m\u001b[0;34m,\u001b[0m \u001b[0mpreds_i\u001b[0m\u001b[0;34m,\u001b[0m \u001b[0mglobal_step\u001b[0m\u001b[0;34m=\u001b[0m\u001b[0;36m0\u001b[0m\u001b[0;34m)\u001b[0m\u001b[0;34m\u001b[0m\u001b[0;34m\u001b[0m\u001b[0m\n\u001b[0;32m--> 157\u001b[0;31m         \u001b[0mwriter\u001b[0m\u001b[0;34m.\u001b[0m\u001b[0madd_pr_curve\u001b[0m\u001b[0;34m(\u001b[0m\u001b[0;34m)\u001b[0m\u001b[0;34m\u001b[0m\u001b[0;34m\u001b[0m\u001b[0m\n\u001b[0m\u001b[1;32m    158\u001b[0m         \u001b[0mwriter\u001b[0m\u001b[0;34m.\u001b[0m\u001b[0mclose\u001b[0m\u001b[0;34m(\u001b[0m\u001b[0;34m)\u001b[0m\u001b[0;34m\u001b[0m\u001b[0;34m\u001b[0m\u001b[0m\n\u001b[1;32m    159\u001b[0m     \u001b[0;31m###################################################\u001b[0m\u001b[0;34m\u001b[0m\u001b[0;34m\u001b[0m\u001b[0;34m\u001b[0m\u001b[0m\n",
            "\u001b[0;31mTypeError\u001b[0m: add_pr_curve() missing 3 required positional arguments: 'tag', 'labels', and 'predictions'"
          ]
        }
      ],
      "source": [
        "import torch\n",
        "import torch.nn as nn\n",
        "import torchvision\n",
        "import torchvision.transforms as transforms\n",
        "import matplotlib.pyplot as plt\n",
        "\n",
        "############## TENSORBOARD ########################\n",
        "import sys\n",
        "import torch.nn.functional as F\n",
        "from torch.utils.tensorboard import SummaryWriter\n",
        "# default `log_dir` is \"runs\" - we'll be more specific here\n",
        "writer = SummaryWriter('runs/mnist1')\n",
        "###################################################\n",
        "\n",
        "# Device configuration\n",
        "device = torch.device('cuda' if torch.cuda.is_available() else 'cpu')\n",
        "\n",
        "# Hyper-parameters \n",
        "input_size = 784 # 28x28\n",
        "hidden_size = 500 \n",
        "num_classes = 10\n",
        "num_epochs = 1\n",
        "batch_size = 64\n",
        "learning_rate = 0.001\n",
        "\n",
        "# MNIST dataset \n",
        "train_dataset = torchvision.datasets.MNIST(root='./data', \n",
        "                                           train=True, \n",
        "                                           transform=transforms.ToTensor(),  \n",
        "                                           download=True)\n",
        "\n",
        "test_dataset = torchvision.datasets.MNIST(root='./data', \n",
        "                                          train=False, \n",
        "                                          transform=transforms.ToTensor())\n",
        "\n",
        "# Data loader\n",
        "train_loader = torch.utils.data.DataLoader(dataset=train_dataset, \n",
        "                                           batch_size=batch_size, \n",
        "                                           shuffle=True)\n",
        "\n",
        "test_loader = torch.utils.data.DataLoader(dataset=test_dataset, \n",
        "                                          batch_size=batch_size, \n",
        "                                          shuffle=False)\n",
        "\n",
        "examples = iter(test_loader)\n",
        "example_data, example_targets = examples.next()\n",
        "\n",
        "for i in range(6):\n",
        "    plt.subplot(2,3,i+1)\n",
        "    plt.imshow(example_data[i][0], cmap='gray')\n",
        "#plt.show()\n",
        "\n",
        "############## TENSORBOARD ########################\n",
        "img_grid = torchvision.utils.make_grid(example_data)\n",
        "writer.add_image('mnist_images', img_grid)\n",
        "#writer.close()\n",
        "#sys.exit()\n",
        "###################################################\n",
        "\n",
        "# Fully connected neural network with one hidden layer\n",
        "class NeuralNet(nn.Module):\n",
        "    def __init__(self, input_size, hidden_size, num_classes):\n",
        "        super(NeuralNet, self).__init__()\n",
        "        self.input_size = input_size\n",
        "        self.l1 = nn.Linear(input_size, hidden_size) \n",
        "        self.relu = nn.ReLU()\n",
        "        self.l2 = nn.Linear(hidden_size, num_classes)  \n",
        "    \n",
        "    def forward(self, x):\n",
        "        out = self.l1(x)\n",
        "        out = self.relu(out)\n",
        "        out = self.l2(out)\n",
        "        # no activation and no softmax at the end\n",
        "        return out\n",
        "\n",
        "model = NeuralNet(input_size, hidden_size, num_classes).to(device)\n",
        "\n",
        "# Loss and optimizer\n",
        "criterion = nn.CrossEntropyLoss()\n",
        "optimizer = torch.optim.Adam(model.parameters(), lr=learning_rate)  \n",
        "\n",
        "############## TENSORBOARD ########################\n",
        "writer.add_graph(model, example_data.reshape(-1, 28*28).to(device))\n",
        "#writer.close()\n",
        "#sys.exit()\n",
        "###################################################\n",
        "\n",
        "# Train the model\n",
        "running_loss = 0.0\n",
        "running_correct = 0\n",
        "n_total_steps = len(train_loader)\n",
        "for epoch in range(num_epochs):\n",
        "    for i, (images, labels) in enumerate(train_loader):  \n",
        "        # origin shape: [100, 1, 28, 28]\n",
        "        # resized: [100, 784]\n",
        "        images = images.reshape(-1, 28*28).to(device)\n",
        "        labels = labels.to(device)\n",
        "        \n",
        "        # Forward pass\n",
        "        outputs = model(images)\n",
        "        loss = criterion(outputs, labels)\n",
        "        \n",
        "        # Backward and optimize\n",
        "        optimizer.zero_grad()\n",
        "        loss.backward()\n",
        "        optimizer.step()\n",
        "        \n",
        "        running_loss += loss.item()\n",
        "\n",
        "        _, predicted = torch.max(outputs.data, 1)\n",
        "        running_correct += (predicted == labels).sum().item()\n",
        "        if (i+1) % 100 == 0:\n",
        "            print (f'Epoch [{epoch+1}/{num_epochs}], Step [{i+1}/{n_total_steps}], Loss: {loss.item():.4f}')\n",
        "            ############## TENSORBOARD ########################\n",
        "            writer.add_scalar('training loss', running_loss / 100, epoch * n_total_steps + i)\n",
        "            writer.add_scalar('accuracy', running_correct / 100, epoch * n_total_steps + i)\n",
        "            running_correct = 0\n",
        "            running_loss = 0.0\n",
        "            ###################################################\n",
        "\n",
        "# Test the model\n",
        "# In test phase, we don't need to compute gradients (for memory efficiency)\n",
        "class_labels = []\n",
        "class_preds = []\n",
        "with torch.no_grad():\n",
        "    n_correct = 0\n",
        "    n_samples = 0\n",
        "    for images, labels in test_loader:\n",
        "        images = images.reshape(-1, 28*28).to(device)\n",
        "        labels = labels.to(device)\n",
        "        outputs = model(images)\n",
        "        # max returns (value ,index)\n",
        "        values, predicted = torch.max(outputs.data, 1)\n",
        "        n_samples += labels.size(0)\n",
        "        n_correct += (predicted == labels).sum().item()\n",
        "\n",
        "        class_probs_batch = [F.softmax(output, dim=0) for output in outputs]\n",
        "\n",
        "        class_preds.append(class_probs_batch)\n",
        "        class_labels.append(predicted)\n",
        "\n",
        "    # 10000, 10, and 10000, 1\n",
        "    # stack concatenates tensors along a new dimension\n",
        "    # cat concatenates tensors in the given dimension\n",
        "    class_preds = torch.cat([torch.stack(batch) for batch in class_preds])\n",
        "    class_labels = torch.cat(class_labels)\n",
        "\n",
        "    acc = 100.0 * n_correct / n_samples\n",
        "    print(f'Accuracy of the network on the 10000 test images: {acc} %')\n",
        "\n",
        "    ############## TENSORBOARD ########################\n",
        "    classes = range(10)\n",
        "    for i in classes:\n",
        "        labels_i = class_labels == i\n",
        "        preds_i = class_preds[:, i]\n",
        "        writer.add_pr_curve(str(i), labels_i, preds_i, global_step=0)\n",
        "        # writer.add_pr_curve()\n",
        "        writer.close()\n",
        "    ###################################################"
      ]
    },
    {
      "cell_type": "code",
      "execution_count": null,
      "metadata": {},
      "outputs": [],
      "source": []
    }
  ],
  "metadata": {
    "colab": {
      "name": "Untitled2.ipynb",
      "provenance": []
    },
    "kernelspec": {
      "name": "python3",
      "display_name": "Python 3.6.9 64-bit",
      "metadata": {
        "interpreter": {
          "hash": "767d51c1340bd893661ea55ea3124f6de3c7a262a8b4abca0554b478b1e2ff90"
        }
      }
    },
    "accelerator": "GPU"
  },
  "nbformat": 4,
  "nbformat_minor": 0
}