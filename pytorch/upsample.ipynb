{
 "cells": [
  {
   "cell_type": "code",
   "execution_count": 27,
   "metadata": {},
   "outputs": [],
   "source": [
    "import torch\n",
    "import torch.nn as nn"
   ]
  },
  {
   "cell_type": "code",
   "execution_count": 51,
   "metadata": {},
   "outputs": [
    {
     "output_type": "execute_result",
     "data": {
      "text/plain": "tensor([[[[1., 2.],\n          [3., 4.]]]])"
     },
     "metadata": {},
     "execution_count": 51
    }
   ],
   "source": [
    "mx = torch.arange(1,5,dtype=torch.float).view(1,1,2,2)\n",
    "mx"
   ]
  },
  {
   "cell_type": "code",
   "execution_count": 47,
   "metadata": {},
   "outputs": [
    {
     "output_type": "execute_result",
     "data": {
      "text/plain": "tensor([[[[1., 1., 2., 2.],\n          [1., 1., 2., 2.],\n          [3., 3., 4., 4.],\n          [3., 3., 4., 4.]]]])"
     },
     "metadata": {},
     "execution_count": 47
    }
   ],
   "source": [
    "fi = nn.Upsample(scale_factor=2, mode='nearest')\n",
    "fi(mx)"
   ]
  },
  {
   "cell_type": "code",
   "execution_count": 34,
   "metadata": {},
   "outputs": [
    {
     "output_type": "execute_result",
     "data": {
      "text/plain": "tensor([[[[1.0000, 1.2500, 1.7500, 2.0000],\n          [1.5000, 1.7500, 2.2500, 2.5000],\n          [2.5000, 2.7500, 3.2500, 3.5000],\n          [3.0000, 3.2500, 3.7500, 4.0000]]]])"
     },
     "metadata": {},
     "execution_count": 34
    }
   ],
   "source": [
    "fi = nn.Upsample(scale_factor=2, mode='bilinear')\n",
    "fi(mx)"
   ]
  },
  {
   "cell_type": "code",
   "execution_count": 35,
   "metadata": {},
   "outputs": [
    {
     "output_type": "execute_result",
     "data": {
      "text/plain": "tensor([[[[1.0000, 1.3333, 1.6667, 2.0000],\n          [1.6667, 2.0000, 2.3333, 2.6667],\n          [2.3333, 2.6667, 3.0000, 3.3333],\n          [3.0000, 3.3333, 3.6667, 4.0000]]]])"
     },
     "metadata": {},
     "execution_count": 35
    }
   ],
   "source": [
    "fi = nn.Upsample(scale_factor=2, mode='bilinear', align_corners=True)\n",
    "fi(mx)"
   ]
  },
  {
   "cell_type": "code",
   "execution_count": 52,
   "metadata": {},
   "outputs": [
    {
     "output_type": "execute_result",
     "data": {
      "text/plain": "tensor([[[[1.0000, 1.3148, 1.6852, 2.0000],\n          [1.6296, 1.9444, 2.3148, 2.6296],\n          [2.3704, 2.6852, 3.0556, 3.3704],\n          [3.0000, 3.3148, 3.6852, 4.0000]]]])"
     },
     "metadata": {},
     "execution_count": 52
    }
   ],
   "source": [
    "fi = nn.Upsample(scale_factor=2, mode='bicubic', align_corners=True)\n",
    "fi(mx)"
   ]
  },
  {
   "cell_type": "code",
   "execution_count": 49,
   "metadata": {},
   "outputs": [
    {
     "output_type": "execute_result",
     "data": {
      "text/plain": "tensor([[[1.0000, 1.2500, 1.7500, 2.0000],\n         [3.0000, 3.2500, 3.7500, 4.0000]]])"
     },
     "metadata": {},
     "execution_count": 49
    }
   ],
   "source": [
    "mx = torch.arange(1,5,dtype=torch.float).view(1,2,2)\n",
    "fi = nn.Upsample(scale_factor=2, mode='linear')\n",
    "fi(mx)"
   ]
  },
  {
   "cell_type": "code",
   "execution_count": null,
   "metadata": {},
   "outputs": [],
   "source": []
  }
 ],
 "metadata": {
  "language_info": {
   "codemirror_mode": {
    "name": "ipython",
    "version": 3
   },
   "file_extension": ".py",
   "mimetype": "text/x-python",
   "name": "python",
   "nbconvert_exporter": "python",
   "pygments_lexer": "ipython3",
   "version": 3
  },
  "orig_nbformat": 2,
  "kernelspec": {
   "name": "python_defaultSpec_1594951152557",
   "display_name": "Python 3.6.8 64-bit"
  }
 },
 "nbformat": 4,
 "nbformat_minor": 2
}