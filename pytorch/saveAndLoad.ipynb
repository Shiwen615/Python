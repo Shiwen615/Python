{
 "cells": [
  {
   "cell_type": "code",
   "execution_count": 1,
   "metadata": {},
   "outputs": [],
   "source": [
    "import torch\n",
    "import torch.nn as nn"
   ]
  },
  {
   "cell_type": "markdown",
   "metadata": {},
   "source": [
    "### 3 DIFFERENT METHODS TO REMEMBER:\n",
    " - torch.save(arg, PATH) # can be model, tensor, or dictionary\n",
    " - torch.load(PATH)\n",
    " - torch.load_state_dict(arg)"
   ]
  },
  {
   "cell_type": "markdown",
   "metadata": {},
   "source": [
    "### 2 DIFFERENT WAYS OF SAVING\n",
    "- 1) lazy way: save whole model  \n",
    "torch.save(model, PATH)  \n",
    "\n",
    ">model class must be defined somewhere  \n",
    "model = torch.load(PATH)\n",
    "model.eval()\n",
    "\n",
    "- 2) recommended way: save only the state_dict\n",
    "torch.save(model.state_dict(), PATH)  \n",
    "\n",
    ">model must be created again with parameters  \n",
    "model = Model(*args, **kwargs)  \n",
    "model.load_state_dict(torch.load(PATH))  \n",
    "model.eval()  "
   ]
  },
  {
   "cell_type": "code",
   "execution_count": 2,
   "metadata": {},
   "outputs": [],
   "source": [
    "class Model(nn.Module):\n",
    "    def __init__(self, n_input_features):\n",
    "        super().__init__()\n",
    "        self.linear = nn.Linear(n_input_features, 1)\n",
    "\n",
    "    def forward(self, x):\n",
    "        x = torch.sigmoid(self.linear(x))\n",
    "        return x"
   ]
  },
  {
   "cell_type": "code",
   "execution_count": 4,
   "metadata": {
    "tags": []
   },
   "outputs": [
    {
     "output_type": "stream",
     "name": "stdout",
     "text": [
      "Parameter containing:\ntensor([[-0.1755, -0.2687,  0.1158,  0.3417, -0.3840,  0.2510]],\n       requires_grad=True)\nParameter containing:\ntensor([-0.2257], requires_grad=True)\n"
     ]
    }
   ],
   "source": [
    "model = Model(n_input_features=6)\n",
    "for param in model.parameters():\n",
    "    print(param)"
   ]
  },
  {
   "cell_type": "code",
   "execution_count": 5,
   "metadata": {},
   "outputs": [],
   "source": [
    "FILE = \"model.pth\"\n",
    "torch.save(model, FILE)"
   ]
  },
  {
   "cell_type": "code",
   "execution_count": 6,
   "metadata": {
    "tags": []
   },
   "outputs": [
    {
     "output_type": "stream",
     "name": "stdout",
     "text": [
      "Parameter containing:\ntensor([[-0.1755, -0.2687,  0.1158,  0.3417, -0.3840,  0.2510]],\n       requires_grad=True)\nParameter containing:\ntensor([-0.2257], requires_grad=True)\n"
     ]
    }
   ],
   "source": [
    "model = torch.load(FILE)\n",
    "model.eval()\n",
    "\n",
    "for param in model.parameters():\n",
    "    print(param)"
   ]
  },
  {
   "cell_type": "code",
   "execution_count": 30,
   "metadata": {},
   "outputs": [],
   "source": [
    "torch.save(model.state_dict(), FILE)"
   ]
  },
  {
   "cell_type": "code",
   "execution_count": 31,
   "metadata": {
    "tags": []
   },
   "outputs": [
    {
     "output_type": "stream",
     "name": "stdout",
     "text": "Parameter containing:\ntensor([[-0.1271, -0.3877,  0.3984,  0.1534,  0.1466,  0.0637]],\n       requires_grad=True)\nParameter containing:\ntensor([-0.3831], requires_grad=True)\n"
    }
   ],
   "source": [
    "loded_model = Model(n_input_features=6)\n",
    "loded_model.load_state_dict(torch.load(FILE))\n",
    "loded_model.eval()\n",
    "\n",
    "for param in model.parameters():\n",
    "    print(param)"
   ]
  },
  {
   "cell_type": "code",
   "execution_count": 41,
   "metadata": {},
   "outputs": [
    {
     "output_type": "execute_result",
     "data": {
      "text/plain": "OrderedDict([('linear.weight',\n              tensor([[-0.1271, -0.3877,  0.3984,  0.1534,  0.1466,  0.0637]])),\n             ('linear.bias', tensor([-0.3831]))])"
     },
     "metadata": {},
     "execution_count": 41
    }
   ],
   "source": [
    "model.state_dict()"
   ]
  },
  {
   "cell_type": "code",
   "execution_count": 42,
   "metadata": {},
   "outputs": [
    {
     "output_type": "execute_result",
     "data": {
      "text/plain": "{'state': {},\n 'param_groups': [{'lr': 0.01,\n   'momentum': 0,\n   'dampening': 0,\n   'weight_decay': 0,\n   'nesterov': False,\n   'params': [2690817806128, 2690817805624]}]}"
     },
     "metadata": {},
     "execution_count": 42
    }
   ],
   "source": [
    "learning_rate = 0.01\n",
    "optimizer = torch.optim.SGD(model.parameters(), lr=learning_rate)\n",
    "\n",
    "optimizer.state_dict()"
   ]
  },
  {
   "cell_type": "code",
   "execution_count": 44,
   "metadata": {},
   "outputs": [],
   "source": [
    "checkPoint = {\n",
    "    \"epoch\": 90,\n",
    "    \"model_state\": model.state_dict(),\n",
    "    \"optim_state\": optimizer.state_dict(),\n",
    "}\n",
    "torch.save(checkPoint, \"checkPoint.pth\")"
   ]
  },
  {
   "cell_type": "code",
   "execution_count": 50,
   "metadata": {},
   "outputs": [],
   "source": [
    "loded_checkPoint = torch.load(\"checkPoint.pth\")\n",
    "\n",
    "epoch = loded_checkPoint[\"epoch\"]\n",
    "\n",
    "model = Model(n_input_features=6)\n",
    "model.load_state_dict(loded_checkPoint[\"model_state\"])\n",
    "\n",
    "optimizer = torch.optim.SGD(model.parameters(), lr=0)\n",
    "optimizer.load_state_dict(loded_checkPoint[\"optim_state\"])"
   ]
  },
  {
   "cell_type": "code",
   "execution_count": 46,
   "metadata": {},
   "outputs": [
    {
     "output_type": "execute_result",
     "data": {
      "text/plain": "{'epoch': 90,\n 'model_state': OrderedDict([('linear.weight',\n               tensor([[-0.1271, -0.3877,  0.3984,  0.1534,  0.1466,  0.0637]])),\n              ('linear.bias', tensor([-0.3831]))]),\n 'optim_state': {'state': {},\n  'param_groups': [{'lr': 0.01,\n    'momentum': 0,\n    'dampening': 0,\n    'weight_decay': 0,\n    'nesterov': False,\n    'params': [2690817806128, 2690817805624]}]}}"
     },
     "metadata": {},
     "execution_count": 46
    }
   ],
   "source": [
    "torch.load(\"checkPoint.pth\")"
   ]
  },
  {
   "cell_type": "code",
   "execution_count": 53,
   "metadata": {},
   "outputs": [
    {
     "output_type": "execute_result",
     "data": {
      "text/plain": "{'state': {},\n 'param_groups': [{'lr': 0.01,\n   'momentum': 0,\n   'dampening': 0,\n   'weight_decay': 0,\n   'nesterov': False,\n   'params': [2692527542920, 2692530951584]}]}"
     },
     "metadata": {},
     "execution_count": 53
    }
   ],
   "source": [
    "optimizer.state_dict()"
   ]
  },
  {
   "cell_type": "code",
   "execution_count": null,
   "metadata": {},
   "outputs": [],
   "source": []
  }
 ],
 "metadata": {
  "language_info": {
   "codemirror_mode": {
    "name": "ipython",
    "version": 3
   },
   "file_extension": ".py",
   "mimetype": "text/x-python",
   "name": "python",
   "nbconvert_exporter": "python",
   "pygments_lexer": "ipython3",
   "version": "3.6.9-final"
  },
  "orig_nbformat": 2,
  "kernelspec": {
   "name": "python3",
   "display_name": "Python 3.6.9 64-bit",
   "metadata": {
    "interpreter": {
     "hash": "767d51c1340bd893661ea55ea3124f6de3c7a262a8b4abca0554b478b1e2ff90"
    }
   }
  }
 },
 "nbformat": 4,
 "nbformat_minor": 2
}